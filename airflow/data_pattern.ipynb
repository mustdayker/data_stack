{
 "cells": [
  {
   "cell_type": "markdown",
   "id": "54b15fda",
   "metadata": {},
   "source": [
    "<a id='head'></a>\n",
    "# Шаблоны работы с данными"
   ]
  },
  {
   "cell_type": "markdown",
   "id": "ca250c97",
   "metadata": {},
   "source": [
    "```puthon\n",
    "sql.SQL(',').join([sql.Placeholder()] * len(headers))\n",
    "```"
   ]
  },
  {
   "cell_type": "markdown",
   "id": "7e8ef5e4",
   "metadata": {},
   "source": [
    "# Оглавление\n",
    "\n",
    "- [**1. Заливка данных**](#part_01)\n",
    "    - [1.1 Заливка CSV чанками с заголовками полей](#part_11)\n",
    "    - [1.2 Заливка CSV чанками без заголовков полей](#part_12)\n",
    "    - [1.3 Решение инкрементной загрузки CSV через onETL с заголовками в исходном файле](#part_13)\n",
    "    - [1.4 Решение инкрементной загрузки CSV через onETL без заголовков в исходном файле](#part_14)\n",
    "    - [1.5 ](#part_15)\n",
    "    - [1.6 ](#part_16)\n",
    "    - [1.7 ](#part_17)\n",
    "    - [1.8 ](#part_18)\n",
    "    - [1.9 ](#part_19)\n",
    "    \n",
    "- [**2.**](#part_02)\n",
    "    - [2.1 ](#part_21)\n",
    "    - [2.2 ](#part_22)\n",
    "    - [2.3 ](#part_23)\n",
    "    - [2.4 ](#part_24)\n",
    "    - [2.5 ](#part_25)\n",
    "    - [2.6 ](#part_26)\n",
    "    - [2.7 ](#part_27)\n",
    "    - [2.8 ](#part_28)\n",
    "    - [2.9 ](#part_29)\n",
    "    \n",
    "- [**3.**](#part_03)\n",
    "    - [3.1 ](#part_31)\n",
    "    - [3.2 ](#part_32)\n",
    "    - [3.3 ](#part_33)\n",
    "    - [3.4 ](#part_34)\n",
    "    - [3.5 ](#part_35)\n",
    "    - [3.6 ](#part_36)\n",
    "    - [3.7 ](#part_37)\n",
    "    - [3.8 ](#part_38)\n",
    "    - [3.9 ](#part_39)\n",
    "\n",
    "- [**4.**](#part_04)\n",
    "    - [4.1 ](#part_41)\n",
    "    - [4.2 ](#part_42)\n",
    "    - [4.3 ](#part_43)\n",
    "    - [4.4 ](#part_44)\n",
    "    - [4.5 ](#part_45)\n",
    "    - [4.6 ](#part_46)\n",
    "    - [4.7 ](#part_47)\n",
    "    - [4.8 ](#part_48)\n",
    "    - [4.9 ](#part_49)\n",
    "\n",
    "- [**5.**](#part_05)\n",
    "    - [5.1 ](#part_51)\n",
    "    - [5.2 ](#part_52)\n",
    "    - [5.3 ](#part_53)\n",
    "    - [5.4 ](#part_54)\n",
    "    - [5.5 ](#part_55)\n",
    "    - [5.6 ](#part_56)\n",
    "    - [5.7 ](#part_57)\n",
    "    - [5.8 ](#part_58)\n",
    "    - [5.9 ](#part_59)\n",
    "    \n",
    "- [**6.**](#part_06)\n",
    "    - [6.1 ](#part_61)\n",
    "    - [6.2 ](#part_62)\n",
    "    - [6.3 ](#part_63)\n",
    "    - [6.4 ](#part_64)\n",
    "    - [6.5 ](#part_65)\n",
    "    - [6.6 ](#part_66)\n",
    "    - [6.7 ](#part_67)\n",
    "    - [6.8 ](#part_68)\n",
    "    - [6.9 ](#part_69)\n",
    "\n",
    "- [**7.**](#part_07)\n",
    "    - [7.1 ](#part_71)\n",
    "    - [7.2 ](#part_72)\n",
    "    - [7.3 ](#part_73)\n",
    "    - [7.4 ](#part_74)\n",
    "    - [7.5 ](#part_75)\n",
    "    - [7.6 ](#part_76)\n",
    "    - [7.7 ](#part_77)\n",
    "    - [7.8 ](#part_78)\n",
    "    - [7.9 ](#part_79)\n",
    "\n",
    "- [**8.**](#part_08)\n",
    "    - [8.1 ](#part_81)\n",
    "    - [8.2 ](#part_82)\n",
    "    - [8.3 ](#part_83)\n",
    "    - [8.4 ](#part_84)\n",
    "    - [8.5 ](#part_85)\n",
    "    - [8.6 ](#part_86)\n",
    "    - [8.7 ](#part_87)\n",
    "    - [8.8 ](#part_88)\n",
    "    - [8.9 ](#part_89)\n",
    "\n",
    "- [**9.**](#part_09)\n",
    "    - [9.1 ](#part_91)\n",
    "    - [9.2 ](#part_92)\n",
    "    - [9.3 ](#part_93)\n",
    "    - [9.4 ](#part_94)\n",
    "    - [9.5 ](#part_95)\n",
    "    - [9.6 ](#part_96)\n",
    "    - [9.7 ](#part_97)\n",
    "    - [9.8 ](#part_98)\n",
    "    - [9.9 ](#part_99)"
   ]
  },
  {
   "cell_type": "markdown",
   "id": "24612d38",
   "metadata": {},
   "source": [
    "---"
   ]
  },
  {
   "cell_type": "markdown",
   "id": "a32e86ce",
   "metadata": {},
   "source": [
    "<a id='part_01'></a>\n",
    "# 1. Заливка данных [▴](#head)"
   ]
  },
  {
   "cell_type": "markdown",
   "id": "a75be38c",
   "metadata": {},
   "source": [
    "<a id='part_11'></a>\n",
    "## 1.1 Заливка CSV чанками с заголовками полей [▴](#head)"
   ]
  },
  {
   "cell_type": "markdown",
   "id": "57ed9de9",
   "metadata": {},
   "source": [
    "```python\n",
    "import pandas as pd\n",
    "import psycopg2\n",
    "from psycopg2 import sql\n",
    "\n",
    "# Параметры подключения к базе данных\n",
    "conn_params = {\n",
    "    'dbname': 'your_database',\n",
    "    'user': 'your_username',\n",
    "    'password': 'your_password',\n",
    "    'host': 'your_host',\n",
    "    'port': 'your_port'\n",
    "}\n",
    "\n",
    "# Имя таблицы в PostgreSQL\n",
    "table_name = 'your_table'\n",
    "\n",
    "# Путь к CSV файлу\n",
    "csv_file_path = 'path/to/your/large_file.csv'\n",
    "\n",
    "# Размер чанка (количество строк для обработки за один раз)\n",
    "chunksize = 10000\n",
    "\n",
    "# Подключение к базе данных\n",
    "conn = psycopg2.connect(**conn_params)\n",
    "cursor = conn.cursor()\n",
    "\n",
    "# Чтение CSV файла по частям\n",
    "for chunk in pd.read_csv(csv_file_path, chunksize=chunksize):\n",
    "    # Преобразование DataFrame в список кортежей\n",
    "    tuples = [tuple(x) for x in chunk.to_numpy()]\n",
    "    # Получение списка колонок\n",
    "    cols = ','.join(list(chunk.columns))\n",
    "    # SQL запрос для вставки данных\n",
    "    query = sql.SQL(\"INSERT INTO {} ({}) VALUES ({})\").format(\n",
    "        sql.Identifier(table_name), # Возвращает имя таблицы\n",
    "        sql.SQL(cols),              # Возвращает имена столбцов\n",
    "        sql.SQL(',').join(map(sql.Placeholder, chunk.columns)) # Возвращает нужное количество плейсхолдеров\n",
    "    )\n",
    "    # Выполнение запроса\n",
    "    cursor.executemany(query, tuples)\n",
    "    # Фиксация изменений\n",
    "    conn.commit()\n",
    "\n",
    "# Закрытие соединения\n",
    "cursor.close()\n",
    "conn.close()\n",
    "\n",
    "```"
   ]
  },
  {
   "cell_type": "markdown",
   "id": "be2d22a3",
   "metadata": {},
   "source": [
    "<a id='part_12'></a>\n",
    "## 1.2 Заливка CSV чанками без заголовков полей [▴](#head)"
   ]
  },
  {
   "cell_type": "markdown",
   "id": "048e8d48",
   "metadata": {},
   "source": [
    "```python\n",
    "\n",
    "import pandas as pd\n",
    "import psycopg2\n",
    "from psycopg2 import sql\n",
    "\n",
    "# Параметры подключения к базе данных\n",
    "conn_params = {\n",
    "    'dbname': 'your_database',\n",
    "    'user': 'your_username',\n",
    "    'password': 'your_password',\n",
    "    'host': 'your_host',\n",
    "    'port': 'your_port'\n",
    "}\n",
    "\n",
    "# Имя таблицы в PostgreSQL\n",
    "table_name = 'your_table'\n",
    "\n",
    "# Путь к CSV файлу\n",
    "csv_file_path = 'path/to/your/large_file.csv'\n",
    "\n",
    "# Список заголовков\n",
    "headers = ['id', 'user', 'name', 'phone']\n",
    "\n",
    "# Размер чанка (количество строк для обработки за один раз)\n",
    "chunksize = 10000\n",
    "\n",
    "# Подключение к базе данных\n",
    "conn = psycopg2.connect(**conn_params)\n",
    "cursor = conn.cursor()\n",
    "\n",
    "# Чтение CSV файла по частям\n",
    "for chunk in pd.read_csv(csv_file_path, chunksize=chunksize, header=None, names=headers):\n",
    "    # Преобразование DataFrame в список кортежей\n",
    "    tuples = [tuple(x) for x in chunk.to_numpy()]\n",
    "    \n",
    "    # Получение списка колонок\n",
    "    cols = ','.join(headers)\n",
    "    \n",
    "    # SQL запрос для вставки данных\n",
    "    query = sql.SQL(\"INSERT INTO {} ({}) VALUES ({})\").format(\n",
    "        sql.Identifier(table_name),\n",
    "        sql.SQL(cols),\n",
    "        sql.SQL(',').join(map(sql.Placeholder, headers))\n",
    "    )\n",
    "    \n",
    "    # Выполнение запроса\n",
    "    cursor.executemany(query, tuples)\n",
    "    \n",
    "    # Фиксация изменений\n",
    "    conn.commit()\n",
    "\n",
    "# Закрытие соединения\n",
    "cursor.close()\n",
    "conn.close()\n",
    "```\n"
   ]
  },
  {
   "cell_type": "markdown",
   "id": "635c6333",
   "metadata": {},
   "source": [
    "<a id='part_13'></a>\n",
    "## 1.3 Решение инкрементной загрузки CSV через onETL с заголовками в исходном файле  [▴](#head)"
   ]
  },
  {
   "cell_type": "markdown",
   "id": "eff96480",
   "metadata": {},
   "source": [
    "```python\n",
    "from pyspark.sql import SparkSession\n",
    "from onetl.connection import WebDAV, Greenplum\n",
    "from onetl.core import FileFormat\n",
    "from onetl.strategy import IncrementalStrategy\n",
    "\n",
    "# Настройки WebDAV\n",
    "webdav_host = \"https://example.com\"\n",
    "webdav_user = \"your_username\"\n",
    "webdav_password = \"your_password\"\n",
    "webdav_file_path = \"/path/to/file.csv\"  # Путь к файлу на WebDAV\n",
    "\n",
    "# Настройки Greenplum\n",
    "gp_host = \"greenplum_host\"\n",
    "gp_port = 5432\n",
    "gp_database = \"your_database\"\n",
    "gp_user = \"your_username\"\n",
    "gp_password = \"your_password\"\n",
    "gp_schema = \"your_schema\"\n",
    "gp_table = \"your_table\"\n",
    "\n",
    "# Временный файл для скачивания\n",
    "temp_file_path = \"/path/to/temp/file.csv\"\n",
    "\n",
    "# Инициализация Spark-сессии\n",
    "spark = SparkSession.builder \\\n",
    "    .appName(\"CSV to Greenplum\") \\\n",
    "    .getOrCreate()\n",
    "\n",
    "# Подключение к WebDAV\n",
    "webdav = WebDAV(\n",
    "    host=webdav_host,\n",
    "    user=webdav_user,\n",
    "    password=webdav_password,\n",
    ")\n",
    "\n",
    "# Скачивание файла с WebDAV\n",
    "webdav.download_file(remote_path=webdav_file_path, local_path=temp_file_path)\n",
    "\n",
    "# Чтение CSV-файла с помощью Spark\n",
    "df = spark.read \\\n",
    "    .format(\"csv\") \\\n",
    "    .option(\"header\", \"true\") \\  # Если в CSV есть заголовоки\n",
    "    .option(\"inferSchema\", \"true\") \\  # Автоматическое определение типов данных\n",
    "    .load(temp_file_path)\n",
    "\n",
    "# Подключение к Greenplum через onETL\n",
    "gp = Greenplum(\n",
    "    host=gp_host,\n",
    "    port=gp_port,\n",
    "    user=gp_user,\n",
    "    password=gp_password,\n",
    "    database=gp_database,\n",
    ")\n",
    "\n",
    "# Загрузка данных из Spark DataFrame в Greenplum\n",
    "with IncrementalStrategy(gp) as strategy:\n",
    "    strategy.write_dataframe(\n",
    "        df=df,\n",
    "        schema=gp_schema,\n",
    "        table=gp_table,\n",
    "        format=FileFormat.CSV,  # Указываем формат данных\n",
    "    )\n",
    "\n",
    "# Удаляем временный файл\n",
    "import os\n",
    "os.remove(temp_file_path)\n",
    "\n",
    "# Останавливаем Spark-сессию\n",
    "spark.stop()\n",
    "\n",
    "```"
   ]
  },
  {
   "cell_type": "markdown",
   "id": "262343ee",
   "metadata": {},
   "source": [
    "<a id='part_14'></a>\n",
    "## 1.4 Решение инкрементной загрузки CSV через onETL без заголовков в исходном файле [▴](#head)"
   ]
  },
  {
   "cell_type": "markdown",
   "id": "bc219416",
   "metadata": {},
   "source": [
    "```python\n",
    "from pyspark.sql import SparkSession\n",
    "from onetl.connection import WebDAV, Greenplum\n",
    "from onetl.core import FileFormat\n",
    "from onetl.strategy import IncrementalStrategy\n",
    "\n",
    "# Настройки WebDAV\n",
    "webdav_host = \"https://example.com\"\n",
    "webdav_user = \"your_username\"\n",
    "webdav_password = \"your_password\"\n",
    "webdav_file_path = \"/path/to/file.csv\"  # Путь к файлу на WebDAV\n",
    "\n",
    "# Настройки Greenplum\n",
    "gp_host = \"greenplum_host\"\n",
    "gp_port = 5432\n",
    "gp_database = \"your_database\"\n",
    "gp_user = \"your_username\"\n",
    "gp_password = \"your_password\"\n",
    "gp_schema = \"your_schema\"\n",
    "gp_table = \"your_table\"\n",
    "\n",
    "# Временный файл для скачивания\n",
    "temp_file_path = \"/path/to/temp/file.csv\"\n",
    "\n",
    "# Инициализация Spark-сессии\n",
    "spark = SparkSession.builder \\\n",
    "    .appName(\"CSV to Greenplum\") \\\n",
    "    .getOrCreate()\n",
    "\n",
    "# Подключение к WebDAV\n",
    "webdav = WebDAV(\n",
    "    host=webdav_host,\n",
    "    user=webdav_user,\n",
    "    password=webdav_password,\n",
    ")\n",
    "\n",
    "# Скачивание файла с WebDAV\n",
    "webdav.download_file(remote_path=webdav_file_path, local_path=temp_file_path)\n",
    "\n",
    "from pyspark.sql.types import StructType, StructField, StringType, IntegerType\n",
    "\n",
    "# Определяем схему вручную\n",
    "schema = StructType([\n",
    "    StructField(\"name\", StringType(), nullable=True),\n",
    "    StructField(\"age\", IntegerType(), nullable=True),\n",
    "    StructField(\"city\", StringType(), nullable=True),\n",
    "])\n",
    "\n",
    "df = spark.read \\\n",
    "    .format(\"csv\") \\\n",
    "    .option(\"header\", \"true\") \\\n",
    "    .schema(schema) \\  # Используем ручную схему\n",
    "    .load(temp_file_path)\n",
    "\n",
    "# Подключение к Greenplum через onETL\n",
    "gp = Greenplum(\n",
    "    host=gp_host,\n",
    "    port=gp_port,\n",
    "    user=gp_user,\n",
    "    password=gp_password,\n",
    "    database=gp_database,\n",
    ")\n",
    "\n",
    "# Загрузка данных из Spark DataFrame в Greenplum\n",
    "with IncrementalStrategy(gp) as strategy:\n",
    "    strategy.write_dataframe(\n",
    "        df=df,\n",
    "        schema=gp_schema,\n",
    "        table=gp_table,\n",
    "        format=FileFormat.CSV,  # Указываем формат данных\n",
    "    )\n",
    "\n",
    "# Удаляем временный файл\n",
    "import os\n",
    "os.remove(temp_file_path)\n",
    "\n",
    "# Останавливаем Spark-сессию\n",
    "spark.stop()\n",
    "\n",
    "```"
   ]
  },
  {
   "cell_type": "markdown",
   "id": "d18537db",
   "metadata": {},
   "source": [
    "<a id='part_15'></a>\n",
    "## 1.5 [▴](#head)"
   ]
  },
  {
   "cell_type": "markdown",
   "id": "867129dc",
   "metadata": {},
   "source": [
    "<a id='part_16'></a>\n",
    "## 1.6 [▴](#head)"
   ]
  },
  {
   "cell_type": "markdown",
   "id": "c66ea1f8",
   "metadata": {},
   "source": [
    "<a id='part_17'></a>\n",
    "## 1.7 [▴](#head)"
   ]
  },
  {
   "cell_type": "markdown",
   "id": "3e2b3b95",
   "metadata": {},
   "source": [
    "<a id='part_18'></a>\n",
    "## 1.8 [▴](#head)"
   ]
  },
  {
   "cell_type": "markdown",
   "id": "5390c45b",
   "metadata": {},
   "source": [
    "<a id='part_19'></a>\n",
    "## 1.9 [▴](#head)"
   ]
  },
  {
   "cell_type": "markdown",
   "id": "f8821b74",
   "metadata": {},
   "source": [
    "---"
   ]
  },
  {
   "cell_type": "markdown",
   "id": "3f69b811",
   "metadata": {},
   "source": [
    "<a id='part_02'></a>\n",
    "# 2. [▴](#head)"
   ]
  },
  {
   "cell_type": "markdown",
   "id": "f00008ef",
   "metadata": {},
   "source": [
    "<a id='part_21'></a>\n",
    "## 2.1 [▴](#head)"
   ]
  },
  {
   "cell_type": "markdown",
   "id": "d1aab287",
   "metadata": {},
   "source": [
    "<a id='part_22'></a>\n",
    "## 2.2 [▴](#head)"
   ]
  },
  {
   "cell_type": "markdown",
   "id": "5ab5fcbf",
   "metadata": {},
   "source": [
    "<a id='part_23'></a>\n",
    "## 2.3 [▴](#head)"
   ]
  },
  {
   "cell_type": "markdown",
   "id": "88fe31fa",
   "metadata": {},
   "source": [
    "<a id='part_24'></a>\n",
    "## 2.4 [▴](#head)"
   ]
  },
  {
   "cell_type": "markdown",
   "id": "5afc9a23",
   "metadata": {},
   "source": [
    "<a id='part_25'></a>\n",
    "## 2.5 [▴](#head)"
   ]
  },
  {
   "cell_type": "markdown",
   "id": "4df6c646",
   "metadata": {},
   "source": [
    "<a id='part_26'></a>\n",
    "## 2.6 [▴](#head)"
   ]
  },
  {
   "cell_type": "markdown",
   "id": "7ce76027",
   "metadata": {},
   "source": [
    "<a id='part_27'></a>\n",
    "## 2.7 [▴](#head)"
   ]
  },
  {
   "cell_type": "markdown",
   "id": "7d8f0944",
   "metadata": {},
   "source": [
    "<a id='part_28'></a>\n",
    "## 2.8 [▴](#head)"
   ]
  },
  {
   "cell_type": "markdown",
   "id": "6525cd50",
   "metadata": {},
   "source": [
    "<a id='part_29'></a>\n",
    "## 2.9 [▴](#head)"
   ]
  },
  {
   "cell_type": "markdown",
   "id": "0da0ce85",
   "metadata": {},
   "source": [
    "---"
   ]
  },
  {
   "cell_type": "markdown",
   "id": "d0c402b9",
   "metadata": {},
   "source": [
    "<a id='part_03'></a>\n",
    "# 3. [▴](#head)"
   ]
  },
  {
   "cell_type": "markdown",
   "id": "1cb73f21",
   "metadata": {},
   "source": [
    "<a id='part_31'></a>\n",
    "## 3.1 [▴](#head)"
   ]
  },
  {
   "cell_type": "markdown",
   "id": "2a600c85",
   "metadata": {},
   "source": [
    "<a id='part_32'></a>\n",
    "## 3.2 [▴](#head)"
   ]
  },
  {
   "cell_type": "markdown",
   "id": "49ea2bac",
   "metadata": {},
   "source": [
    "<a id='part_33'></a>\n",
    "## 3.3 [▴](#head)"
   ]
  },
  {
   "cell_type": "markdown",
   "id": "3e384270",
   "metadata": {},
   "source": [
    "<a id='part_34'></a>\n",
    "## 3.4 [▴](#head)"
   ]
  },
  {
   "cell_type": "markdown",
   "id": "25fd7e5c",
   "metadata": {},
   "source": [
    "<a id='part_35'></a>\n",
    "## 3.5 [▴](#head)"
   ]
  },
  {
   "cell_type": "markdown",
   "id": "99aa6e4e",
   "metadata": {},
   "source": [
    "<a id='part_36'></a>\n",
    "## 3.6 [▴](#head)"
   ]
  },
  {
   "cell_type": "markdown",
   "id": "21ab5b09",
   "metadata": {},
   "source": [
    "<a id='part_37'></a>\n",
    "## 3.7 [▴](#head)"
   ]
  },
  {
   "cell_type": "markdown",
   "id": "4daea19d",
   "metadata": {},
   "source": [
    "<a id='part_38'></a>\n",
    "## 3.8 [▴](#head)"
   ]
  },
  {
   "cell_type": "markdown",
   "id": "8969643c",
   "metadata": {},
   "source": [
    "<a id='part_39'></a>\n",
    "## 3.9 [▴](#head)"
   ]
  },
  {
   "cell_type": "markdown",
   "id": "e15c21a2",
   "metadata": {},
   "source": [
    "---"
   ]
  },
  {
   "cell_type": "markdown",
   "id": "baa0fe04",
   "metadata": {},
   "source": [
    "<a id='part_04'></a>\n",
    "# 4. [▴](#head)"
   ]
  },
  {
   "cell_type": "markdown",
   "id": "1e732dd5",
   "metadata": {},
   "source": [
    "<a id='part_41'></a>\n",
    "## 4.1 [▴](#head)"
   ]
  },
  {
   "cell_type": "markdown",
   "id": "517c20ef",
   "metadata": {},
   "source": [
    "<a id='part_42'></a>\n",
    "## 4.2 [▴](#head)"
   ]
  },
  {
   "cell_type": "markdown",
   "id": "4763be36",
   "metadata": {},
   "source": [
    "<a id='part_43'></a>\n",
    "## 4.3 [▴](#head)"
   ]
  },
  {
   "cell_type": "markdown",
   "id": "c3e2a393",
   "metadata": {},
   "source": [
    "<a id='part_44'></a>\n",
    "## 4.4 [▴](#head)"
   ]
  },
  {
   "cell_type": "markdown",
   "id": "594a6dcc",
   "metadata": {},
   "source": [
    "<a id='part_45'></a>\n",
    "## 4.5 [▴](#head)"
   ]
  },
  {
   "cell_type": "markdown",
   "id": "ca7f8994",
   "metadata": {},
   "source": [
    "<a id='part_46'></a>\n",
    "## 4.6 [▴](#head)"
   ]
  },
  {
   "cell_type": "markdown",
   "id": "472d48b0",
   "metadata": {},
   "source": [
    "<a id='part_47'></a>\n",
    "## 4.7 [▴](#head)"
   ]
  },
  {
   "cell_type": "markdown",
   "id": "cc47509c",
   "metadata": {},
   "source": [
    "<a id='part_48'></a>\n",
    "## 4.8 [▴](#head)"
   ]
  },
  {
   "cell_type": "markdown",
   "id": "81bf2091",
   "metadata": {},
   "source": [
    "<a id='part_49'></a>\n",
    "## 4.9 [▴](#head)"
   ]
  },
  {
   "cell_type": "markdown",
   "id": "74dd4f80",
   "metadata": {},
   "source": [
    "---"
   ]
  },
  {
   "cell_type": "markdown",
   "id": "127755da",
   "metadata": {},
   "source": [
    "<a id='part_05'></a>\n",
    "# 5. [▴](#head)"
   ]
  },
  {
   "cell_type": "markdown",
   "id": "46004df7",
   "metadata": {},
   "source": [
    "<a id='part_51'></a>\n",
    "## 5.1 [▴](#head)"
   ]
  },
  {
   "cell_type": "markdown",
   "id": "8f765bc7",
   "metadata": {},
   "source": [
    "<a id='part_52'></a>\n",
    "## 5.2 [▴](#head)"
   ]
  },
  {
   "cell_type": "markdown",
   "id": "95326fa7",
   "metadata": {},
   "source": [
    "<a id='part_53'></a>\n",
    "## 5.3 [▴](#head)"
   ]
  },
  {
   "cell_type": "markdown",
   "id": "4e9c72ec",
   "metadata": {},
   "source": [
    "<a id='part_54'></a>\n",
    "## 5.4 [▴](#head)"
   ]
  },
  {
   "cell_type": "markdown",
   "id": "602016a3",
   "metadata": {},
   "source": [
    "<a id='part_55'></a>\n",
    "## 5.5 [▴](#head)"
   ]
  },
  {
   "cell_type": "markdown",
   "id": "2d177859",
   "metadata": {},
   "source": [
    "<a id='part_56'></a>\n",
    "## 5.6 [▴](#head)"
   ]
  },
  {
   "cell_type": "markdown",
   "id": "62b5ccf4",
   "metadata": {},
   "source": [
    "<a id='part_57'></a>\n",
    "## 5.7 [▴](#head)"
   ]
  },
  {
   "cell_type": "markdown",
   "id": "7a8648aa",
   "metadata": {},
   "source": [
    "<a id='part_58'></a>\n",
    "## 5.8 [▴](#head)"
   ]
  },
  {
   "cell_type": "markdown",
   "id": "f8ee80ce",
   "metadata": {},
   "source": [
    "<a id='part_59'></a>\n",
    "## 5.9 [▴](#head)"
   ]
  },
  {
   "cell_type": "markdown",
   "id": "d81d6360",
   "metadata": {},
   "source": [
    "---"
   ]
  },
  {
   "cell_type": "markdown",
   "id": "201b3d2b",
   "metadata": {},
   "source": [
    "<a id='part_06'></a>\n",
    "# 6. [▴](#head)"
   ]
  },
  {
   "cell_type": "markdown",
   "id": "74d90e7f",
   "metadata": {},
   "source": [
    "<a id='part_61'></a>\n",
    "## 6.1 [▴](#head)"
   ]
  },
  {
   "cell_type": "markdown",
   "id": "38e13b46",
   "metadata": {},
   "source": [
    "<a id='part_62'></a>\n",
    "## 6.2 [▴](#head)"
   ]
  },
  {
   "cell_type": "markdown",
   "id": "ab11b335",
   "metadata": {},
   "source": [
    "<a id='part_63'></a>\n",
    "## 6.3 [▴](#head)"
   ]
  },
  {
   "cell_type": "markdown",
   "id": "7636b2da",
   "metadata": {},
   "source": [
    "<a id='part_64'></a>\n",
    "## 6.4 [▴](#head)"
   ]
  },
  {
   "cell_type": "markdown",
   "id": "1e1bce88",
   "metadata": {},
   "source": [
    "<a id='part_65'></a>\n",
    "## 6.5 [▴](#head)"
   ]
  },
  {
   "cell_type": "markdown",
   "id": "c2e5bb06",
   "metadata": {},
   "source": [
    "<a id='part_66'></a>\n",
    "## 6.6 [▴](#head)"
   ]
  },
  {
   "cell_type": "markdown",
   "id": "12b17e11",
   "metadata": {},
   "source": [
    "<a id='part_67'></a>\n",
    "## 6.7 [▴](#head)"
   ]
  },
  {
   "cell_type": "markdown",
   "id": "717d86f2",
   "metadata": {},
   "source": [
    "<a id='part_68'></a>\n",
    "## 6.8 [▴](#head)"
   ]
  },
  {
   "cell_type": "markdown",
   "id": "09fccdf8",
   "metadata": {},
   "source": [
    "<a id='part_69'></a>\n",
    "## 6.9 [▴](#head)"
   ]
  },
  {
   "cell_type": "markdown",
   "id": "689df9cc",
   "metadata": {},
   "source": [
    "---"
   ]
  },
  {
   "cell_type": "markdown",
   "id": "4977f42f",
   "metadata": {},
   "source": [
    "<a id='part_07'></a>\n",
    "# 7. [▴](#head)"
   ]
  },
  {
   "cell_type": "markdown",
   "id": "fbfd08e2",
   "metadata": {},
   "source": [
    "<a id='part_71'></a>\n",
    "## 7.1 [▴](#head)"
   ]
  },
  {
   "cell_type": "markdown",
   "id": "c378880f",
   "metadata": {},
   "source": [
    "<a id='part_72'></a>\n",
    "## 7.2 [▴](#head)"
   ]
  },
  {
   "cell_type": "markdown",
   "id": "f4a54f7f",
   "metadata": {},
   "source": [
    "<a id='part_73'></a>\n",
    "## 7.3 [▴](#head)"
   ]
  },
  {
   "cell_type": "markdown",
   "id": "5bcf7a24",
   "metadata": {},
   "source": [
    "<a id='part_74'></a>\n",
    "## 7.4 [▴](#head)"
   ]
  },
  {
   "cell_type": "markdown",
   "id": "8fa848c3",
   "metadata": {},
   "source": [
    "<a id='part_75'></a>\n",
    "## 7.5 [▴](#head)"
   ]
  },
  {
   "cell_type": "markdown",
   "id": "fada24cf",
   "metadata": {},
   "source": [
    "<a id='part_76'></a>\n",
    "## 7.6 [▴](#head)"
   ]
  },
  {
   "cell_type": "markdown",
   "id": "176c7b91",
   "metadata": {},
   "source": [
    "<a id='part_77'></a>\n",
    "## 7.7 [▴](#head)"
   ]
  },
  {
   "cell_type": "markdown",
   "id": "7c59f727",
   "metadata": {},
   "source": [
    "<a id='part_78'></a>\n",
    "## 7.8 [▴](#head)"
   ]
  },
  {
   "cell_type": "markdown",
   "id": "d9726c6d",
   "metadata": {},
   "source": [
    "<a id='part_79'></a>\n",
    "## 7.9 [▴](#head)"
   ]
  },
  {
   "cell_type": "markdown",
   "id": "e497aed5",
   "metadata": {},
   "source": [
    "---"
   ]
  },
  {
   "cell_type": "markdown",
   "id": "c7842be1",
   "metadata": {},
   "source": [
    "<a id='part_08'></a>\n",
    "# 8. [▴](#head)"
   ]
  },
  {
   "cell_type": "markdown",
   "id": "485f3a62",
   "metadata": {},
   "source": [
    "<a id='part_81'></a>\n",
    "## 8.1 [▴](#head)"
   ]
  },
  {
   "cell_type": "markdown",
   "id": "26833e83",
   "metadata": {},
   "source": [
    "<a id='part_82'></a>\n",
    "## 8.2 [▴](#head)"
   ]
  },
  {
   "cell_type": "markdown",
   "id": "72403951",
   "metadata": {},
   "source": [
    "<a id='part_83'></a>\n",
    "## 8.3 [▴](#head)"
   ]
  },
  {
   "cell_type": "markdown",
   "id": "719fbc46",
   "metadata": {},
   "source": [
    "<a id='part_84'></a>\n",
    "## 8.4 [▴](#head)"
   ]
  },
  {
   "cell_type": "markdown",
   "id": "19e10b9d",
   "metadata": {},
   "source": [
    "<a id='part_85'></a>\n",
    "## 8.5 [▴](#head)"
   ]
  },
  {
   "cell_type": "markdown",
   "id": "d6a8b7fb",
   "metadata": {},
   "source": [
    "<a id='part_86'></a>\n",
    "## 8.6 [▴](#head)"
   ]
  },
  {
   "cell_type": "markdown",
   "id": "4322b2d7",
   "metadata": {},
   "source": [
    "<a id='part_87'></a>\n",
    "## 8.7 [▴](#head)"
   ]
  },
  {
   "cell_type": "markdown",
   "id": "a18433dc",
   "metadata": {},
   "source": [
    "<a id='part_88'></a>\n",
    "## 8.8 [▴](#head)"
   ]
  },
  {
   "cell_type": "markdown",
   "id": "a9bca73b",
   "metadata": {},
   "source": [
    "<a id='part_89'></a>\n",
    "## 8.9 [▴](#head)"
   ]
  },
  {
   "cell_type": "markdown",
   "id": "c84cc663",
   "metadata": {},
   "source": [
    "---"
   ]
  },
  {
   "cell_type": "markdown",
   "id": "10bdb581",
   "metadata": {},
   "source": [
    "<a id='part_09'></a>\n",
    "# 9. [▴](#head)"
   ]
  },
  {
   "cell_type": "markdown",
   "id": "9fa5404a",
   "metadata": {},
   "source": [
    "<a id='part_91'></a>\n",
    "## 9.1 [▴](#head)"
   ]
  },
  {
   "cell_type": "markdown",
   "id": "7d307261",
   "metadata": {},
   "source": [
    "<a id='part_92'></a>\n",
    "## 9.2 [▴](#head)"
   ]
  },
  {
   "cell_type": "markdown",
   "id": "128212ef",
   "metadata": {},
   "source": [
    "<a id='part_93'></a>\n",
    "## 9.3 [▴](#head)"
   ]
  },
  {
   "cell_type": "markdown",
   "id": "84e6b605",
   "metadata": {},
   "source": [
    "<a id='part_94'></a>\n",
    "## 9.4 [▴](#head)"
   ]
  },
  {
   "cell_type": "markdown",
   "id": "9318eb37",
   "metadata": {},
   "source": [
    "<a id='part_95'></a>\n",
    "## 9.5 [▴](#head)"
   ]
  },
  {
   "cell_type": "markdown",
   "id": "696f9437",
   "metadata": {},
   "source": [
    "<a id='part_96'></a>\n",
    "## 9.6 [▴](#head)"
   ]
  },
  {
   "cell_type": "markdown",
   "id": "3d3f7dc5",
   "metadata": {},
   "source": [
    "<a id='part_97'></a>\n",
    "## 9.7 [▴](#head)"
   ]
  },
  {
   "cell_type": "markdown",
   "id": "a3e9c96e",
   "metadata": {},
   "source": [
    "<a id='part_98'></a>\n",
    "## 9.8 [▴](#head)"
   ]
  },
  {
   "cell_type": "markdown",
   "id": "11ff4f3b",
   "metadata": {},
   "source": [
    "<a id='part_99'></a>\n",
    "## 9.9 [▴](#head)"
   ]
  }
 ],
 "metadata": {
  "kernelspec": {
   "display_name": "Python 3 (ipykernel)",
   "language": "python",
   "name": "python3"
  },
  "language_info": {
   "codemirror_mode": {
    "name": "ipython",
    "version": 3
   },
   "file_extension": ".py",
   "mimetype": "text/x-python",
   "name": "python",
   "nbconvert_exporter": "python",
   "pygments_lexer": "ipython3",
   "version": "3.9.12"
  }
 },
 "nbformat": 4,
 "nbformat_minor": 5
}
