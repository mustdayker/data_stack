{
 "cells": [
  {
   "cell_type": "markdown",
   "id": "54b15fda",
   "metadata": {},
   "source": [
    "<a id='head'></a>\n",
    "# Docker - SelfEdu"
   ]
  },
  {
   "cell_type": "markdown",
   "id": "7e8ef5e4",
   "metadata": {},
   "source": [
    "# Оглавление\n",
    "\n",
    "- [**1. Основы**](#part_01)\n",
    "    - [1.1 Установка и настройка Docker](#part_11)\n",
    "    - [1.2 Скачивание образов](#part_12)\n",
    "    - [1.3 Запуск образов](#part_13)\n",
    "    - [1.4 Запуск контейнеров](#part_14)\n",
    "    - [1.5 Удаление контейнеров и образов](#part_15)\n",
    "    \n",
    "- [**2. Собственные образы**](#part_02)\n",
    "    - [2.1 ](#part_21)\n",
    "    - [2.2 ](#part_22)\n",
    "    - [2.3 ](#part_23)\n",
    "    - [2.4 ](#part_24)\n",
    "    - [2.5 ](#part_25)\n",
    "    - [2.6 ](#part_26)\n",
    "    - [2.7 ](#part_27)\n",
    "    - [2.8 ](#part_28)\n",
    "    - [2.9 ](#part_29)\n",
    "    \n",
    "- [**3.**](#part_03)\n",
    "    - [3.1 ](#part_31)\n",
    "    - [3.2 ](#part_32)\n",
    "    - [3.3 ](#part_33)\n",
    "    - [3.4 ](#part_34)\n",
    "    - [3.5 ](#part_35)\n",
    "    - [3.6 ](#part_36)\n",
    "    - [3.7 ](#part_37)\n",
    "    - [3.8 ](#part_38)\n",
    "    - [3.9 ](#part_39)\n",
    "\n",
    "- [**4.**](#part_04)\n",
    "    - [4.1 ](#part_41)\n",
    "    - [4.2 ](#part_42)\n",
    "    - [4.3 ](#part_43)\n",
    "    - [4.4 ](#part_44)\n",
    "    - [4.5 ](#part_45)\n",
    "    - [4.6 ](#part_46)\n",
    "    - [4.7 ](#part_47)\n",
    "    - [4.8 ](#part_48)\n",
    "    - [4.9 ](#part_49)\n",
    "\n",
    "- [**5.**](#part_05)\n",
    "    - [5.1 ](#part_51)\n",
    "    - [5.2 ](#part_52)\n",
    "    - [5.3 ](#part_53)\n",
    "    - [5.4 ](#part_54)\n",
    "    - [5.5 ](#part_55)\n",
    "    - [5.6 ](#part_56)\n",
    "    - [5.7 ](#part_57)\n",
    "    - [5.8 ](#part_58)\n",
    "    - [5.9 ](#part_59)\n",
    "    \n",
    "- [**6.**](#part_06)\n",
    "    - [6.1 ](#part_61)\n",
    "    - [6.2 ](#part_62)\n",
    "    - [6.3 ](#part_63)\n",
    "    - [6.4 ](#part_64)\n",
    "    - [6.5 ](#part_65)\n",
    "    - [6.6 ](#part_66)\n",
    "    - [6.7 ](#part_67)\n",
    "    - [6.8 ](#part_68)\n",
    "    - [6.9 ](#part_69)\n",
    "\n",
    "- [**7.**](#part_07)\n",
    "    - [7.1 ](#part_71)\n",
    "    - [7.2 ](#part_72)\n",
    "    - [7.3 ](#part_73)\n",
    "    - [7.4 ](#part_74)\n",
    "    - [7.5 ](#part_75)\n",
    "    - [7.6 ](#part_76)\n",
    "    - [7.7 ](#part_77)\n",
    "    - [7.8 ](#part_78)\n",
    "    - [7.9 ](#part_79)\n",
    "\n",
    "- [**8.**](#part_08)\n",
    "    - [8.1 ](#part_81)\n",
    "    - [8.2 ](#part_82)\n",
    "    - [8.3 ](#part_83)\n",
    "    - [8.4 ](#part_84)\n",
    "    - [8.5 ](#part_85)\n",
    "    - [8.6 ](#part_86)\n",
    "    - [8.7 ](#part_87)\n",
    "    - [8.8 ](#part_88)\n",
    "    - [8.9 ](#part_89)\n",
    "\n",
    "- [**9.**](#part_09)\n",
    "    - [9.1 ](#part_91)\n",
    "    - [9.2 ](#part_92)\n",
    "    - [9.3 ](#part_93)\n",
    "    - [9.4 ](#part_94)\n",
    "    - [9.5 ](#part_95)\n",
    "    - [9.6 ](#part_96)\n",
    "    - [9.7 ](#part_97)\n",
    "    - [9.8 ](#part_98)\n",
    "    - [9.9 ](#part_99)"
   ]
  },
  {
   "cell_type": "markdown",
   "id": "24612d38",
   "metadata": {},
   "source": [
    "---"
   ]
  },
  {
   "cell_type": "markdown",
   "id": "a32e86ce",
   "metadata": {},
   "source": [
    "<a id='part_01'></a>\n",
    "# 1. Основы [▴](#head)"
   ]
  },
  {
   "cell_type": "markdown",
   "id": "a75be38c",
   "metadata": {},
   "source": [
    "<a id='part_11'></a>\n",
    "## 1.1 Установка и настройка Docker [▴](#head)"
   ]
  },
  {
   "cell_type": "markdown",
   "id": "82831243",
   "metadata": {},
   "source": [
    "![](data/screen_001.png)"
   ]
  },
  {
   "cell_type": "markdown",
   "id": "eb494467",
   "metadata": {},
   "source": [
    "![](data/screen_002.png)"
   ]
  },
  {
   "cell_type": "markdown",
   "id": "291d4847",
   "metadata": {},
   "source": [
    "Docker работает на ядре Linux. Чтобы она запустился на Windows, должен быть установлен WSL.\n",
    "\n",
    "**Првоерить установлен ли WSL на ПК:**\n",
    "1. Открыть `PowerShell`\n",
    "2. Ввести команду:\n",
    "\n",
    "```powershell\n",
    "wsl -v\n",
    "```\n",
    "\n",
    "\n",
    "![](data/screen_003.png)"
   ]
  },
  {
   "cell_type": "markdown",
   "id": "e03aa95b",
   "metadata": {},
   "source": [
    "**Установка WSL**\n",
    "\n",
    "```powershell\n",
    "wsl --install\n",
    "```\n",
    "\n",
    "![](data/screen_004.png)"
   ]
  },
  {
   "cell_type": "markdown",
   "id": "868cbf24",
   "metadata": {},
   "source": [
    "**Обновление WSL**\n",
    "\n",
    "```powershell\n",
    "wsl --update\n",
    "```\n",
    "\n",
    "![](data/screen_005.png)"
   ]
  },
  {
   "cell_type": "markdown",
   "id": "553b30d2",
   "metadata": {},
   "source": [
    "После того как все установится, надо зайти в панель инструментов и ввести в поиске: `Включение или отключение компонентов Windows`\n",
    "\n",
    "![](data/screen_006.png)"
   ]
  },
  {
   "cell_type": "markdown",
   "id": "68c71db1",
   "metadata": {},
   "source": [
    "И в открывшимся окне, надо убедиться что стоит галочка напротив пункта: `Подсистема Windows для Linux`\n",
    "\n",
    "![](data/screen_007.png)"
   ]
  },
  {
   "cell_type": "markdown",
   "id": "7427a56b",
   "metadata": {},
   "source": [
    "Скачать последнюю версию Docker с родного сайта. Нужна версия для WSL.\n",
    "\n",
    "В BIOS включить пункт `Enable hardware virtualization`\n",
    "\n",
    "![](data/screen_008.png)"
   ]
  },
  {
   "cell_type": "markdown",
   "id": "47c059e2",
   "metadata": {},
   "source": [
    "После чего установить докер"
   ]
  },
  {
   "cell_type": "markdown",
   "id": "ac5aa9d8",
   "metadata": {},
   "source": [
    "Установить место хранения контейнеров\n",
    "\n",
    "![](data/screen_009.png)"
   ]
  },
  {
   "cell_type": "markdown",
   "id": "87299b7c",
   "metadata": {},
   "source": [
    "Проверяем что докер работает.\n",
    "\n",
    "Открываем `PowerShell` и выполняем команду\n",
    "\n",
    "```powershell\n",
    "PS C:\\Users\\mustd> docker\n",
    "Usage:  docker [OPTIONS] COMMAND\n",
    "\n",
    "A self-sufficient runtime for containers\n",
    "\n",
    "Common Commands:\n",
    "  run         Create and run a new container from an image\n",
    "  exec        Execute a command in a running container\n",
    "  ps          List containers\n",
    "  build       Build an image from a Dockerfile\n",
    "  pull        Download an image from a registry\n",
    "  push        Upload an image to a registry\n",
    "  images      List images\n",
    "  login       Authenticate to a registry\n",
    "  logout      Log out from a registry\n",
    "  search      Search Docker Hub for images\n",
    "  version     Show the Docker version information\n",
    "  info        Display system-wide information\n",
    "\n",
    "Management Commands:\n",
    "  ai*         Docker AI Agent - Ask Gordon\n",
    "  builder     Manage builds\n",
    "  buildx*     Docker Buildx\n",
    "  cloud*      Docker Cloud\n",
    "  compose*    Docker Compose\n",
    "  container   Manage containers\n",
    "  context     Manage contexts\n",
    "  debug*      Get a shell into any image or container\n",
    "  desktop*    Docker Desktop commands (Beta)\n",
    "  dev*        Docker Dev Environments\n",
    "  extension*  Manages Docker extensions\n",
    "  image       Manage images\n",
    "  init*       Creates Docker-related starter files for your project\n",
    "  manifest    Manage Docker image manifests and manifest lists\n",
    "  network     Manage networks\n",
    "  plugin      Manage plugins\n",
    "  sbom*       View the packaged-based Software Bill Of Materials (SBOM) for an image\n",
    "  scout*      Docker Scout\n",
    "  system      Manage Docker\n",
    "  trust       Manage trust on Docker images\n",
    "  volume      Manage volumes\n",
    "\n",
    "Swarm Commands:\n",
    "  swarm       Manage Swarm\n",
    "\n",
    "Commands:\n",
    "  attach      Attach local standard input, output, and error streams to a running container\n",
    "  commit      Create a new image from a container's changes\n",
    "  cp          Copy files/folders between a container and the local filesystem\n",
    "  create      Create a new container\n",
    "  diff        Inspect changes to files or directories on a container's filesystem\n",
    "  events      Get real time events from the server\n",
    "  export      Export a container's filesystem as a tar archive\n",
    "  history     Show the history of an image\n",
    "  import      Import the contents from a tarball to create a filesystem image\n",
    "  inspect     Return low-level information on Docker objects\n",
    "  kill        Kill one or more running containers\n",
    "  load        Load an image from a tar archive or STDIN\n",
    "  logs        Fetch the logs of a container\n",
    "  pause       Pause all processes within one or more containers\n",
    "  port        List port mappings or a specific mapping for the container\n",
    "  rename      Rename a container\n",
    "  restart     Restart one or more containers\n",
    "  rm          Remove one or more containers\n",
    "  rmi         Remove one or more images\n",
    "  save        Save one or more images to a tar archive (streamed to STDOUT by default)\n",
    "  start       Start one or more stopped containers\n",
    "  stats       Display a live stream of container(s) resource usage statistics\n",
    "  stop        Stop one or more running containers\n",
    "  tag         Create a tag TARGET_IMAGE that refers to SOURCE_IMAGE\n",
    "  top         Display the running processes of a container\n",
    "  unpause     Unpause all processes within one or more containers\n",
    "  update      Update configuration of one or more containers\n",
    "  wait        Block until one or more containers stop, then print their exit codes\n",
    "\n",
    "Global Options:\n",
    "      --config string      Location of client config files (default\n",
    "                           \"C:\\\\Users\\\\mustd\\\\.docker\")\n",
    "  -c, --context string     Name of the context to use to connect to the\n",
    "                           daemon (overrides DOCKER_HOST env var and\n",
    "                           default context set with \"docker context use\")\n",
    "  -D, --debug              Enable debug mode\n",
    "  -H, --host list          Daemon socket to connect to\n",
    "  -l, --log-level string   Set the logging level (\"debug\", \"info\",\n",
    "                           \"warn\", \"error\", \"fatal\") (default \"info\")\n",
    "      --tls                Use TLS; implied by --tlsverify\n",
    "      --tlscacert string   Trust certs signed only by this CA (default\n",
    "                           \"C:\\\\Users\\\\mustd\\\\.docker\\\\ca.pem\")\n",
    "      --tlscert string     Path to TLS certificate file (default\n",
    "                           \"C:\\\\Users\\\\mustd\\\\.docker\\\\cert.pem\")\n",
    "      --tlskey string      Path to TLS key file (default\n",
    "                           \"C:\\\\Users\\\\mustd\\\\.docker\\\\key.pem\")\n",
    "      --tlsverify          Use TLS and verify the remote\n",
    "  -v, --version            Print version information and quit\n",
    "\n",
    "Run 'docker COMMAND --help' for more information on a command.\n",
    "\n",
    "For more help on how to use Docker, head to https://docs.docker.com/go/guides/\n",
    "PS C:\\Users\\mustd>\n",
    "```"
   ]
  },
  {
   "cell_type": "markdown",
   "id": "74431778",
   "metadata": {},
   "source": [
    "![](data/screen_010.png)"
   ]
  },
  {
   "cell_type": "markdown",
   "id": "be2d22a3",
   "metadata": {},
   "source": [
    "<a id='part_12'></a>\n",
    "## 1.2 Скачивание образов [▴](#head)"
   ]
  },
  {
   "cell_type": "markdown",
   "id": "25df4cb0",
   "metadata": {},
   "source": [
    "Источник образов [**`https://hub.docker.com/`**](https://hub.docker.com/)"
   ]
  },
  {
   "cell_type": "markdown",
   "id": "171be151",
   "metadata": {},
   "source": [
    "Скачаем образ Hello-World\n",
    "\n",
    "![](data/screen_011.png)"
   ]
  },
  {
   "cell_type": "markdown",
   "id": "2b3ec061",
   "metadata": {},
   "source": [
    "### Команда на скачивание:\n",
    "\n",
    "```powershell\n",
    "docker pull hello-world\n",
    "```"
   ]
  },
  {
   "cell_type": "markdown",
   "id": "8338fa4e",
   "metadata": {},
   "source": [
    "![](data/screen_012.png)"
   ]
  },
  {
   "cell_type": "markdown",
   "id": "8fa48888",
   "metadata": {},
   "source": [
    "![](data/screen_013.png)"
   ]
  },
  {
   "cell_type": "markdown",
   "id": "1df05857",
   "metadata": {},
   "source": [
    "### Вывод на экран доступных образов\n",
    "\n",
    "- `docker images` - Выводит на экран все доступные локальные образы\n"
   ]
  },
  {
   "cell_type": "markdown",
   "id": "c7018076",
   "metadata": {},
   "source": [
    "![](data/screen_014.png)"
   ]
  },
  {
   "cell_type": "markdown",
   "id": "a6d0fc3c",
   "metadata": {},
   "source": [
    "Имя образа состоит из репозитория `REPOSITORY` и версии `TAG` через двоеточие и записывается вот так:\n",
    "\n",
    "```powershell\n",
    "hello-world:latest\n",
    "```\n",
    "\n",
    "То есть команда `docker pull hello-world` аналогична команде:\n",
    "\n",
    "```powershell\n",
    "docker pull hello-world:latest\n",
    "```\n",
    "\n"
   ]
  },
  {
   "cell_type": "markdown",
   "id": "c95d08c1",
   "metadata": {},
   "source": [
    "### Использование тегов\n",
    "\n",
    "Теги нужны для того, чтобы можно было скачать ту или иную сборку. \n",
    "\n",
    "Например возьмем репозиторий `Python`. Внизу прописаны весии сборок.\n",
    "\n",
    "![](data/screen_015.png)"
   ]
  },
  {
   "cell_type": "markdown",
   "id": "7917c25d",
   "metadata": {},
   "source": [
    "Например вот так:\n",
    "\n",
    "```powershell\n",
    "docker pull python:3.14.0a7\n",
    "```"
   ]
  },
  {
   "cell_type": "markdown",
   "id": "635c6333",
   "metadata": {},
   "source": [
    "<a id='part_13'></a>\n",
    "## 1.3 Запуск образов [▴](#head)"
   ]
  },
  {
   "cell_type": "markdown",
   "id": "0f4793c5",
   "metadata": {},
   "source": [
    "Для запуска образа требуется прописать команду `docker run` и имя образа\n",
    "\n",
    "```powershell\n",
    "docker run hello-world\n",
    "```"
   ]
  },
  {
   "cell_type": "markdown",
   "id": "dce98aa5",
   "metadata": {},
   "source": [
    "![](data/screen_016.png)"
   ]
  },
  {
   "cell_type": "markdown",
   "id": "7190b431",
   "metadata": {},
   "source": [
    "После запуска Докер-Образа создастся контейнер."
   ]
  },
  {
   "cell_type": "markdown",
   "id": "a6259eb5",
   "metadata": {},
   "source": [
    "![](data/screen_017.png)"
   ]
  },
  {
   "cell_type": "markdown",
   "id": "dd12ab09",
   "metadata": {},
   "source": [
    "### Информация о всех контейнерах\n",
    "\n",
    "Чтобы посмотреть всю информацию о всех контейнерах в терминале, надо выполнить команду:\n",
    "\n",
    "```powershell\n",
    "docker ps -a\n",
    "```\n",
    "\n",
    "### Информация о запущенных контейнерах\n",
    "\n",
    "Для того чтобы отобразить только запущенные контейнеры надо выполнить команду без флага `-a` :\n",
    "\n",
    "```powershell\n",
    "docker ps\n",
    "```\n",
    "\n"
   ]
  },
  {
   "cell_type": "markdown",
   "id": "7f16f223",
   "metadata": {},
   "source": [
    "![](data/screen_018.png)"
   ]
  },
  {
   "cell_type": "markdown",
   "id": "eab75c18",
   "metadata": {},
   "source": [
    "Если прописать команду с явно указанным тегом, то будет создан новый контейнер с новым именем.\n",
    "\n",
    "```powershell\n",
    "docker run hello-world:latest\n",
    "docker ps -a\n",
    "```"
   ]
  },
  {
   "cell_type": "markdown",
   "id": "627d366d",
   "metadata": {},
   "source": [
    "![](data/screen_019.png)"
   ]
  },
  {
   "cell_type": "markdown",
   "id": "e66644d9",
   "metadata": {},
   "source": [
    "То есть используя команду `run` мы каждый раз будем генерировать новый контейнер с новым именем.\n",
    "\n",
    "Более того, используя команду `run` мы можем скачать образ, которого пока нет в локальном хранилище.\n",
    "\n",
    "Например установим интерпрететоро языка `python` с определенной версией:\n",
    "\n",
    "```powershell\n",
    "docker run python:3.12-alpine\n",
    "```\n",
    "\n",
    "Образ будет скачан из репозитория и сразу запущен"
   ]
  },
  {
   "cell_type": "markdown",
   "id": "ccfd7cea",
   "metadata": {},
   "source": [
    "![](data/screen_020.png)"
   ]
  },
  {
   "cell_type": "markdown",
   "id": "09dcc605",
   "metadata": {},
   "source": [
    "![](data/screen_022.png)"
   ]
  },
  {
   "cell_type": "markdown",
   "id": "b3a32395",
   "metadata": {},
   "source": [
    "![](data/screen_021.png)"
   ]
  },
  {
   "cell_type": "markdown",
   "id": "71d2fa0b",
   "metadata": {},
   "source": [
    "### Ручная установка имени контейнера\n",
    "\n",
    "Так же при запуске образа можно прописать желаемое имя контейнера добавив в команду `--name container_name`\n",
    "\n",
    "```powershell\n",
    "docker run --name hw hello-world\n",
    "```\n",
    "\n",
    "После которой будет создан контейнер с именем `hw`\n",
    "\n",
    "```powershell\n",
    "docker ps -a\n",
    "```"
   ]
  },
  {
   "cell_type": "markdown",
   "id": "a5f6b7f4",
   "metadata": {},
   "source": [
    "![](data/screen_023.png)"
   ]
  },
  {
   "cell_type": "markdown",
   "id": "aef0df21",
   "metadata": {},
   "source": [
    "Причем если попробовать выполнить команду еще раз, будет ошибка, так как создавать контейнеры с одинаковыми именами нельзя."
   ]
  },
  {
   "cell_type": "markdown",
   "id": "e455dcf7",
   "metadata": {},
   "source": [
    "![](data/screen_024.png)"
   ]
  },
  {
   "cell_type": "markdown",
   "id": "262343ee",
   "metadata": {},
   "source": [
    "<a id='part_14'></a>\n",
    "## 1.4 Запуск контейнеров [▴](#head)"
   ]
  },
  {
   "cell_type": "markdown",
   "id": "2ed74573",
   "metadata": {},
   "source": [
    "Чтобы запустить уже созданный контейнер надо использовать команду `start` и указать либо индентификатор либо его имя.\n",
    "\n",
    "```powershell\n",
    "docker start hw\n",
    "docker start 8f16cac7e4dd\n",
    "```"
   ]
  },
  {
   "cell_type": "markdown",
   "id": "73f7e2bb",
   "metadata": {},
   "source": [
    "![](data/screen_025.png)"
   ]
  },
  {
   "cell_type": "markdown",
   "id": "dba99904",
   "metadata": {},
   "source": [
    "Контейнер выполнится, однако на экране не отобразится лог. Дело в том что команда `start` запускает контейнер без стандартной привязки к потокам ввода-вывода. Эот сделано специально, потому что контейнеры зачастую должны работать в фоне.\n",
    "\n",
    "Если нам нужно привязать вывод к стандартному выходному потоку (в терминал) надо к команде `start` добавить флаг `-i`\n",
    "\n",
    "```powershell\n",
    "docker start -i hw\n",
    "```"
   ]
  },
  {
   "cell_type": "markdown",
   "id": "fb9a2983",
   "metadata": {},
   "source": [
    "![](data/screen_026.png)"
   ]
  },
  {
   "cell_type": "markdown",
   "id": "08614df7",
   "metadata": {},
   "source": [
    "### Остановка контейнера\n",
    "\n",
    "Чтобы остановить контейнер, надо прописать команду `docker stop` и указать имя или идентификатор контейнера\n",
    "\n",
    "```powershell\n",
    "docker stop hw\n",
    "docker stop 8f16cac7e4dd\n",
    "```\n",
    "\n",
    "Если вдруг команда `stop` не отвечает, то можно использовать команду `kill` но это стоит делать в крайнем случае. Он убъет именно процесс запущенного контейнера.\n",
    "\n",
    "```powershell\n",
    "docker kill hw\n",
    "docker kill 8f16cac7e4dd\n",
    "```\n"
   ]
  },
  {
   "cell_type": "markdown",
   "id": "93619799",
   "metadata": {},
   "source": [
    "### Запуск постоянно работающего контейнера\n",
    "\n",
    "Для того чтобы контейнер сразу не выключался, надо добавить флаг `-t` он дает возможность удаленного взаимодействия с запущенным контейнером. \n",
    "\n",
    "Выполним команду, добавив флаги `-i -t` флаг `-i` позволит выводить результат работы в терминал\n",
    "\n",
    "```powershell\n",
    "docker run -i -t python:3.12-alpine\n",
    "```\n",
    "\n",
    "При этом запустится интерпретатор Python который позволит нам выполнять команды"
   ]
  },
  {
   "cell_type": "markdown",
   "id": "01ae42ee",
   "metadata": {},
   "source": [
    "![](data/screen_027.png)"
   ]
  },
  {
   "cell_type": "markdown",
   "id": "c402dc09",
   "metadata": {},
   "source": [
    "При этом если мы посмотрим на список активных контейнеров, там будет запущен наш контейнер с интерпретатором Python"
   ]
  },
  {
   "cell_type": "markdown",
   "id": "dab83baa",
   "metadata": {},
   "source": [
    "![](data/screen_028.png)"
   ]
  },
  {
   "cell_type": "markdown",
   "id": "0a9732e9",
   "metadata": {},
   "source": [
    "![](data/screen_029.png)"
   ]
  },
  {
   "cell_type": "markdown",
   "id": "d18537db",
   "metadata": {},
   "source": [
    "<a id='part_15'></a>\n",
    "## 1.5 Удаление контейнеров и образов [▴](#head)"
   ]
  },
  {
   "cell_type": "markdown",
   "id": "16b22e2d",
   "metadata": {},
   "source": [
    "Удалять контейнеры можно как в интерфейсе приложения, так и через командную строку.\n",
    "\n",
    "Чтобы удалить контейнер надо прописать команду `docker rm` и его идентификатор либо имя\n",
    "\n",
    "```powershell\n",
    "docker rm tender_matsumoto\n",
    "docker rm 11d7c9f0f87b\n",
    "\n",
    "```"
   ]
  },
  {
   "cell_type": "markdown",
   "id": "5837d009",
   "metadata": {},
   "source": [
    "![](data/screen_030.png)"
   ]
  },
  {
   "cell_type": "markdown",
   "id": "de891da2",
   "metadata": {},
   "source": [
    "Чтобы удалить все неработающие контейнеры, неоходимо выполнить команду \n",
    "\n",
    "```powershell\n",
    "docker container prune\n",
    "```"
   ]
  },
  {
   "cell_type": "markdown",
   "id": "06c99ecf",
   "metadata": {},
   "source": [
    "![](data/screen_031.png)"
   ]
  },
  {
   "cell_type": "markdown",
   "id": "18fb5765",
   "metadata": {},
   "source": [
    "Чтобы удалить образы, надо выполнить команду `docker rmi` и указать имя образа с тегом\n",
    "\n",
    "```powershell\n",
    "docker rmi hello-world:latest\n",
    "```"
   ]
  },
  {
   "cell_type": "markdown",
   "id": "14550648",
   "metadata": {},
   "source": [
    "![](data/screen_032.png)"
   ]
  },
  {
   "cell_type": "markdown",
   "id": "39ce803f",
   "metadata": {},
   "source": [
    "### Запуск и удаление контейнера после выполнения\n",
    "\n",
    "На практике встречаются случаи, когда надо удалить контейнер сразу полсе использования, для этого достаточно добавить флаг `--rm` во время запуска контейнера\n",
    "\n",
    "```powershell\n",
    "docker run --rm hello-world\n",
    "```"
   ]
  },
  {
   "cell_type": "markdown",
   "id": "02d2899f",
   "metadata": {},
   "source": [
    "Чтобы узнать какие флаги у команды существуют, надо выполнить команду\n",
    "\n",
    "```powershell\n",
    "docker run --help\n",
    "```"
   ]
  },
  {
   "cell_type": "markdown",
   "id": "d64c08eb",
   "metadata": {},
   "source": [
    "![](data/screen_033.png)"
   ]
  },
  {
   "cell_type": "markdown",
   "id": "f8821b74",
   "metadata": {},
   "source": [
    "---"
   ]
  },
  {
   "cell_type": "markdown",
   "id": "3f69b811",
   "metadata": {},
   "source": [
    "<a id='part_02'></a>\n",
    "# 2. Собственные образы [▴](#head)"
   ]
  },
  {
   "cell_type": "markdown",
   "id": "f00008ef",
   "metadata": {},
   "source": [
    "<a id='part_21'></a>\n",
    "## 2.1 [▴](#head)"
   ]
  },
  {
   "cell_type": "markdown",
   "id": "d1aab287",
   "metadata": {},
   "source": [
    "<a id='part_22'></a>\n",
    "## 2.2 [▴](#head)"
   ]
  },
  {
   "cell_type": "markdown",
   "id": "5ab5fcbf",
   "metadata": {},
   "source": [
    "<a id='part_23'></a>\n",
    "## 2.3 [▴](#head)"
   ]
  },
  {
   "cell_type": "markdown",
   "id": "88fe31fa",
   "metadata": {},
   "source": [
    "<a id='part_24'></a>\n",
    "## 2.4 [▴](#head)"
   ]
  },
  {
   "cell_type": "markdown",
   "id": "5afc9a23",
   "metadata": {},
   "source": [
    "<a id='part_25'></a>\n",
    "## 2.5 [▴](#head)"
   ]
  },
  {
   "cell_type": "markdown",
   "id": "4df6c646",
   "metadata": {},
   "source": [
    "<a id='part_26'></a>\n",
    "## 2.6 [▴](#head)"
   ]
  },
  {
   "cell_type": "markdown",
   "id": "7ce76027",
   "metadata": {},
   "source": [
    "<a id='part_27'></a>\n",
    "## 2.7 [▴](#head)"
   ]
  },
  {
   "cell_type": "markdown",
   "id": "7d8f0944",
   "metadata": {},
   "source": [
    "<a id='part_28'></a>\n",
    "## 2.8 [▴](#head)"
   ]
  },
  {
   "cell_type": "markdown",
   "id": "6525cd50",
   "metadata": {},
   "source": [
    "<a id='part_29'></a>\n",
    "## 2.9 [▴](#head)"
   ]
  },
  {
   "cell_type": "markdown",
   "id": "0da0ce85",
   "metadata": {},
   "source": [
    "---"
   ]
  },
  {
   "cell_type": "markdown",
   "id": "d0c402b9",
   "metadata": {},
   "source": [
    "<a id='part_03'></a>\n",
    "# 3. [▴](#head)"
   ]
  },
  {
   "cell_type": "markdown",
   "id": "1cb73f21",
   "metadata": {},
   "source": [
    "<a id='part_31'></a>\n",
    "## 3.1 [▴](#head)"
   ]
  },
  {
   "cell_type": "markdown",
   "id": "2a600c85",
   "metadata": {},
   "source": [
    "<a id='part_32'></a>\n",
    "## 3.2 [▴](#head)"
   ]
  },
  {
   "cell_type": "markdown",
   "id": "49ea2bac",
   "metadata": {},
   "source": [
    "<a id='part_33'></a>\n",
    "## 3.3 [▴](#head)"
   ]
  },
  {
   "cell_type": "markdown",
   "id": "3e384270",
   "metadata": {},
   "source": [
    "<a id='part_34'></a>\n",
    "## 3.4 [▴](#head)"
   ]
  },
  {
   "cell_type": "markdown",
   "id": "25fd7e5c",
   "metadata": {},
   "source": [
    "<a id='part_35'></a>\n",
    "## 3.5 [▴](#head)"
   ]
  },
  {
   "cell_type": "markdown",
   "id": "99aa6e4e",
   "metadata": {},
   "source": [
    "<a id='part_36'></a>\n",
    "## 3.6 [▴](#head)"
   ]
  },
  {
   "cell_type": "markdown",
   "id": "21ab5b09",
   "metadata": {},
   "source": [
    "<a id='part_37'></a>\n",
    "## 3.7 [▴](#head)"
   ]
  },
  {
   "cell_type": "markdown",
   "id": "4daea19d",
   "metadata": {},
   "source": [
    "<a id='part_38'></a>\n",
    "## 3.8 [▴](#head)"
   ]
  },
  {
   "cell_type": "markdown",
   "id": "8969643c",
   "metadata": {},
   "source": [
    "<a id='part_39'></a>\n",
    "## 3.9 [▴](#head)"
   ]
  },
  {
   "cell_type": "markdown",
   "id": "e15c21a2",
   "metadata": {},
   "source": [
    "---"
   ]
  },
  {
   "cell_type": "markdown",
   "id": "baa0fe04",
   "metadata": {},
   "source": [
    "<a id='part_04'></a>\n",
    "# 4. [▴](#head)"
   ]
  },
  {
   "cell_type": "markdown",
   "id": "1e732dd5",
   "metadata": {},
   "source": [
    "<a id='part_41'></a>\n",
    "## 4.1 [▴](#head)"
   ]
  },
  {
   "cell_type": "markdown",
   "id": "517c20ef",
   "metadata": {},
   "source": [
    "<a id='part_42'></a>\n",
    "## 4.2 [▴](#head)"
   ]
  },
  {
   "cell_type": "markdown",
   "id": "4763be36",
   "metadata": {},
   "source": [
    "<a id='part_43'></a>\n",
    "## 4.3 [▴](#head)"
   ]
  },
  {
   "cell_type": "markdown",
   "id": "c3e2a393",
   "metadata": {},
   "source": [
    "<a id='part_44'></a>\n",
    "## 4.4 [▴](#head)"
   ]
  },
  {
   "cell_type": "markdown",
   "id": "594a6dcc",
   "metadata": {},
   "source": [
    "<a id='part_45'></a>\n",
    "## 4.5 [▴](#head)"
   ]
  },
  {
   "cell_type": "markdown",
   "id": "ca7f8994",
   "metadata": {},
   "source": [
    "<a id='part_46'></a>\n",
    "## 4.6 [▴](#head)"
   ]
  },
  {
   "cell_type": "markdown",
   "id": "472d48b0",
   "metadata": {},
   "source": [
    "<a id='part_47'></a>\n",
    "## 4.7 [▴](#head)"
   ]
  },
  {
   "cell_type": "markdown",
   "id": "cc47509c",
   "metadata": {},
   "source": [
    "<a id='part_48'></a>\n",
    "## 4.8 [▴](#head)"
   ]
  },
  {
   "cell_type": "markdown",
   "id": "81bf2091",
   "metadata": {},
   "source": [
    "<a id='part_49'></a>\n",
    "## 4.9 [▴](#head)"
   ]
  },
  {
   "cell_type": "markdown",
   "id": "74dd4f80",
   "metadata": {},
   "source": [
    "---"
   ]
  },
  {
   "cell_type": "markdown",
   "id": "127755da",
   "metadata": {},
   "source": [
    "<a id='part_05'></a>\n",
    "# 5. [▴](#head)"
   ]
  },
  {
   "cell_type": "markdown",
   "id": "46004df7",
   "metadata": {},
   "source": [
    "<a id='part_51'></a>\n",
    "## 5.1 [▴](#head)"
   ]
  },
  {
   "cell_type": "markdown",
   "id": "8f765bc7",
   "metadata": {},
   "source": [
    "<a id='part_52'></a>\n",
    "## 5.2 [▴](#head)"
   ]
  },
  {
   "cell_type": "markdown",
   "id": "95326fa7",
   "metadata": {},
   "source": [
    "<a id='part_53'></a>\n",
    "## 5.3 [▴](#head)"
   ]
  },
  {
   "cell_type": "markdown",
   "id": "4e9c72ec",
   "metadata": {},
   "source": [
    "<a id='part_54'></a>\n",
    "## 5.4 [▴](#head)"
   ]
  },
  {
   "cell_type": "markdown",
   "id": "602016a3",
   "metadata": {},
   "source": [
    "<a id='part_55'></a>\n",
    "## 5.5 [▴](#head)"
   ]
  },
  {
   "cell_type": "markdown",
   "id": "2d177859",
   "metadata": {},
   "source": [
    "<a id='part_56'></a>\n",
    "## 5.6 [▴](#head)"
   ]
  },
  {
   "cell_type": "markdown",
   "id": "62b5ccf4",
   "metadata": {},
   "source": [
    "<a id='part_57'></a>\n",
    "## 5.7 [▴](#head)"
   ]
  },
  {
   "cell_type": "markdown",
   "id": "7a8648aa",
   "metadata": {},
   "source": [
    "<a id='part_58'></a>\n",
    "## 5.8 [▴](#head)"
   ]
  },
  {
   "cell_type": "markdown",
   "id": "f8ee80ce",
   "metadata": {},
   "source": [
    "<a id='part_59'></a>\n",
    "## 5.9 [▴](#head)"
   ]
  },
  {
   "cell_type": "markdown",
   "id": "d81d6360",
   "metadata": {},
   "source": [
    "---"
   ]
  },
  {
   "cell_type": "markdown",
   "id": "201b3d2b",
   "metadata": {},
   "source": [
    "<a id='part_06'></a>\n",
    "# 6. [▴](#head)"
   ]
  },
  {
   "cell_type": "markdown",
   "id": "74d90e7f",
   "metadata": {},
   "source": [
    "<a id='part_61'></a>\n",
    "## 6.1 [▴](#head)"
   ]
  },
  {
   "cell_type": "markdown",
   "id": "38e13b46",
   "metadata": {},
   "source": [
    "<a id='part_62'></a>\n",
    "## 6.2 [▴](#head)"
   ]
  },
  {
   "cell_type": "markdown",
   "id": "ab11b335",
   "metadata": {},
   "source": [
    "<a id='part_63'></a>\n",
    "## 6.3 [▴](#head)"
   ]
  },
  {
   "cell_type": "markdown",
   "id": "7636b2da",
   "metadata": {},
   "source": [
    "<a id='part_64'></a>\n",
    "## 6.4 [▴](#head)"
   ]
  },
  {
   "cell_type": "markdown",
   "id": "1e1bce88",
   "metadata": {},
   "source": [
    "<a id='part_65'></a>\n",
    "## 6.5 [▴](#head)"
   ]
  },
  {
   "cell_type": "markdown",
   "id": "c2e5bb06",
   "metadata": {},
   "source": [
    "<a id='part_66'></a>\n",
    "## 6.6 [▴](#head)"
   ]
  },
  {
   "cell_type": "markdown",
   "id": "12b17e11",
   "metadata": {},
   "source": [
    "<a id='part_67'></a>\n",
    "## 6.7 [▴](#head)"
   ]
  },
  {
   "cell_type": "markdown",
   "id": "717d86f2",
   "metadata": {},
   "source": [
    "<a id='part_68'></a>\n",
    "## 6.8 [▴](#head)"
   ]
  },
  {
   "cell_type": "markdown",
   "id": "09fccdf8",
   "metadata": {},
   "source": [
    "<a id='part_69'></a>\n",
    "## 6.9 [▴](#head)"
   ]
  },
  {
   "cell_type": "markdown",
   "id": "689df9cc",
   "metadata": {},
   "source": [
    "---"
   ]
  },
  {
   "cell_type": "markdown",
   "id": "4977f42f",
   "metadata": {},
   "source": [
    "<a id='part_07'></a>\n",
    "# 7. [▴](#head)"
   ]
  },
  {
   "cell_type": "markdown",
   "id": "fbfd08e2",
   "metadata": {},
   "source": [
    "<a id='part_71'></a>\n",
    "## 7.1 [▴](#head)"
   ]
  },
  {
   "cell_type": "markdown",
   "id": "c378880f",
   "metadata": {},
   "source": [
    "<a id='part_72'></a>\n",
    "## 7.2 [▴](#head)"
   ]
  },
  {
   "cell_type": "markdown",
   "id": "f4a54f7f",
   "metadata": {},
   "source": [
    "<a id='part_73'></a>\n",
    "## 7.3 [▴](#head)"
   ]
  },
  {
   "cell_type": "markdown",
   "id": "5bcf7a24",
   "metadata": {},
   "source": [
    "<a id='part_74'></a>\n",
    "## 7.4 [▴](#head)"
   ]
  },
  {
   "cell_type": "markdown",
   "id": "8fa848c3",
   "metadata": {},
   "source": [
    "<a id='part_75'></a>\n",
    "## 7.5 [▴](#head)"
   ]
  },
  {
   "cell_type": "markdown",
   "id": "fada24cf",
   "metadata": {},
   "source": [
    "<a id='part_76'></a>\n",
    "## 7.6 [▴](#head)"
   ]
  },
  {
   "cell_type": "markdown",
   "id": "176c7b91",
   "metadata": {},
   "source": [
    "<a id='part_77'></a>\n",
    "## 7.7 [▴](#head)"
   ]
  },
  {
   "cell_type": "markdown",
   "id": "7c59f727",
   "metadata": {},
   "source": [
    "<a id='part_78'></a>\n",
    "## 7.8 [▴](#head)"
   ]
  },
  {
   "cell_type": "markdown",
   "id": "d9726c6d",
   "metadata": {},
   "source": [
    "<a id='part_79'></a>\n",
    "## 7.9 [▴](#head)"
   ]
  },
  {
   "cell_type": "markdown",
   "id": "e497aed5",
   "metadata": {},
   "source": [
    "---"
   ]
  },
  {
   "cell_type": "markdown",
   "id": "c7842be1",
   "metadata": {},
   "source": [
    "<a id='part_08'></a>\n",
    "# 8. [▴](#head)"
   ]
  },
  {
   "cell_type": "markdown",
   "id": "485f3a62",
   "metadata": {},
   "source": [
    "<a id='part_81'></a>\n",
    "## 8.1 [▴](#head)"
   ]
  },
  {
   "cell_type": "markdown",
   "id": "26833e83",
   "metadata": {},
   "source": [
    "<a id='part_82'></a>\n",
    "## 8.2 [▴](#head)"
   ]
  },
  {
   "cell_type": "markdown",
   "id": "72403951",
   "metadata": {},
   "source": [
    "<a id='part_83'></a>\n",
    "## 8.3 [▴](#head)"
   ]
  },
  {
   "cell_type": "markdown",
   "id": "719fbc46",
   "metadata": {},
   "source": [
    "<a id='part_84'></a>\n",
    "## 8.4 [▴](#head)"
   ]
  },
  {
   "cell_type": "markdown",
   "id": "19e10b9d",
   "metadata": {},
   "source": [
    "<a id='part_85'></a>\n",
    "## 8.5 [▴](#head)"
   ]
  },
  {
   "cell_type": "markdown",
   "id": "d6a8b7fb",
   "metadata": {},
   "source": [
    "<a id='part_86'></a>\n",
    "## 8.6 [▴](#head)"
   ]
  },
  {
   "cell_type": "markdown",
   "id": "4322b2d7",
   "metadata": {},
   "source": [
    "<a id='part_87'></a>\n",
    "## 8.7 [▴](#head)"
   ]
  },
  {
   "cell_type": "markdown",
   "id": "a18433dc",
   "metadata": {},
   "source": [
    "<a id='part_88'></a>\n",
    "## 8.8 [▴](#head)"
   ]
  },
  {
   "cell_type": "markdown",
   "id": "a9bca73b",
   "metadata": {},
   "source": [
    "<a id='part_89'></a>\n",
    "## 8.9 [▴](#head)"
   ]
  },
  {
   "cell_type": "markdown",
   "id": "c84cc663",
   "metadata": {},
   "source": [
    "---"
   ]
  },
  {
   "cell_type": "markdown",
   "id": "10bdb581",
   "metadata": {},
   "source": [
    "<a id='part_09'></a>\n",
    "# 9. [▴](#head)"
   ]
  },
  {
   "cell_type": "markdown",
   "id": "9fa5404a",
   "metadata": {},
   "source": [
    "<a id='part_91'></a>\n",
    "## 9.1 [▴](#head)"
   ]
  },
  {
   "cell_type": "markdown",
   "id": "7d307261",
   "metadata": {},
   "source": [
    "<a id='part_92'></a>\n",
    "## 9.2 [▴](#head)"
   ]
  },
  {
   "cell_type": "markdown",
   "id": "128212ef",
   "metadata": {},
   "source": [
    "<a id='part_93'></a>\n",
    "## 9.3 [▴](#head)"
   ]
  },
  {
   "cell_type": "markdown",
   "id": "84e6b605",
   "metadata": {},
   "source": [
    "<a id='part_94'></a>\n",
    "## 9.4 [▴](#head)"
   ]
  },
  {
   "cell_type": "markdown",
   "id": "9318eb37",
   "metadata": {},
   "source": [
    "<a id='part_95'></a>\n",
    "## 9.5 [▴](#head)"
   ]
  },
  {
   "cell_type": "markdown",
   "id": "696f9437",
   "metadata": {},
   "source": [
    "<a id='part_96'></a>\n",
    "## 9.6 [▴](#head)"
   ]
  },
  {
   "cell_type": "markdown",
   "id": "3d3f7dc5",
   "metadata": {},
   "source": [
    "<a id='part_97'></a>\n",
    "## 9.7 [▴](#head)"
   ]
  },
  {
   "cell_type": "markdown",
   "id": "a3e9c96e",
   "metadata": {},
   "source": [
    "<a id='part_98'></a>\n",
    "## 9.8 [▴](#head)"
   ]
  },
  {
   "cell_type": "markdown",
   "id": "11ff4f3b",
   "metadata": {},
   "source": [
    "<a id='part_99'></a>\n",
    "## 9.9 [▴](#head)"
   ]
  }
 ],
 "metadata": {
  "kernelspec": {
   "display_name": "Python 3 (ipykernel)",
   "language": "python",
   "name": "python3"
  },
  "language_info": {
   "codemirror_mode": {
    "name": "ipython",
    "version": 3
   },
   "file_extension": ".py",
   "mimetype": "text/x-python",
   "name": "python",
   "nbconvert_exporter": "python",
   "pygments_lexer": "ipython3",
   "version": "3.9.12"
  }
 },
 "nbformat": 4,
 "nbformat_minor": 5
}
