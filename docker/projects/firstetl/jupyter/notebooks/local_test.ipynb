{
 "cells": [
  {
   "metadata": {
    "ExecuteTime": {
     "end_time": "2025-10-18T23:17:06.568334Z",
     "start_time": "2025-10-18T23:17:03.564835Z"
    }
   },
   "cell_type": "code",
   "source": "pip install sqlalchemy",
   "id": "a53e7a42170b7a64",
   "outputs": [
    {
     "name": "stdout",
     "output_type": "stream",
     "text": [
      "Collecting sqlalchemy\n",
      "  Downloading sqlalchemy-2.0.44-cp313-cp313-win_amd64.whl.metadata (9.8 kB)\n",
      "Collecting greenlet>=1 (from sqlalchemy)\n",
      "  Downloading greenlet-3.2.4-cp313-cp313-win_amd64.whl.metadata (4.2 kB)\n",
      "Requirement already satisfied: typing-extensions>=4.6.0 in c:\\program files\\python\\python313\\lib\\site-packages (from sqlalchemy) (4.15.0)\n",
      "Downloading sqlalchemy-2.0.44-cp313-cp313-win_amd64.whl (2.1 MB)\n",
      "   ---------------------------------------- 0.0/2.1 MB ? eta -:--:--\n",
      "   -------------- ------------------------- 0.8/2.1 MB 9.5 MB/s eta 0:00:01\n",
      "   ---------------------------------------- 2.1/2.1 MB 13.5 MB/s  0:00:00\n",
      "Downloading greenlet-3.2.4-cp313-cp313-win_amd64.whl (299 kB)\n",
      "Installing collected packages: greenlet, sqlalchemy\n",
      "\n",
      "   -------------------- ------------------- 1/2 [sqlalchemy]\n",
      "   -------------------- ------------------- 1/2 [sqlalchemy]\n",
      "   -------------------- ------------------- 1/2 [sqlalchemy]\n",
      "   -------------------- ------------------- 1/2 [sqlalchemy]\n",
      "   -------------------- ------------------- 1/2 [sqlalchemy]\n",
      "   -------------------- ------------------- 1/2 [sqlalchemy]\n",
      "   ---------------------------------------- 2/2 [sqlalchemy]\n",
      "\n",
      "Successfully installed greenlet-3.2.4 sqlalchemy-2.0.44\n",
      "Note: you may need to restart the kernel to use updated packages.\n"
     ]
    }
   ],
   "execution_count": 7
  },
  {
   "cell_type": "code",
   "id": "initial_id",
   "metadata": {
    "collapsed": true,
    "ExecuteTime": {
     "end_time": "2025-10-18T23:17:12.048553Z",
     "start_time": "2025-10-18T23:17:11.940478Z"
    }
   },
   "source": [
    "import psycopg2\n",
    "import pandas as pd\n",
    "from sqlalchemy import create_engine\n",
    "\n",
    "def test_postgres_connection():\n",
    "    try:\n",
    "        # Подключаемся к PostgreSQL\n",
    "        connection = psycopg2.connect(\n",
    "            host='host.docker.internal',  # или 'host.docker.internal'\n",
    "            port=5432,\n",
    "            database='postgres',\n",
    "            user='airflow',\n",
    "            password='airflow'\n",
    "        )\n",
    "        print(\"✅ Успешное подключение к PostgreSQL!\")\n",
    "\n",
    "        # Создаем курсор\n",
    "        cursor = connection.cursor()\n",
    "\n",
    "        # Выполняем простой запрос\n",
    "        cursor.execute(\"SELECT version();\")\n",
    "        version = cursor.fetchone()\n",
    "        print(f\"📊 Версия PostgreSQL: {version[0]}\")\n",
    "\n",
    "        # Получаем список таблиц\n",
    "        cursor.execute(\"\"\"\n",
    "            SELECT table_name\n",
    "            FROM information_schema.tables\n",
    "            WHERE table_schema = 'public'\n",
    "            ORDER BY table_name;\n",
    "        \"\"\")\n",
    "\n",
    "        tables = cursor.fetchall()\n",
    "        print(\"📋 Таблицы в базе данных:\")\n",
    "        for table in tables:\n",
    "            print(f\"   - {table[0]}\")\n",
    "\n",
    "        # Если есть таблицы, читаем первую в DataFrame\n",
    "        if tables:\n",
    "            first_table = tables[0][0]\n",
    "            print(f\"\\n🎯 Читаем данные из таблицы: {first_table}\")\n",
    "\n",
    "            # Читаем данные в DataFrame\n",
    "            df = pd.read_sql(f\"SELECT * FROM {first_table} LIMIT 5\", connection)\n",
    "\n",
    "            if not df.empty:\n",
    "                print(\"✅ Данные успешно загружены в DataFrame!\")\n",
    "                print(f\"📐 Размер DataFrame: {df.shape}\")\n",
    "                print(\"\\n📊 Первые строки:\")\n",
    "                display(df.head())\n",
    "            else:\n",
    "                print(\"ℹ️ Таблица пустая\")\n",
    "        else:\n",
    "            print(\"ℹ️ В базе нет таблиц в схеме 'public'\")\n",
    "\n",
    "        # Закрываем соединение\n",
    "        cursor.close()\n",
    "        connection.close()\n",
    "        print(\"\\n🔒 Соединение закрыто\")\n",
    "\n",
    "    except Exception as e:\n",
    "        print(f\"❌ Ошибка: {e}\")\n",
    "\n",
    "# Запускаем проверку\n",
    "test_postgres_connection()"
   ],
   "outputs": [
    {
     "name": "stdout",
     "output_type": "stream",
     "text": [
      "✅ Успешное подключение к PostgreSQL!\n",
      "📊 Версия PostgreSQL: PostgreSQL 13.22 (Debian 13.22-1.pgdg13+1) on x86_64-pc-linux-gnu, compiled by gcc (Debian 14.2.0-19) 14.2.0, 64-bit\n",
      "📋 Таблицы в базе данных:\n",
      "   - какой_кайф\n",
      "\n",
      "🎯 Читаем данные из таблицы: какой_кайф\n",
      "✅ Данные успешно загружены в DataFrame!\n",
      "📐 Размер DataFrame: (5, 4)\n",
      "\n",
      "📊 Первые строки:\n"
     ]
    },
    {
     "name": "stderr",
     "output_type": "stream",
     "text": [
      "C:\\Users\\mustd\\AppData\\Local\\Temp\\ipykernel_28008\\1074346173.py:44: UserWarning: pandas only supports SQLAlchemy connectable (engine/connection) or database string URI or sqlite3 DBAPI2 connection. Other DBAPI2 objects are not tested. Please consider using SQLAlchemy.\n",
      "  df = pd.read_sql(f\"SELECT * FROM {first_table} LIMIT 5\", connection)\n"
     ]
    },
    {
     "data": {
      "text/plain": [
       "   id       кайф  уровень_кайфа      описание_кафа\n",
       "0   1  компьютер              5  компик играть ммм\n",
       "1   2       пиво              5     Паулайнер пить\n",
       "2   3  компьютер              5  компик играть ммм\n",
       "3   4       пиво              5     Паулайнер пить\n",
       "4   5  компьютер              5  компик играть ммм"
      ],
      "text/html": [
       "<div>\n",
       "<style scoped>\n",
       "    .dataframe tbody tr th:only-of-type {\n",
       "        vertical-align: middle;\n",
       "    }\n",
       "\n",
       "    .dataframe tbody tr th {\n",
       "        vertical-align: top;\n",
       "    }\n",
       "\n",
       "    .dataframe thead th {\n",
       "        text-align: right;\n",
       "    }\n",
       "</style>\n",
       "<table border=\"1\" class=\"dataframe\">\n",
       "  <thead>\n",
       "    <tr style=\"text-align: right;\">\n",
       "      <th></th>\n",
       "      <th>id</th>\n",
       "      <th>кайф</th>\n",
       "      <th>уровень_кайфа</th>\n",
       "      <th>описание_кафа</th>\n",
       "    </tr>\n",
       "  </thead>\n",
       "  <tbody>\n",
       "    <tr>\n",
       "      <th>0</th>\n",
       "      <td>1</td>\n",
       "      <td>компьютер</td>\n",
       "      <td>5</td>\n",
       "      <td>компик играть ммм</td>\n",
       "    </tr>\n",
       "    <tr>\n",
       "      <th>1</th>\n",
       "      <td>2</td>\n",
       "      <td>пиво</td>\n",
       "      <td>5</td>\n",
       "      <td>Паулайнер пить</td>\n",
       "    </tr>\n",
       "    <tr>\n",
       "      <th>2</th>\n",
       "      <td>3</td>\n",
       "      <td>компьютер</td>\n",
       "      <td>5</td>\n",
       "      <td>компик играть ммм</td>\n",
       "    </tr>\n",
       "    <tr>\n",
       "      <th>3</th>\n",
       "      <td>4</td>\n",
       "      <td>пиво</td>\n",
       "      <td>5</td>\n",
       "      <td>Паулайнер пить</td>\n",
       "    </tr>\n",
       "    <tr>\n",
       "      <th>4</th>\n",
       "      <td>5</td>\n",
       "      <td>компьютер</td>\n",
       "      <td>5</td>\n",
       "      <td>компик играть ммм</td>\n",
       "    </tr>\n",
       "  </tbody>\n",
       "</table>\n",
       "</div>"
      ]
     },
     "metadata": {},
     "output_type": "display_data",
     "jetTransient": {
      "display_id": null
     }
    },
    {
     "name": "stdout",
     "output_type": "stream",
     "text": [
      "\n",
      "🔒 Соединение закрыто\n"
     ]
    }
   ],
   "execution_count": 8
  }
 ],
 "metadata": {
  "kernelspec": {
   "display_name": "Python 3",
   "language": "python",
   "name": "python3"
  },
  "language_info": {
   "codemirror_mode": {
    "name": "ipython",
    "version": 2
   },
   "file_extension": ".py",
   "mimetype": "text/x-python",
   "name": "python",
   "nbconvert_exporter": "python",
   "pygments_lexer": "ipython2",
   "version": "2.7.6"
  }
 },
 "nbformat": 4,
 "nbformat_minor": 5
}
