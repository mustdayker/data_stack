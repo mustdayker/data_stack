{
 "cells": [
  {
   "metadata": {},
   "cell_type": "markdown",
   "source": [
    "<a id='head'></a>\n",
    "**ООП**"
   ],
   "id": "6e7692105ce4f1d4"
  },
  {
   "metadata": {},
   "cell_type": "markdown",
   "source": [
    "**Оглавление**\n",
    "\n",
    "- [**1. Методы и атрибуты**](#part_01)\n",
    "- [**2. Параметр `self`**](#part_02)\n",
    "- [**3. Метод `__init__`**](#part_03)\n",
    "- [**4. Метод `__new__`**](#part_04)\n",
    "- [**5. Декораторы методов**](#part_05)\n",
    "- [**6. Инкапсуляция**](#part_06)\n",
    "- [**7. Магические методы**](#part_07)\n",
    "- [**8. Паттерн \"Моносоостояние\"**](#part_08)\n",
    "- [**9. Свойства property**](#part_09)\n",
    "- [**10. property практика**](#part_10)\n",
    "- [****](#part_11)\n"
   ],
   "id": "314c4c05db526214"
  },
  {
   "metadata": {},
   "cell_type": "markdown",
   "source": [
    "<a id='part_01'></a>\n",
    "# 1. Методы и атрибуты [▴](#head)"
   ],
   "id": "701b5c1ee017ec8"
  },
  {
   "metadata": {
    "ExecuteTime": {
     "end_time": "2025-10-04T14:42:40.851493Z",
     "start_time": "2025-10-04T14:42:40.847508Z"
    }
   },
   "cell_type": "code",
   "source": [
    "from string import ascii_letters\n",
    "\n",
    "\n",
    "class Point():\n",
    "    \"Документацию класса можно поместить здесь\"\n",
    "    color = 'red'\n",
    "    circle = 2\n",
    "\n",
    "a = Point()\n",
    "b = Point()\n",
    "\n",
    "a.x = 1\n",
    "a.y = 2\n",
    "\n",
    "b.x = 10\n",
    "b.y = 20\n",
    "\n",
    "print(Point.__doc__) # Вывести доку на экран\n",
    "print()\n",
    "print(Point.__dict__) # Вывести все атрибуты класса\n",
    "print()\n",
    "print(f\"a - {a.__dict__}\") # Вывести все атрибуты объекта класса\n",
    "print(f\"b - {b.__dict__}\") # Вывести все атрибуты объекта класса"
   ],
   "id": "8b87da48f1f6e491",
   "outputs": [
    {
     "name": "stdout",
     "output_type": "stream",
     "text": [
      "Документацию класса можно поместить здесь\n",
      "\n",
      "{'__module__': '__main__', '__firstlineno__': 1, '__doc__': 'Документацию класса можно поместить здесь', 'color': 'red', 'circle': 2, '__static_attributes__': (), '__dict__': <attribute '__dict__' of 'Point' objects>, '__weakref__': <attribute '__weakref__' of 'Point' objects>}\n",
      "\n",
      "a - {'x': 1, 'y': 2}\n",
      "b - {'x': 10, 'y': 20}\n"
     ]
    }
   ],
   "execution_count": 9
  },
  {
   "metadata": {},
   "cell_type": "markdown",
   "source": [
    "<a id='part_02'></a>\n",
    "# 2. Параметр `self` [▴](#head)"
   ],
   "id": "ff10d09d5ddf6125"
  },
  {
   "metadata": {
    "ExecuteTime": {
     "end_time": "2025-10-04T12:13:59.819284Z",
     "start_time": "2025-10-04T12:13:59.815647Z"
    }
   },
   "cell_type": "code",
   "source": [
    "class Point:\n",
    "    \"Учебный класс\"\n",
    "    color = 'red'\n",
    "    circle = 2\n",
    "\n",
    "    def set_coords(self, x=0, y=0):\n",
    "        self.x = x\n",
    "        self.y = y\n",
    "\n",
    "    def get_coords(self):\n",
    "        return self.x, self.y\n",
    "\n",
    "pt = Point()\n",
    "pt2 = Point()\n",
    "pt.set_coords(1, 2)\n",
    "pt2.set_coords(10, 20)\n",
    "print(f\"Координаторы полученные через метод get_cords: {pt.get_coords()}\")\n",
    "print(f\"Координаторы полученные через метод get_cords: {pt2.get_coords()}\")"
   ],
   "id": "79f80ec0875a9039",
   "outputs": [
    {
     "name": "stdout",
     "output_type": "stream",
     "text": [
      "Координаторы полученные через метод get_cords: (1, 2)\n",
      "Координаторы полученные через метод get_cords: (10, 20)\n"
     ]
    }
   ],
   "execution_count": 9
  },
  {
   "metadata": {},
   "cell_type": "markdown",
   "source": [
    "<a id='part_03'></a>\n",
    "# 3. Метод `__init__` [▴](#head)"
   ],
   "id": "d92835ec15b7b8f0"
  },
  {
   "metadata": {
    "ExecuteTime": {
     "end_time": "2025-10-04T12:52:50.369424Z",
     "start_time": "2025-10-04T12:52:50.365585Z"
    }
   },
   "cell_type": "code",
   "source": [
    "class Point:\n",
    "    \"Учебный класс\"\n",
    "    color = 'red'\n",
    "    circle = 2\n",
    "\n",
    "    # __init__  метод вызывается при создании объекта класса\n",
    "    def __init__(self, x=0, y=0):\n",
    "        print(\"Вызов __init__\")\n",
    "        self.x = x\n",
    "        self.y = y\n",
    "\n",
    "    def set_coords(self, x, y):\n",
    "        self.x = x\n",
    "        self.y = y\n",
    "\n",
    "    def get_coords(self):\n",
    "        return self.x, self.y\n",
    "\n",
    "pt = Point(1,2)\n"
   ],
   "id": "f764741be16da819",
   "outputs": [
    {
     "name": "stdout",
     "output_type": "stream",
     "text": [
      "Вызов __init__\n"
     ]
    }
   ],
   "execution_count": 14
  },
  {
   "metadata": {},
   "cell_type": "markdown",
   "source": [
    "<a id='part_04'></a>\n",
    "# 4. Метод `__new__` [▴](#head)"
   ],
   "id": "cbd4383310639db2"
  },
  {
   "metadata": {},
   "cell_type": "markdown",
   "source": [
    "- Метод `__new__` используется для реализации логики `Singleton`\n",
    "- Логика `Singleton` подразумевает что в программе должен существовать только 1 экземпляр класса"
   ],
   "id": "618031540089f48b"
  },
  {
   "metadata": {},
   "cell_type": "code",
   "outputs": [],
   "execution_count": 4,
   "source": [
    "\n",
    "class DataBase:\n",
    "    __instance = None\n",
    "\n",
    "    def __new__(cls, *args, **kwargs):\n",
    "        if cls.__instance is None:\n",
    "            cls.__instance = super().__new__(cls)\n",
    "        return cls.__instance\n",
    "\n",
    "    def __del__(self):\n",
    "        DataBase.__instance = None\n",
    "\n",
    "    def __init__(self, user, psw, port):\n",
    "        self.user = user\n",
    "        self.psw = psw\n",
    "        self.port = port\n",
    "\n",
    "    def connect(self):\n",
    "        print(f\"Соединение с БД: {self.user}, {self.psw}, {self.port}\")\n",
    "\n",
    "    def close(self):\n",
    "        print(\"Закрытие соединения с БД\")\n",
    "\n",
    "    def read(self):\n",
    "        return \"Данные из БД\"\n",
    "\n",
    "    def write(self, data):\n",
    "        print(f\"Запись в БД {data}\")"
   ],
   "id": "8494cda794b8a9c0"
  },
  {
   "metadata": {},
   "cell_type": "markdown",
   "source": [
    "<a id='part_05'></a>\n",
    "# 5. Декораторы методов [▴](#head)"
   ],
   "id": "256cfd5f3c1c2d66"
  },
  {
   "metadata": {},
   "cell_type": "markdown",
   "source": [
    "**`@classmethod` - методы класса**\n",
    "- Его можно вызывать напрямую в формате `Class.Method()`\n",
    "- Например `Vector.validate(5)`\n",
    "- Плюс нельзя работать с атрибутами экземпляра класса\n",
    "\n",
    "**`@staticmethod` - статические методы**\n",
    "- Они не имеют доступа ни к атрибутам класса ни к атрибутам его экземпляра.\n",
    "- Создается некая независимая функция объявленная внутри класса\n"
   ],
   "id": "2063614697b1c7fe"
  },
  {
   "metadata": {
    "ExecuteTime": {
     "end_time": "2025-10-04T14:13:47.198611Z",
     "start_time": "2025-10-04T14:13:47.195772Z"
    }
   },
   "cell_type": "code",
   "outputs": [],
   "execution_count": 35,
   "source": [
    "class Vector:\n",
    "    MIN_COORD = 0\n",
    "    MAX_COORD = 100\n",
    "\n",
    "    @classmethod\n",
    "    def validate(cls, arg):\n",
    "        return cls.MIN_COORD <= arg <= cls.MAX_COORD\n",
    "\n",
    "    def __init__(self, x, y):\n",
    "        self.x = self.y = 0\n",
    "\n",
    "        if self.validate(x) and self.validate(y):\n",
    "            self.x = x\n",
    "            self.y = y\n",
    "        print(self.norm2(self.x, self.y))\n",
    "\n",
    "    def get_coords(self):\n",
    "        return self.x, self.y\n",
    "\n",
    "    @staticmethod\n",
    "    def norm2(x, y):\n",
    "        return x*x + y*y\n"
   ],
   "id": "9a5d0e4b9401f5d9"
  },
  {
   "metadata": {
    "ExecuteTime": {
     "end_time": "2025-10-04T14:14:11.826185Z",
     "start_time": "2025-10-04T14:14:11.822876Z"
    }
   },
   "cell_type": "code",
   "outputs": [
    {
     "name": "stdout",
     "output_type": "stream",
     "text": [
      "500\n",
      "61\n",
      "(10, 20)\n"
     ]
    }
   ],
   "execution_count": 37,
   "source": [
    "v = Vector(10,20)\n",
    "print(Vector.norm2(5,6))\n",
    "res = Vector.get_coords(v)\n",
    "print(res)"
   ],
   "id": "4309c85c61a412e7"
  },
  {
   "metadata": {},
   "cell_type": "markdown",
   "source": [
    "<a id='part_06'></a>\n",
    "# 6. Инкапсуляция [▴](#head)"
   ],
   "id": "1ab1f1f752333ec9"
  },
  {
   "metadata": {},
   "cell_type": "markdown",
   "source": [
    "**Режимы доступа `public`, `private`, `protected`**\n",
    "\n",
    "\n",
    "Режим доступа | Описание\n",
    "-|-\n",
    "`attribute` (без подчеркиваний) = `public` | Публичное свойство\n",
    "`_attribute` (одно подчеркивание) = `protected` | Служит для обращения внутри класса и во всех ег одочерних классах. Но оно дишь остерегает программиста от использования этого атрибута\n",
    "`__attribute` (два подчеркивания) = `private` | Служит для обращения только внутри класса. Тут мы уже не можем обратиться напрямую извне"
   ],
   "id": "40f038103bd52c62"
  },
  {
   "metadata": {
    "ExecuteTime": {
     "end_time": "2025-10-04T16:32:17.567098Z",
     "start_time": "2025-10-04T16:32:17.564009Z"
    }
   },
   "cell_type": "code",
   "source": [
    "# public\n",
    "class Point():\n",
    "    def __init__(self, x=0, y=0):\n",
    "        self.x = x\n",
    "        self.y = y\n",
    "pt = Point(1, 2)\n",
    "pt.x = 200\n",
    "pt.y = 'coords'\n",
    "print(pt.x, pt.y)"
   ],
   "id": "5c8cf5cffcf73d80",
   "outputs": [
    {
     "name": "stdout",
     "output_type": "stream",
     "text": [
      "200 coords\n"
     ]
    }
   ],
   "execution_count": 5
  },
  {
   "metadata": {
    "ExecuteTime": {
     "end_time": "2025-10-04T16:32:53.231130Z",
     "start_time": "2025-10-04T16:32:53.227843Z"
    }
   },
   "cell_type": "code",
   "source": [
    "# protected\n",
    "class Point():\n",
    "    def __init__(self, x=0, y=0):\n",
    "        self._x = x\n",
    "        self._y = y\n",
    "pt = Point(1, 2)\n",
    "print(pt._x, pt._y)"
   ],
   "id": "e1d884a9df01f74d",
   "outputs": [
    {
     "name": "stdout",
     "output_type": "stream",
     "text": [
      "1 2\n"
     ]
    }
   ],
   "execution_count": 6
  },
  {
   "metadata": {
    "ExecuteTime": {
     "end_time": "2025-10-04T16:52:06.406938Z",
     "start_time": "2025-10-04T16:52:06.402281Z"
    }
   },
   "cell_type": "code",
   "source": [
    "# private\n",
    "class Point():\n",
    "    def __init__(self, x=0, y=0):\n",
    "        self.__x = self.__y = 0\n",
    "        if self.__check_value(x) and self.__check_value(y):\n",
    "            self.__x = x\n",
    "            self.__y = y\n",
    "\n",
    "    # Проверяем является ли переменная числовой\n",
    "    @classmethod\n",
    "    def __check_value(cls, x):\n",
    "        return type(x) in (int, float)\n",
    "\n",
    "    # методы сеттеры (служат для того чтобы установить закрытые атрибуты)\n",
    "    def set_coord(self, x, y):\n",
    "        if self.__check_value(x) and self.__check_value(y): # применяем проверку\n",
    "            # если проверка проходит присваиваем переменную\n",
    "            self.__x = x\n",
    "            self.__y = y\n",
    "        else:\n",
    "            # Если проверку не проходит выводим ошибку\n",
    "            raise ValueError(\"Координаты должны быть числами\")\n",
    "\n",
    "    # методы геттеры (служат для того чтобы получить закрытые атрибуты)\n",
    "    def get_coord(self):\n",
    "        return self.__x, self.__y\n",
    "\n",
    "pt = Point()\n",
    "pt.set_coord(10, 20)\n",
    "print(pt.get_coord())"
   ],
   "id": "18539adad8ae2a26",
   "outputs": [
    {
     "name": "stdout",
     "output_type": "stream",
     "text": [
      "(10, 20)\n"
     ]
    }
   ],
   "execution_count": 16
  },
  {
   "metadata": {
    "ExecuteTime": {
     "end_time": "2025-10-04T16:30:09.318759Z",
     "start_time": "2025-10-04T16:30:09.316360Z"
    }
   },
   "cell_type": "markdown",
   "source": [
    "<a id='part_07'></a>\n",
    "# 7. Магические методы [▴](#head)"
   ],
   "id": "1cb8f33c9ae74f8"
  },
  {
   "metadata": {},
   "cell_type": "markdown",
   "source": [
    "Метод | Описание\n",
    "-|-\n",
    "`__setattr__(self, key, value)` |автоматически вызывается при изменении свойства (атрибута) key класса\n",
    "`__getattribute__(self, item)` | автоматически вызывается при получении свойства класса с имененм item\n",
    "`__getattr__(self, item)` | автоматически вызывается при получении несуществующего свойства (атрибута) item класса\n",
    "`__delattr__(self, item)` | автоматически вызывается при удалении свойства (атрибута) item. Неважно существует оно или нет"
   ],
   "id": "520b81d0549f5d16"
  },
  {
   "metadata": {
    "ExecuteTime": {
     "end_time": "2025-10-04T18:00:11.274756Z",
     "start_time": "2025-10-04T18:00:11.271635Z"
    }
   },
   "cell_type": "code",
   "source": [
    "# Как обращаться именно к атрибутам класса\n",
    "\n",
    "class Point():\n",
    "    MIN_COORD = 0\n",
    "    MAX_COORD = 100\n",
    "\n",
    "    def __init__(self, x, y):\n",
    "            self.x = x\n",
    "            self.y = y\n",
    "\n",
    "    def set_coord(self, x, y):\n",
    "        if self.MIN_COORD <= x <= self.MAX_COORD:\n",
    "            self.x = x\n",
    "            self.y = y\n",
    "\n",
    "    @classmethod\n",
    "    def set_bound(cls, left):\n",
    "        cls.MIN_COORD = left\n",
    "\n",
    "pt1 = Point(1, 2)\n",
    "pt1.set_bound(-100) # В данном примере в экземпляре класса не будет создан атрибут MIN_COORD\n",
    "                    # вместо этого атрибут будет изменен в родительском классе\n",
    "print(pt1.__dict__)\n",
    "print(Point.__dict__)\n"
   ],
   "id": "832c9b858fe9d2de",
   "outputs": [
    {
     "name": "stdout",
     "output_type": "stream",
     "text": [
      "{'x': 1, 'y': 2}\n",
      "{'__module__': '__main__', '__firstlineno__': 3, 'MIN_COORD': -100, 'MAX_COORD': 100, '__init__': <function Point.__init__ at 0x00000226527BF920>, 'set_coord': <function Point.set_coord at 0x00000226527BF560>, 'set_bound': <classmethod(<function Point.set_bound at 0x00000226527E82C0>)>, '__static_attributes__': ('x', 'y'), '__dict__': <attribute '__dict__' of 'Point' objects>, '__weakref__': <attribute '__weakref__' of 'Point' objects>, '__doc__': None}\n"
     ]
    }
   ],
   "execution_count": 2
  },
  {
   "metadata": {
    "ExecuteTime": {
     "end_time": "2025-10-04T18:10:44.773454Z",
     "start_time": "2025-10-04T18:10:44.770101Z"
    }
   },
   "cell_type": "code",
   "source": [
    "# Как обращаться именно к атрибутам класса\n",
    "\n",
    "class Point():\n",
    "    MIN_COORD = 0\n",
    "    MAX_COORD = 100\n",
    "\n",
    "    def __init__(self, x, y):\n",
    "            self.x = x\n",
    "            self.y = y\n",
    "\n",
    "    def set_coord(self, x, y):\n",
    "        if self.MIN_COORD <= x <= self.MAX_COORD:\n",
    "            self.x = x\n",
    "            self.y = y\n",
    "\n",
    "    def __getattribute__(self, item):\n",
    "        print(\"__getattribute__\")\n",
    "        if item == \"x\":\n",
    "            raise ValueError(\"Доступ запрещен\")\n",
    "        else:\n",
    "            return object.__getattribute__(self, item) # Обращение к базовому классу object\n",
    "\n",
    "    def __setattr__(self, key, value):\n",
    "        print(\"__setattr__\")\n",
    "        if key == \"z\":\n",
    "            raise AttributeError(\"Недопустимое имя аттрибута\")\n",
    "        else: object.__setattr__(self, key, value)\n",
    "\n",
    "    def __getattr__(self, item):\n",
    "        print(\"__getattr__ \" + item)\n",
    "        return False\n",
    "\n",
    "    def __delattr__(self, item):\n",
    "        print(\"__delattr__ \" + item)\n",
    "        object.__delattr__(self, item)  # Обращение к базовому классу object\n",
    "\n",
    "pt1 = Point(1, 2)\n",
    "pt2 = Point(10, 20)\n",
    "a = pt1.y\n",
    "print(a)\n",
    "print(pt1.yy)\n",
    "pt1.y = 5"
   ],
   "id": "5b0d717468565a2",
   "outputs": [
    {
     "name": "stdout",
     "output_type": "stream",
     "text": [
      "__setattr__\n",
      "__setattr__\n",
      "__setattr__\n",
      "__setattr__\n",
      "__getattribute__\n",
      "2\n",
      "__getattribute__\n",
      "__getattr__ yy\n",
      "False\n",
      "__setattr__\n"
     ]
    }
   ],
   "execution_count": 15
  },
  {
   "metadata": {},
   "cell_type": "markdown",
   "source": [
    "<a id='part_08'></a>\n",
    "# 8. Паттерн \"Моносоостояние\" [▴](#head)"
   ],
   "id": "53d9249e004fb2e7"
  },
  {
   "metadata": {},
   "cell_type": "markdown",
   "source": [
    "Раскатывает атрибуты на все объекты класса и синхронизирует их.\n",
    "\n",
    "Зачем применимо ХЗ."
   ],
   "id": "e40c9121763343d2"
  },
  {
   "metadata": {
    "ExecuteTime": {
     "end_time": "2025-10-04T18:19:12.758952Z",
     "start_time": "2025-10-04T18:19:12.755156Z"
    }
   },
   "cell_type": "code",
   "source": [
    "class ThreadData:\n",
    "    __shared_attrs = {\n",
    "        'name': 'thread_1',\n",
    "        'data': {},\n",
    "        'id': 1\n",
    "    }\n",
    "\n",
    "    def __init__(self):\n",
    "        self.__dict__ = self.__shared_attrs\n",
    "\n",
    "th1 = ThreadData()\n",
    "th2 = ThreadData()\n",
    "th2.id = 3\n",
    "th1.attr_new = 'new_attr'\n",
    "\n",
    "print(th1.__dict__)\n",
    "print(th2.__dict__)"
   ],
   "id": "1ae50db28cf97063",
   "outputs": [
    {
     "name": "stdout",
     "output_type": "stream",
     "text": [
      "{'name': 'thread_1', 'data': {}, 'id': 3, 'attr_new': 'new_attr'}\n",
      "{'name': 'thread_1', 'data': {}, 'id': 3, 'attr_new': 'new_attr'}\n"
     ]
    }
   ],
   "execution_count": 16
  },
  {
   "metadata": {},
   "cell_type": "markdown",
   "source": [
    "<a id='part_09'></a>\n",
    "# 9. Свойства `property` [▴](#head)"
   ],
   "id": "d571b186d856e47a"
  },
  {
   "metadata": {
    "ExecuteTime": {
     "end_time": "2025-10-04T18:24:25.069014Z",
     "start_time": "2025-10-04T18:24:25.066109Z"
    }
   },
   "cell_type": "code",
   "source": [
    "class Person:\n",
    "    def __init__(self, name, old):\n",
    "        self.__name = name\n",
    "        self.__old = old\n",
    "\n",
    "    def get_old(self):\n",
    "        return self.__old\n",
    "\n",
    "    def set_old(self, old):\n",
    "        self.__old = old\n",
    "\n",
    "p = Person(\"Сергей\", 20)\n",
    "print(p.get_old())\n",
    "p.set_old(35)\n",
    "print(p.get_old())"
   ],
   "id": "db27c046907f7aca",
   "outputs": [
    {
     "name": "stdout",
     "output_type": "stream",
     "text": [
      "20\n",
      "35\n"
     ]
    }
   ],
   "execution_count": 18
  },
  {
   "metadata": {
    "ExecuteTime": {
     "end_time": "2025-10-04T18:39:34.410413Z",
     "start_time": "2025-10-04T18:39:34.407120Z"
    }
   },
   "cell_type": "code",
   "source": [
    "# Так правильно реализовать Сеттеры и Геттеры\n",
    "class Person:\n",
    "    def __init__(self, name, old):\n",
    "        self.__name = name\n",
    "        self.__old = old\n",
    "\n",
    "    @property # реализуем геттер\n",
    "    def old(self):\n",
    "        return self.__old\n",
    "\n",
    "    @old.setter\n",
    "    def old(self, old):\n",
    "        self.__old = old\n",
    "\n",
    "    @old.deleter\n",
    "    def old(self):\n",
    "        del self.__old\n",
    "\n",
    "p = Person(\"Сергей\", 20)\n",
    "print(p.old, p.__dict__)\n",
    "p.old = 35\n",
    "print(p.old, p.__dict__)"
   ],
   "id": "21d5a883b3bc02c3",
   "outputs": [
    {
     "name": "stdout",
     "output_type": "stream",
     "text": [
      "20 {'_Person__name': 'Сергей', '_Person__old': 20}\n",
      "35 {'_Person__name': 'Сергей', '_Person__old': 35}\n"
     ]
    }
   ],
   "execution_count": 26
  },
  {
   "metadata": {},
   "cell_type": "markdown",
   "source": [
    "<a id='part_10'></a>\n",
    "# 10. `property` практика [▴](#head)"
   ],
   "id": "77f645a1f62fcbe5"
  },
  {
   "metadata": {},
   "cell_type": "markdown",
   "source": [
    "> Пример использования объектов property\n",
    ">\n",
    "> https://rutube.ru/video/9a37005a96efd742eb02a069d4a5c703/\n",
    "\n",
    "Требования:\n",
    "- ФИО\n",
    "- Возраст (целое число от 14 до 120)\n",
    "- Серию и номер паспорта в формате `xxxx xxxxxx`, где x-цифра (от 0 до 9)\n",
    "- Вес, в кг (вещественное число от 20 и выше)\n",
    "\n",
    "Как реализовать:\n",
    "- ФИО - список из трех строк\n",
    "- Возраст - целое число\n",
    "- Паспорт - строка в нужном формате\n",
    "- Вес - вещественное число"
   ],
   "id": "5033d2c5e54bcfd8"
  },
  {
   "metadata": {
    "ExecuteTime": {
     "end_time": "2025-10-04T21:51:34.185258Z",
     "start_time": "2025-10-04T21:51:34.181246Z"
    }
   },
   "cell_type": "code",
   "source": [
    "from string import ascii_letters\n",
    "\n",
    "class Person:\n",
    "    S_RUS = 'абвгдеёжзийклмнопрстуфхцчшщъыьэюя'\n",
    "    S_RUS_UPPER = S_RUS.upper()\n",
    "\n",
    "    def __init__(self, fio, old, ps, weight):\n",
    "        self.verify_fio(fio)\n",
    "        self.verify_old(old)\n",
    "        self.verify_ps(ps)\n",
    "        self.verify_weight(weight)\n",
    "\n",
    "        self.__fio = fio.split()\n",
    "        self.__old = old\n",
    "        self.__passport = ps\n",
    "        self.__weight = weight\n",
    "\n",
    "    @classmethod\n",
    "    def verify_fio(cls, fio):\n",
    "        if type(fio) != str:\n",
    "            raise TypeError(\"ФИО должно быть строкой\")\n",
    "        f = fio.split()\n",
    "        if len(f) != 3:\n",
    "            raise TypeError(\"Неверный формат ФИО\")\n",
    "        letters = ascii_letters + cls.S_RUS + cls.S_RUS_UPPER\n",
    "        for s in f:\n",
    "            if len(s) < 1:\n",
    "                raise TypeError(\"Должен быть хотя бы один символ\")\n",
    "            if len(s.strip(letters)) != 0:\n",
    "                raise TypeError(\"В ФИО можно использовать только буквенные символы и дефис\")\n",
    "\n",
    "    @classmethod\n",
    "    def verify_old(cls, old):\n",
    "        if type(old) != int or old < 14 or old > 120:\n",
    "            raise TypeError(\"Возраст должен быть целым числом в диапазоне [14 - 120]\")\n",
    "\n",
    "    @classmethod\n",
    "    def verify_weight(cls, w):\n",
    "        if type(w) != float or w < 20:\n",
    "            raise TypeError(\"Возраст должен быть вещественным числом от 20 и выше\")\n",
    "\n",
    "    @classmethod\n",
    "    def verify_ps(cls, ps):\n",
    "        if type(ps) != str:\n",
    "            raise TypeError(\"Паспорт должен быть строкой\")\n",
    "        s = ps.split()\n",
    "        if len(s) !=2 or len(s[0]) !=4 or len(s[1]) !=6:\n",
    "            raise TypeError(\"Неверный формат паспорта\")\n",
    "        for p in s:\n",
    "            if not p.isdigit():\n",
    "                raise TypeError(\"Серия и номер паспорта должна быть числами\")\n",
    "\n",
    "p = Person('Балакирев Сергей Михайлович', 20, '1234 567890', 80.0)"
   ],
   "id": "a2a29fd6f01d9ea5",
   "outputs": [],
   "execution_count": 16
  },
  {
   "metadata": {},
   "cell_type": "code",
   "outputs": [],
   "execution_count": null,
   "source": "",
   "id": "cdd1c1d9962c5b8c"
  }
 ],
 "metadata": {
  "kernelspec": {
   "display_name": "Python 3",
   "language": "python",
   "name": "python3"
  },
  "language_info": {
   "codemirror_mode": {
    "name": "ipython",
    "version": 2
   },
   "file_extension": ".py",
   "mimetype": "text/x-python",
   "name": "python",
   "nbconvert_exporter": "python",
   "pygments_lexer": "ipython2",
   "version": "2.7.6"
  }
 },
 "nbformat": 4,
 "nbformat_minor": 5
}
