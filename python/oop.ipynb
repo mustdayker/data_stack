{
 "cells": [
  {
   "metadata": {},
   "cell_type": "markdown",
   "source": [
    "<a id='head'></a>\n",
    "**ООП**\n",
    "\n",
    "https://rutube.ru/plst/537372/"
   ],
   "id": "6e7692105ce4f1d4"
  },
  {
   "metadata": {},
   "cell_type": "markdown",
   "source": [
    "**Оглавление**\n",
    "\n",
    "- [**1. Методы и атрибуты**](#part_01)\n",
    "- [**2. Параметр `self`**](#part_02)\n",
    "- [**3. Метод `__init__`**](#part_03)\n",
    "- [**4. Метод `__new__`**](#part_04)\n",
    "- [**5. Декораторы методов**](#part_05)\n",
    "- [**6. Инкапсуляция**](#part_06)\n",
    "- [**7. Магические методы**](#part_07)\n",
    "- [**8. Паттерн \"Моносоостояние\"**](#part_08)\n",
    "- [**9. Свойства `property`**](#part_09)\n",
    "- [**10. `property` практика**](#part_10)\n",
    "- [**11. Дескрипторы**](#part_11)\n",
    "- [**12. `__call__` функторы и классы-декораторы**](#part_12)\n",
    "- [**13. Методы `__str__`, `__repr__`, `__len__`, `__abs__`**](#part_13)\n",
    "- [**14. Методы `__add__`, `__sub__`, `__mul__`, `__truediv__`**](#part_14)\n",
    "- [**15. Методы сравнений `__eq__`, `__ne__`, `__lt__`, `__gt__`**](#part_)\n",
    "- [**16. Магические методы `__eq__` и `__hash__`**](#part_16)\n",
    "- [**17. Магический метод `__bool__`**](#part_17)\n",
    "- [**18. Магические методы `__getitem__`, `__setitem__` и `__delitem__`**](#part_18)\n",
    "- [**19. Магические методы `__iter__` и `__next__`**](#part_19)\n",
    "- [**20. Наследование в объектно-ориентированном программировании**](#part_20)\n",
    "- [**21. Функция `issubclass()`**](#part_21)\n",
    "- [****](#part_)\n",
    "- [****](#part_)\n",
    "- [****](#part_)\n",
    "- [****](#part_)\n",
    "- [****](#part_)\n",
    "- [****](#part_)\n",
    "- [****](#part_)\n",
    "- [****](#part_)\n",
    "- [****](#part_)\n",
    "- [****](#part_)\n",
    "- [****](#part_)\n",
    "- [****](#part_)\n",
    "- [****](#part_)\n",
    "- [****](#part_)\n",
    "- [****](#part_)\n",
    "- [****](#part_)\n",
    "- [****](#part_)"
   ],
   "id": "314c4c05db526214"
  },
  {
   "metadata": {},
   "cell_type": "markdown",
   "source": "",
   "id": "70f3b0a1d6760341"
  },
  {
   "metadata": {},
   "cell_type": "markdown",
   "source": [
    "<a id='part_01'></a>\n",
    "# 1. Методы и атрибуты [▴](#head)"
   ],
   "id": "701b5c1ee017ec8"
  },
  {
   "metadata": {},
   "cell_type": "markdown",
   "source": [
    "> **Классы и объекты. Атрибуты классов и объектов**\n",
    ">\n",
    "> https://rutube.ru/video/38ef3a2db2919eecf4d5e7f62a2595e1/"
   ],
   "id": "5d3e0d31fdaf6da6"
  },
  {
   "metadata": {
    "ExecuteTime": {
     "end_time": "2025-10-04T14:42:40.851493Z",
     "start_time": "2025-10-04T14:42:40.847508Z"
    }
   },
   "cell_type": "code",
   "source": [
    "from string import ascii_letters\n",
    "\n",
    "\n",
    "class Point():\n",
    "    \"Документацию класса можно поместить здесь\"\n",
    "    color = 'red'\n",
    "    circle = 2\n",
    "\n",
    "a = Point()\n",
    "b = Point()\n",
    "\n",
    "a.x = 1\n",
    "a.y = 2\n",
    "\n",
    "b.x = 10\n",
    "b.y = 20\n",
    "\n",
    "print(Point.__doc__) # Вывести доку на экран\n",
    "print()\n",
    "print(Point.__dict__) # Вывести все атрибуты класса\n",
    "print()\n",
    "print(f\"a - {a.__dict__}\") # Вывести все атрибуты объекта класса\n",
    "print(f\"b - {b.__dict__}\") # Вывести все атрибуты объекта класса"
   ],
   "id": "8b87da48f1f6e491",
   "outputs": [
    {
     "name": "stdout",
     "output_type": "stream",
     "text": [
      "Документацию класса можно поместить здесь\n",
      "\n",
      "{'__module__': '__main__', '__firstlineno__': 1, '__doc__': 'Документацию класса можно поместить здесь', 'color': 'red', 'circle': 2, '__static_attributes__': (), '__dict__': <attribute '__dict__' of 'Point' objects>, '__weakref__': <attribute '__weakref__' of 'Point' objects>}\n",
      "\n",
      "a - {'x': 1, 'y': 2}\n",
      "b - {'x': 10, 'y': 20}\n"
     ]
    }
   ],
   "execution_count": 9
  },
  {
   "metadata": {},
   "cell_type": "markdown",
   "source": [
    "<a id='part_02'></a>\n",
    "# 2. Параметр `self` [▴](#head)"
   ],
   "id": "ff10d09d5ddf6125"
  },
  {
   "metadata": {},
   "cell_type": "markdown",
   "source": [
    "> **Методы классов. Параметр self**\n",
    ">\n",
    "> https://rutube.ru/video/408086cd61a97647d042b3f2ff148847/"
   ],
   "id": "2d26e757d7f72a7d"
  },
  {
   "metadata": {
    "ExecuteTime": {
     "end_time": "2025-10-04T12:13:59.819284Z",
     "start_time": "2025-10-04T12:13:59.815647Z"
    }
   },
   "cell_type": "code",
   "source": [
    "class Point:\n",
    "    \"Учебный класс\"\n",
    "    color = 'red'\n",
    "    circle = 2\n",
    "\n",
    "    def set_coords(self, x=0, y=0):\n",
    "        self.x = x\n",
    "        self.y = y\n",
    "\n",
    "    def get_coords(self):\n",
    "        return self.x, self.y\n",
    "\n",
    "pt = Point()\n",
    "pt2 = Point()\n",
    "pt.set_coords(1, 2)\n",
    "pt2.set_coords(10, 20)\n",
    "print(f\"Координаторы полученные через метод get_cords: {pt.get_coords()}\")\n",
    "print(f\"Координаторы полученные через метод get_cords: {pt2.get_coords()}\")"
   ],
   "id": "79f80ec0875a9039",
   "outputs": [
    {
     "name": "stdout",
     "output_type": "stream",
     "text": [
      "Координаторы полученные через метод get_cords: (1, 2)\n",
      "Координаторы полученные через метод get_cords: (10, 20)\n"
     ]
    }
   ],
   "execution_count": 9
  },
  {
   "metadata": {},
   "cell_type": "markdown",
   "source": [
    "<a id='part_03'></a>\n",
    "# 3. Метод `__init__` [▴](#head)"
   ],
   "id": "d92835ec15b7b8f0"
  },
  {
   "metadata": {},
   "cell_type": "markdown",
   "source": [
    "> **Инициализатор `__init__` и финализатор `__del__`**\n",
    ">\n",
    "> https://rutube.ru/video/8432f8f747b092b34b4d98351b0d2331/"
   ],
   "id": "db6e1bb8b68bd234"
  },
  {
   "metadata": {
    "ExecuteTime": {
     "end_time": "2025-10-04T12:52:50.369424Z",
     "start_time": "2025-10-04T12:52:50.365585Z"
    }
   },
   "cell_type": "code",
   "source": [
    "class Point:\n",
    "    \"Учебный класс\"\n",
    "    color = 'red'\n",
    "    circle = 2\n",
    "\n",
    "    # __init__  метод вызывается при создании объекта класса\n",
    "    def __init__(self, x=0, y=0):\n",
    "        print(\"Вызов __init__\")\n",
    "        self.x = x\n",
    "        self.y = y\n",
    "\n",
    "    def set_coords(self, x, y):\n",
    "        self.x = x\n",
    "        self.y = y\n",
    "\n",
    "    def get_coords(self):\n",
    "        return self.x, self.y\n",
    "\n",
    "pt = Point(1,2)\n"
   ],
   "id": "f764741be16da819",
   "outputs": [
    {
     "name": "stdout",
     "output_type": "stream",
     "text": [
      "Вызов __init__\n"
     ]
    }
   ],
   "execution_count": 14
  },
  {
   "metadata": {},
   "cell_type": "markdown",
   "source": [
    "<a id='part_04'></a>\n",
    "# 4. Метод `__new__` [▴](#head)"
   ],
   "id": "cbd4383310639db2"
  },
  {
   "metadata": {},
   "cell_type": "markdown",
   "source": [
    "> **Магический метод `__new__`. Пример паттерна `Singleton`**\n",
    ">\n",
    "> https://rutube.ru/video/dca643f23343a42a20d698d8287c78c7/\n",
    "\n",
    "- Метод `__new__` используется для реализации логики `Singleton`\n",
    "- Логика `Singleton` подразумевает что в программе должен существовать только 1 экземпляр класса"
   ],
   "id": "618031540089f48b"
  },
  {
   "metadata": {},
   "cell_type": "code",
   "outputs": [],
   "execution_count": 4,
   "source": [
    "\n",
    "class DataBase:\n",
    "    __instance = None\n",
    "\n",
    "    def __new__(cls, *args, **kwargs):\n",
    "        if cls.__instance is None:\n",
    "            cls.__instance = super().__new__(cls)\n",
    "        return cls.__instance\n",
    "\n",
    "    def __del__(self):\n",
    "        DataBase.__instance = None\n",
    "\n",
    "    def __init__(self, user, psw, port):\n",
    "        self.user = user\n",
    "        self.psw = psw\n",
    "        self.port = port\n",
    "\n",
    "    def connect(self):\n",
    "        print(f\"Соединение с БД: {self.user}, {self.psw}, {self.port}\")\n",
    "\n",
    "    def close(self):\n",
    "        print(\"Закрытие соединения с БД\")\n",
    "\n",
    "    def read(self):\n",
    "        return \"Данные из БД\"\n",
    "\n",
    "    def write(self, data):\n",
    "        print(f\"Запись в БД {data}\")"
   ],
   "id": "8494cda794b8a9c0"
  },
  {
   "metadata": {},
   "cell_type": "markdown",
   "source": [
    "<a id='part_05'></a>\n",
    "# 5. Декораторы методов [▴](#head)"
   ],
   "id": "256cfd5f3c1c2d66"
  },
  {
   "metadata": {},
   "cell_type": "markdown",
   "source": [
    "> **Методы класса (`classmethod`) и статические методы (`staticmethod`)**\n",
    ">\n",
    "> https://rutube.ru/video/935ecbc0801cfb157134e0e1d5130077/\n",
    "\n",
    "**`@classmethod` - методы класса**\n",
    "- Его можно вызывать напрямую в формате `Class.Method()`\n",
    "- Например `Vector.validate(5)`\n",
    "- Плюс нельзя работать с атрибутами экземпляра класса\n",
    "\n",
    "**`@staticmethod` - статические методы**\n",
    "- Они не имеют доступа ни к атрибутам класса ни к атрибутам его экземпляра.\n",
    "- Создается некая независимая функция объявленная внутри класса\n"
   ],
   "id": "2063614697b1c7fe"
  },
  {
   "metadata": {
    "ExecuteTime": {
     "end_time": "2025-10-04T14:13:47.198611Z",
     "start_time": "2025-10-04T14:13:47.195772Z"
    }
   },
   "cell_type": "code",
   "outputs": [],
   "execution_count": 35,
   "source": [
    "class Vector:\n",
    "    MIN_COORD = 0\n",
    "    MAX_COORD = 100\n",
    "\n",
    "    @classmethod\n",
    "    def validate(cls, arg):\n",
    "        return cls.MIN_COORD <= arg <= cls.MAX_COORD\n",
    "\n",
    "    def __init__(self, x, y):\n",
    "        self.x = self.y = 0\n",
    "\n",
    "        if self.validate(x) and self.validate(y):\n",
    "            self.x = x\n",
    "            self.y = y\n",
    "        print(self.norm2(self.x, self.y))\n",
    "\n",
    "    def get_coords(self):\n",
    "        return self.x, self.y\n",
    "\n",
    "    @staticmethod\n",
    "    def norm2(x, y):\n",
    "        return x*x + y*y\n"
   ],
   "id": "9a5d0e4b9401f5d9"
  },
  {
   "metadata": {
    "ExecuteTime": {
     "end_time": "2025-10-04T14:14:11.826185Z",
     "start_time": "2025-10-04T14:14:11.822876Z"
    }
   },
   "cell_type": "code",
   "outputs": [
    {
     "name": "stdout",
     "output_type": "stream",
     "text": [
      "500\n",
      "61\n",
      "(10, 20)\n"
     ]
    }
   ],
   "execution_count": 37,
   "source": [
    "v = Vector(10,20)\n",
    "print(Vector.norm2(5,6))\n",
    "res = Vector.get_coords(v)\n",
    "print(res)"
   ],
   "id": "4309c85c61a412e7"
  },
  {
   "metadata": {},
   "cell_type": "markdown",
   "source": [
    "<a id='part_06'></a>\n",
    "# 6. Инкапсуляция [▴](#head)"
   ],
   "id": "1ab1f1f752333ec9"
  },
  {
   "metadata": {},
   "cell_type": "markdown",
   "source": [
    "> **Режимы доступа `public`, `private`, `protected`. Сеттеры и геттеры**\n",
    ">\n",
    "> https://rutube.ru/video/6561fce4974b923af19818fe21ab4e93/\n",
    "\n",
    "Режим доступа | Описание\n",
    "-|-\n",
    "`attribute` (без подчеркиваний) = `public` | Публичное свойство\n",
    "`_attribute` (одно подчеркивание) = `protected` | Служит для обращения внутри класса и во всех ег одочерних классах. Но оно дишь остерегает программиста от использования этого атрибута\n",
    "`__attribute` (два подчеркивания) = `private` | Служит для обращения только внутри класса. Тут мы уже не можем обратиться напрямую извне"
   ],
   "id": "40f038103bd52c62"
  },
  {
   "metadata": {
    "ExecuteTime": {
     "end_time": "2025-10-04T16:32:17.567098Z",
     "start_time": "2025-10-04T16:32:17.564009Z"
    }
   },
   "cell_type": "code",
   "source": [
    "# public\n",
    "class Point():\n",
    "    def __init__(self, x=0, y=0):\n",
    "        self.x = x\n",
    "        self.y = y\n",
    "pt = Point(1, 2)\n",
    "pt.x = 200\n",
    "pt.y = 'coords'\n",
    "print(pt.x, pt.y)"
   ],
   "id": "5c8cf5cffcf73d80",
   "outputs": [
    {
     "name": "stdout",
     "output_type": "stream",
     "text": [
      "200 coords\n"
     ]
    }
   ],
   "execution_count": 5
  },
  {
   "metadata": {
    "ExecuteTime": {
     "end_time": "2025-10-04T16:32:53.231130Z",
     "start_time": "2025-10-04T16:32:53.227843Z"
    }
   },
   "cell_type": "code",
   "source": [
    "# protected\n",
    "class Point():\n",
    "    def __init__(self, x=0, y=0):\n",
    "        self._x = x\n",
    "        self._y = y\n",
    "pt = Point(1, 2)\n",
    "print(pt._x, pt._y)"
   ],
   "id": "e1d884a9df01f74d",
   "outputs": [
    {
     "name": "stdout",
     "output_type": "stream",
     "text": [
      "1 2\n"
     ]
    }
   ],
   "execution_count": 6
  },
  {
   "metadata": {
    "ExecuteTime": {
     "end_time": "2025-10-04T16:52:06.406938Z",
     "start_time": "2025-10-04T16:52:06.402281Z"
    }
   },
   "cell_type": "code",
   "source": [
    "# private\n",
    "class Point():\n",
    "    def __init__(self, x=0, y=0):\n",
    "        self.__x = self.__y = 0\n",
    "        if self.__check_value(x) and self.__check_value(y):\n",
    "            self.__x = x\n",
    "            self.__y = y\n",
    "\n",
    "    # Проверяем является ли переменная числовой\n",
    "    @classmethod\n",
    "    def __check_value(cls, x):\n",
    "        return type(x) in (int, float)\n",
    "\n",
    "    # методы сеттеры (служат для того чтобы установить закрытые атрибуты)\n",
    "    def set_coord(self, x, y):\n",
    "        if self.__check_value(x) and self.__check_value(y): # применяем проверку\n",
    "            # если проверка проходит присваиваем переменную\n",
    "            self.__x = x\n",
    "            self.__y = y\n",
    "        else:\n",
    "            # Если проверку не проходит выводим ошибку\n",
    "            raise ValueError(\"Координаты должны быть числами\")\n",
    "\n",
    "    # методы геттеры (служат для того чтобы получить закрытые атрибуты)\n",
    "    def get_coord(self):\n",
    "        return self.__x, self.__y\n",
    "\n",
    "pt = Point()\n",
    "pt.set_coord(10, 20)\n",
    "print(pt.get_coord())"
   ],
   "id": "18539adad8ae2a26",
   "outputs": [
    {
     "name": "stdout",
     "output_type": "stream",
     "text": [
      "(10, 20)\n"
     ]
    }
   ],
   "execution_count": 16
  },
  {
   "metadata": {
    "ExecuteTime": {
     "end_time": "2025-10-04T16:30:09.318759Z",
     "start_time": "2025-10-04T16:30:09.316360Z"
    }
   },
   "cell_type": "markdown",
   "source": [
    "<a id='part_07'></a>\n",
    "# 7. Магические методы [▴](#head)"
   ],
   "id": "1cb8f33c9ae74f8"
  },
  {
   "metadata": {},
   "cell_type": "markdown",
   "source": [
    "> **Магические методы `__setattr__`, `__getattribute__`, `__getattr__`, `__delattr__`**\n",
    ">\n",
    "> https://rutube.ru/video/1b3a70fe079819d1b3cb2b0b0212f2a5/\n",
    "\n",
    "\n",
    "Метод | Описание\n",
    "-|-\n",
    "`__setattr__(self, key, value)` |автоматически вызывается при изменении свойства (атрибута) key класса\n",
    "`__getattribute__(self, item)` | автоматически вызывается при получении свойства класса с имененм item\n",
    "`__getattr__(self, item)` | автоматически вызывается при получении несуществующего свойства (атрибута) item класса\n",
    "`__delattr__(self, item)` | автоматически вызывается при удалении свойства (атрибута) item. Неважно существует оно или нет"
   ],
   "id": "520b81d0549f5d16"
  },
  {
   "metadata": {
    "ExecuteTime": {
     "end_time": "2025-10-04T18:00:11.274756Z",
     "start_time": "2025-10-04T18:00:11.271635Z"
    }
   },
   "cell_type": "code",
   "source": [
    "# Как обращаться именно к атрибутам класса\n",
    "\n",
    "class Point():\n",
    "    MIN_COORD = 0\n",
    "    MAX_COORD = 100\n",
    "\n",
    "    def __init__(self, x, y):\n",
    "            self.x = x\n",
    "            self.y = y\n",
    "\n",
    "    def set_coord(self, x, y):\n",
    "        if self.MIN_COORD <= x <= self.MAX_COORD:\n",
    "            self.x = x\n",
    "            self.y = y\n",
    "\n",
    "    @classmethod\n",
    "    def set_bound(cls, left):\n",
    "        cls.MIN_COORD = left\n",
    "\n",
    "pt1 = Point(1, 2)\n",
    "pt1.set_bound(-100) # В данном примере в экземпляре класса не будет создан атрибут MIN_COORD\n",
    "                    # вместо этого атрибут будет изменен в родительском классе\n",
    "print(pt1.__dict__)\n",
    "print(Point.__dict__)\n"
   ],
   "id": "832c9b858fe9d2de",
   "outputs": [
    {
     "name": "stdout",
     "output_type": "stream",
     "text": [
      "{'x': 1, 'y': 2}\n",
      "{'__module__': '__main__', '__firstlineno__': 3, 'MIN_COORD': -100, 'MAX_COORD': 100, '__init__': <function Point.__init__ at 0x00000226527BF920>, 'set_coord': <function Point.set_coord at 0x00000226527BF560>, 'set_bound': <classmethod(<function Point.set_bound at 0x00000226527E82C0>)>, '__static_attributes__': ('x', 'y'), '__dict__': <attribute '__dict__' of 'Point' objects>, '__weakref__': <attribute '__weakref__' of 'Point' objects>, '__doc__': None}\n"
     ]
    }
   ],
   "execution_count": 2
  },
  {
   "metadata": {
    "ExecuteTime": {
     "end_time": "2025-10-04T18:10:44.773454Z",
     "start_time": "2025-10-04T18:10:44.770101Z"
    }
   },
   "cell_type": "code",
   "source": [
    "# Как обращаться именно к атрибутам класса\n",
    "\n",
    "class Point():\n",
    "    MIN_COORD = 0\n",
    "    MAX_COORD = 100\n",
    "\n",
    "    def __init__(self, x, y):\n",
    "            self.x = x\n",
    "            self.y = y\n",
    "\n",
    "    def set_coord(self, x, y):\n",
    "        if self.MIN_COORD <= x <= self.MAX_COORD:\n",
    "            self.x = x\n",
    "            self.y = y\n",
    "\n",
    "    def __getattribute__(self, item):\n",
    "        print(\"__getattribute__\")\n",
    "        if item == \"x\":\n",
    "            raise ValueError(\"Доступ запрещен\")\n",
    "        else:\n",
    "            return object.__getattribute__(self, item) # Обращение к базовому классу object\n",
    "\n",
    "    def __setattr__(self, key, value):\n",
    "        print(\"__setattr__\")\n",
    "        if key == \"z\":\n",
    "            raise AttributeError(\"Недопустимое имя аттрибута\")\n",
    "        else: object.__setattr__(self, key, value)\n",
    "\n",
    "    def __getattr__(self, item):\n",
    "        print(\"__getattr__ \" + item)\n",
    "        return False\n",
    "\n",
    "    def __delattr__(self, item):\n",
    "        print(\"__delattr__ \" + item)\n",
    "        object.__delattr__(self, item)  # Обращение к базовому классу object\n",
    "\n",
    "pt1 = Point(1, 2)\n",
    "pt2 = Point(10, 20)\n",
    "a = pt1.y\n",
    "print(a)\n",
    "print(pt1.yy)\n",
    "pt1.y = 5"
   ],
   "id": "5b0d717468565a2",
   "outputs": [
    {
     "name": "stdout",
     "output_type": "stream",
     "text": [
      "__setattr__\n",
      "__setattr__\n",
      "__setattr__\n",
      "__setattr__\n",
      "__getattribute__\n",
      "2\n",
      "__getattribute__\n",
      "__getattr__ yy\n",
      "False\n",
      "__setattr__\n"
     ]
    }
   ],
   "execution_count": 15
  },
  {
   "metadata": {},
   "cell_type": "markdown",
   "source": [
    "<a id='part_08'></a>\n",
    "# 8. Паттерн \"Моносоостояние\" [▴](#head)"
   ],
   "id": "53d9249e004fb2e7"
  },
  {
   "metadata": {},
   "cell_type": "markdown",
   "source": [
    "> https://rutube.ru/video/751e7a7feb839e36040dae26aa76d03c/\n",
    "\n",
    "Раскатывает атрибуты на все объекты класса и синхронизирует их.\n",
    "\n",
    "Зачем применимо ХЗ."
   ],
   "id": "e40c9121763343d2"
  },
  {
   "metadata": {
    "ExecuteTime": {
     "end_time": "2025-10-04T18:19:12.758952Z",
     "start_time": "2025-10-04T18:19:12.755156Z"
    }
   },
   "cell_type": "code",
   "source": [
    "class ThreadData:\n",
    "    __shared_attrs = {\n",
    "        'name': 'thread_1',\n",
    "        'data': {},\n",
    "        'id': 1\n",
    "    }\n",
    "\n",
    "    def __init__(self):\n",
    "        self.__dict__ = self.__shared_attrs\n",
    "\n",
    "th1 = ThreadData()\n",
    "th2 = ThreadData()\n",
    "th2.id = 3\n",
    "th1.attr_new = 'new_attr'\n",
    "\n",
    "print(th1.__dict__)\n",
    "print(th2.__dict__)"
   ],
   "id": "1ae50db28cf97063",
   "outputs": [
    {
     "name": "stdout",
     "output_type": "stream",
     "text": [
      "{'name': 'thread_1', 'data': {}, 'id': 3, 'attr_new': 'new_attr'}\n",
      "{'name': 'thread_1', 'data': {}, 'id': 3, 'attr_new': 'new_attr'}\n"
     ]
    }
   ],
   "execution_count": 16
  },
  {
   "metadata": {},
   "cell_type": "markdown",
   "source": [
    "<a id='part_09'></a>\n",
    "# 9. Свойства `property` [▴](#head)"
   ],
   "id": "d571b186d856e47a"
  },
  {
   "metadata": {},
   "cell_type": "markdown",
   "source": [
    "> **Свойства property. Декоратор `@property`**\n",
    ">\n",
    "> https://rutube.ru/video/43c95b1abb1c2812e4588aa394d5af39/\n"
   ],
   "id": "26f00cbe37edec45"
  },
  {
   "metadata": {
    "ExecuteTime": {
     "end_time": "2025-10-04T18:24:25.069014Z",
     "start_time": "2025-10-04T18:24:25.066109Z"
    }
   },
   "cell_type": "code",
   "outputs": [
    {
     "name": "stdout",
     "output_type": "stream",
     "text": [
      "20\n",
      "35\n"
     ]
    }
   ],
   "execution_count": 18,
   "source": [
    "class Person:\n",
    "    def __init__(self, name, old):\n",
    "        self.__name = name\n",
    "        self.__old = old\n",
    "\n",
    "    def get_old(self):\n",
    "        return self.__old\n",
    "\n",
    "    def set_old(self, old):\n",
    "        self.__old = old\n",
    "\n",
    "p = Person(\"Сергей\", 20)\n",
    "print(p.get_old())\n",
    "p.set_old(35)\n",
    "print(p.get_old())"
   ],
   "id": "c1db35af20da5ef8"
  },
  {
   "metadata": {
    "ExecuteTime": {
     "end_time": "2025-10-04T18:39:34.410413Z",
     "start_time": "2025-10-04T18:39:34.407120Z"
    }
   },
   "cell_type": "code",
   "source": [
    "# Так правильно реализовать Сеттеры и Геттеры\n",
    "class Person:\n",
    "    def __init__(self, name, old):\n",
    "        self.__name = name\n",
    "        self.__old = old\n",
    "\n",
    "    @property # реализуем геттер\n",
    "    def old(self):\n",
    "        return self.__old\n",
    "\n",
    "    @old.setter\n",
    "    def old(self, old):\n",
    "        self.__old = old\n",
    "\n",
    "    @old.deleter\n",
    "    def old(self):\n",
    "        del self.__old\n",
    "\n",
    "p = Person(\"Сергей\", 20)\n",
    "print(p.old, p.__dict__)\n",
    "p.old = 35\n",
    "print(p.old, p.__dict__)"
   ],
   "id": "21d5a883b3bc02c3",
   "outputs": [
    {
     "name": "stdout",
     "output_type": "stream",
     "text": [
      "20 {'_Person__name': 'Сергей', '_Person__old': 20}\n",
      "35 {'_Person__name': 'Сергей', '_Person__old': 35}\n"
     ]
    }
   ],
   "execution_count": 26
  },
  {
   "metadata": {},
   "cell_type": "markdown",
   "source": [
    "<a id='part_10'></a>\n",
    "# 10. `property` практика [▴](#head)"
   ],
   "id": "77f645a1f62fcbe5"
  },
  {
   "metadata": {},
   "cell_type": "markdown",
   "source": [
    "> **Пример использования объектов `property`**\n",
    ">\n",
    "> https://rutube.ru/video/9a37005a96efd742eb02a069d4a5c703/\n",
    "\n",
    "Требования:\n",
    "- ФИО\n",
    "- Возраст (целое число от 14 до 120)\n",
    "- Серию и номер паспорта в формате `xxxx xxxxxx`, где x-цифра (от 0 до 9)\n",
    "- Вес, в кг (вещественное число от 20 и выше)\n",
    "\n",
    "Как реализовать:\n",
    "- ФИО - список из трех строк\n",
    "- Возраст - целое число\n",
    "- Паспорт - строка в нужном формате\n",
    "- Вес - вещественное число"
   ],
   "id": "5033d2c5e54bcfd8"
  },
  {
   "metadata": {
    "ExecuteTime": {
     "end_time": "2025-10-05T08:36:48.753607Z",
     "start_time": "2025-10-05T08:36:48.748346Z"
    }
   },
   "cell_type": "code",
   "source": [
    "from string import ascii_letters\n",
    "\n",
    "class Person:\n",
    "    S_RUS = 'абвгдеёжзийклмнопрстуфхцчшщъыьэюя'\n",
    "    S_RUS_UPPER = S_RUS.upper()\n",
    "\n",
    "    def __init__(self, fio, old, ps, weight):\n",
    "        self.verify_fio(fio) # Тут нужна функция verify так как мы прогоняем данные не через сеттер\n",
    "                             # Для остальных атрибутов (свойств) функция проверки вызывается в сеттере\n",
    "\n",
    "        self.__fio = fio.split() # ФИО принимаем в таком виде, так как для него не прописан сеттер\n",
    "        self.old = old\n",
    "        self.passport = ps\n",
    "        self.weight = weight\n",
    "\n",
    "    # Блок проверок на правильность формата вводимых данных\n",
    "    @classmethod\n",
    "    def verify_fio(cls, fio):\n",
    "        if type(fio) != str:\n",
    "            raise TypeError(\"ФИО должно быть строкой\")\n",
    "        f = fio.split()\n",
    "        if len(f) != 3:\n",
    "            raise TypeError(\"Неверный формат ФИО\")\n",
    "        letters = ascii_letters + cls.S_RUS + cls.S_RUS_UPPER\n",
    "        for s in f:\n",
    "            if len(s) < 1:\n",
    "                raise TypeError(\"Должен быть хотя бы один символ\")\n",
    "            if len(s.strip(letters)) != 0:\n",
    "                raise TypeError(\"В ФИО можно использовать только буквенные символы и дефис\")\n",
    "\n",
    "    @classmethod\n",
    "    def verify_old(cls, old):\n",
    "        if type(old) != int or old < 14 or old > 120:\n",
    "            raise TypeError(\"Возраст должен быть целым числом в диапазоне [14 - 120]\")\n",
    "\n",
    "    @classmethod\n",
    "    def verify_weight(cls, w):\n",
    "        if type(w) != float or w < 20:\n",
    "            raise TypeError(\"Вес должен быть вещественным числом от 20 и выше\")\n",
    "\n",
    "    @classmethod\n",
    "    def verify_ps(cls, ps):\n",
    "        if type(ps) != str:\n",
    "            raise TypeError(\"Паспорт должен быть строкой\")\n",
    "        s = ps.split()\n",
    "        if len(s) !=2 or len(s[0]) !=4 or len(s[1]) !=6:\n",
    "            raise TypeError(\"Неверный формат паспорта\")\n",
    "        for p in s:\n",
    "            if not p.isdigit():\n",
    "                raise TypeError(\"Серия и номер паспорта должна быть числами\")\n",
    "\n",
    "    # Геттер для ФИО\n",
    "    @property\n",
    "    def fio(self):\n",
    "        return self.__fio\n",
    "\n",
    "    # Геттер и сеттер для возраста\n",
    "    @property\n",
    "    def old(self):\n",
    "        return self.__old\n",
    "    @old.setter\n",
    "    def old(self, old):\n",
    "        self.verify_old(old)\n",
    "        self.__old = old\n",
    "\n",
    "    # Геттер и сеттер для веса\n",
    "    @property\n",
    "    def weight(self):\n",
    "        return self.__weight\n",
    "    @weight.setter\n",
    "    def weight(self, weight):\n",
    "        self.verify_weight(weight)\n",
    "        self.__weight = weight\n",
    "\n",
    "    # Геттер и сеттер для паспорта\n",
    "    @property\n",
    "    def passport(self):\n",
    "        return self.__passport\n",
    "    @passport.setter\n",
    "    def passport(self, ps):\n",
    "        self.verify_ps(ps)\n",
    "        self.__passport = ps\n",
    "\n",
    "\n",
    "p = Person('Балакирев Сергей Михайлович', 20, '1234 567890', 80.0)\n",
    "p.old = 100\n",
    "p.passport = '4567 123456'\n",
    "p.weight = 70.0\n",
    "print(p.__dict__)\n",
    "print(p.old)"
   ],
   "id": "a2a29fd6f01d9ea5",
   "outputs": [
    {
     "name": "stdout",
     "output_type": "stream",
     "text": [
      "{'_Person__fio': ['Балакирев', 'Сергей', 'Михайлович'], '_Person__old': 100, '_Person__passport': '4567 123456', '_Person__weight': 70.0}\n",
      "100\n"
     ]
    }
   ],
   "execution_count": 12
  },
  {
   "metadata": {},
   "cell_type": "markdown",
   "source": [
    "<a id='part_11'></a>\n",
    "# 11. Дескрипторы [▴](#head)"
   ],
   "id": "1e944e34af34fd4d"
  },
  {
   "metadata": {},
   "cell_type": "markdown",
   "source": [
    ">\n",
    ">"
   ],
   "id": "e9e7dd7292669cbf"
  },
  {
   "metadata": {
    "ExecuteTime": {
     "end_time": "2025-10-05T08:38:37.220350Z",
     "start_time": "2025-10-05T08:38:37.217167Z"
    }
   },
   "cell_type": "markdown",
   "source": [
    "> **Дескрипторы (`data descriptor` и `non-data descriptor`)**\n",
    ">\n",
    "> https://rutube.ru/video/80d2bfb904b72ca981d33830b278d330/\n",
    "\n",
    "Применяются когда надо оптимизировать дублирующий код сеттеров и геттеров\n",
    "\n",
    "- **`non-data descriptor` (дескрипотор не данных)**\n",
    "\n",
    "```python\n",
    "# class A\n",
    "def __get__(self, instance, owner):\n",
    "    return ...\n",
    "```\n",
    "\n",
    "- **`data descriptor` (дескрипотор данных)**\n",
    "```python\n",
    "# class B\n",
    "def __get__(self, instance, owner):\n",
    "    return ...\n",
    "def __set__(self, instance, value):\n",
    "def __del__(self):\n",
    "```\n"
   ],
   "id": "51ebf98cd7281626"
  },
  {
   "metadata": {
    "ExecuteTime": {
     "end_time": "2025-10-05T11:01:52.620245Z",
     "start_time": "2025-10-05T11:01:52.617128Z"
    }
   },
   "cell_type": "code",
   "source": [
    "class Point3D:\n",
    "    def __init__(self, x, y, z):\n",
    "        self.x = x\n",
    "        self.y = y\n",
    "        self.z = z\n",
    "\n",
    "    @classmethod\n",
    "    def verify_coords(cls, coords):\n",
    "        if type(coords) != int:\n",
    "            raise TypeError(\"Координата должна быть целым числом\")\n",
    "\n",
    "    @property\n",
    "    def x(self):\n",
    "        return self._x\n",
    "    @x.setter\n",
    "    def x(self, coord):\n",
    "        self.verify_coords(coord)\n",
    "        self._x = coord\n",
    "\n",
    "    @property\n",
    "    def y(self):\n",
    "        return self._y\n",
    "    @y.setter\n",
    "    def y(self, coord):\n",
    "        self.verify_coords(coord)\n",
    "        self._y = coord\n",
    "\n",
    "    @property\n",
    "    def z(self):\n",
    "        return self._z\n",
    "    @z.setter\n",
    "    def z(self, coord):\n",
    "        self.verify_coords(coord)\n",
    "        self._z = coord\n",
    "\n",
    "p = Point3D(1, 2, 3)\n",
    "print(p.__dict__)"
   ],
   "id": "9b006e9e0c278d8d",
   "outputs": [
    {
     "name": "stdout",
     "output_type": "stream",
     "text": [
      "{'_x': 1, '_y': 2, '_z': 3}\n"
     ]
    }
   ],
   "execution_count": 16
  },
  {
   "metadata": {},
   "cell_type": "markdown",
   "source": "Теперь напишем тоже самое с дескриптором",
   "id": "d8c0f3d083819543"
  },
  {
   "metadata": {
    "ExecuteTime": {
     "end_time": "2025-10-05T12:17:16.121852Z",
     "start_time": "2025-10-05T12:17:16.117119Z"
    }
   },
   "cell_type": "code",
   "source": [
    "class Integer: # имя может быть любым\n",
    "\n",
    "    @classmethod\n",
    "    def verify_coord(cls, coords):\n",
    "        if type(coords) != int:\n",
    "            raise TypeError(\"Координата должна быть целым числом\")\n",
    "\n",
    "    # формирует локальное свойство (атрибут)\n",
    "    # через которое потом будем обращаться в геттере и сеттере\n",
    "    def __set_name__(self, owner, name):\n",
    "        self.name = \"_\" + name\n",
    "\n",
    "    def __get__(self, instance, owner):\n",
    "        return getattr(instance, self.name) # return instance.__dict__[self.name] - еще можно так\n",
    "\n",
    "    def __set__(self, instance, value):\n",
    "        self.verify_coord(value)\n",
    "        print(f\"__set__:{self.name} = {value}\")\n",
    "        setattr(instance, self.name, value) # instance.__dict__[self.name]=value - еще можно так\n",
    "\n",
    "class Point3D:\n",
    "    # формируем дескрипторы\n",
    "    x = Integer()\n",
    "    y = Integer()\n",
    "    z = Integer()\n",
    "\n",
    "    def __init__(self, x, y, z):\n",
    "        self.x = x\n",
    "        self.y = y\n",
    "        self.z = z\n",
    "\n",
    "p = Point3D(1, 2, 3)\n",
    "print(p.__dict__)"
   ],
   "id": "fd40f7462515c57b",
   "outputs": [
    {
     "name": "stdout",
     "output_type": "stream",
     "text": [
      "__set__:_x = 1\n",
      "__set__:_y = 2\n",
      "__set__:_z = 3\n",
      "{'_x': 1, '_y': 2, '_z': 3}\n"
     ]
    }
   ],
   "execution_count": 26
  },
  {
   "metadata": {},
   "cell_type": "markdown",
   "source": [
    "<a id='part_12'></a>\n",
    "# 12. `__call__` функторы и классы-декораторы [▴](#head)"
   ],
   "id": "b4c1290c82244081"
  },
  {
   "metadata": {},
   "cell_type": "markdown",
   "source": [
    "> **Магический метод `__call__`**\n",
    ">\n",
    "> **Функторы и классы-декораторы**\n",
    ">\n",
    "> https://rutube.ru/video/89f14316f178c4e02fb8c854adba2d65/\n",
    "\n",
    "Магический метод `__call__` делает класс вызываемым. То есть мы можем к нему обращаться как к функции.\n",
    "\n",
    "Классы которые себя так ведут называются **Функторы**"
   ],
   "id": "91bbbbb773bc11b8"
  },
  {
   "metadata": {},
   "cell_type": "markdown",
   "source": "**Классы - функторы**",
   "id": "14110614eb4c81c3"
  },
  {
   "metadata": {
    "ExecuteTime": {
     "end_time": "2025-10-05T13:17:01.228588Z",
     "start_time": "2025-10-05T13:17:01.225546Z"
    }
   },
   "cell_type": "code",
   "source": [
    "class Counter:\n",
    "    def __init__(self):\n",
    "        self.__counter = 0\n",
    "    def __call__(self, step=1, *args, **kwargs):\n",
    "        print(\"__call__\")\n",
    "        self.__counter += step\n",
    "        return self.__counter\n",
    "\n",
    "c = Counter()\n",
    "c2 = Counter()\n",
    "c()\n",
    "c(2)\n",
    "res = c(10)\n",
    "res2 = c2(-5)\n",
    "print(res, res2)"
   ],
   "id": "57ced415602cc3dd",
   "outputs": [
    {
     "name": "stdout",
     "output_type": "stream",
     "text": [
      "__call__\n",
      "__call__\n",
      "__call__\n",
      "__call__\n",
      "13 -5\n"
     ]
    }
   ],
   "execution_count": 55
  },
  {
   "metadata": {
    "ExecuteTime": {
     "end_time": "2025-10-05T13:33:36.106600Z",
     "start_time": "2025-10-05T13:33:36.102620Z"
    }
   },
   "cell_type": "code",
   "source": [
    "class StripChars:\n",
    "    def __init__(self, chars):\n",
    "        self.__chars = chars\n",
    "\n",
    "    def __call__(self, *args, **kwargs):\n",
    "        if not isinstance(args[0], str):\n",
    "            raise TypeError(\"Аргумент должен быть строкой\")\n",
    "\n",
    "        return args[0].strip(self.__chars)\n",
    "\n",
    "s1 = StripChars(\"?:!.; \")\n",
    "s2 = StripChars(\" \")\n",
    "res = s1(\"    Hello World!?    \")\n",
    "res2 = s2(\"   Hello World!?    \")\n",
    "print(res, res2, sep=\"\\n\")"
   ],
   "id": "acd8bad3e0321b14",
   "outputs": [
    {
     "name": "stdout",
     "output_type": "stream",
     "text": [
      "Hello World\n",
      "Hello World!?\n"
     ]
    }
   ],
   "execution_count": 65
  },
  {
   "metadata": {},
   "cell_type": "markdown",
   "source": "**Классы - декораторы**",
   "id": "a1b3d87a31b86ce2"
  },
  {
   "metadata": {
    "ExecuteTime": {
     "end_time": "2025-10-05T13:41:00.203724Z",
     "start_time": "2025-10-05T13:41:00.200914Z"
    }
   },
   "cell_type": "code",
   "source": [
    "import math\n",
    "\n",
    "class Derivate:\n",
    "    def __init__(self, func):\n",
    "        self.__fn = func\n",
    "\n",
    "    def __call__(self, x, dx=0.0001, *args, **kwargs):\n",
    "        return (self.__fn(x + dx) - self.__fn(x)) / dx\n",
    "\n",
    "@Derivate # Применяем декоратор\n",
    "def df_sin(x):\n",
    "    return math.sin(x)\n",
    "\n",
    "# Можно еще применить вот так df_sin = Derivate(df_sin)\n",
    "\n",
    "print(df_sin(math.pi/3))"
   ],
   "id": "f47477e9eb6f318b",
   "outputs": [
    {
     "name": "stdout",
     "output_type": "stream",
     "text": [
      "0.4999566978958203\n"
     ]
    }
   ],
   "execution_count": 68
  },
  {
   "metadata": {
    "ExecuteTime": {
     "end_time": "2025-10-05T13:58:38.289409Z",
     "start_time": "2025-10-05T13:58:38.284427Z"
    }
   },
   "cell_type": "code",
   "source": [
    "class Logger:\n",
    "    def __init__(self, func):\n",
    "        self.func = func\n",
    "\n",
    "    def __call__(self, *args, **kwargs):\n",
    "        # Это то, что декоратор ДЕЛАЕТ ДОПОЛНИТЕЛЬНО\n",
    "        print(f\"Вызывается функция {self.func.__name__}\")\n",
    "        print(f\"Аргументы: args={args}, kwargs={kwargs}\")\n",
    "\n",
    "        # Это сам ВЫЗОВ исходной функции\n",
    "        result = self.func(*args, **kwargs)\n",
    "\n",
    "        # Это то, что декоратор ДЕЛАЕТ ДОПОЛНИТЕЛЬНО после вызова\n",
    "        print(f\"Функция {self.func.__name__} вернула: {result}\")\n",
    "        print()  # Пустая строка для читаемости\n",
    "\n",
    "        return result\n",
    "\n",
    "@Logger\n",
    "def greet(name, greeting=\"Hello\"):\n",
    "    return f\"{greeting}, {name}!\"\n",
    "\n",
    "@Logger\n",
    "def add(a, b):\n",
    "    return a + b\n",
    "\n",
    "# Тестируем\n",
    "greet(\"Анна\")\n",
    "greet(\"Петр\", greeting=\"Привет\")\n",
    "add(5, 3)"
   ],
   "id": "f6491cd50795363f",
   "outputs": [
    {
     "name": "stdout",
     "output_type": "stream",
     "text": [
      "Вызывается функция greet\n",
      "Аргументы: args=('Анна',), kwargs={}\n",
      "Функция greet вернула: Hello, Анна!\n",
      "\n",
      "Вызывается функция greet\n",
      "Аргументы: args=('Петр',), kwargs={'greeting': 'Привет'}\n",
      "Функция greet вернула: Привет, Петр!\n",
      "\n",
      "Вызывается функция add\n",
      "Аргументы: args=(5, 3), kwargs={}\n",
      "Функция add вернула: 8\n",
      "\n"
     ]
    },
    {
     "data": {
      "text/plain": [
       "8"
      ]
     },
     "execution_count": 74,
     "metadata": {},
     "output_type": "execute_result"
    }
   ],
   "execution_count": 74
  },
  {
   "metadata": {
    "ExecuteTime": {
     "end_time": "2025-10-05T14:31:12.366632Z",
     "start_time": "2025-10-05T14:31:10.357029Z"
    }
   },
   "cell_type": "code",
   "source": [
    "import time\n",
    "import random\n",
    "\n",
    "class Retry:\n",
    "    def __init__(self, max_attempts=3, delay=1):\n",
    "        self.max_attempts = max_attempts\n",
    "        self.delay = delay\n",
    "\n",
    "    def __call__(self, func):\n",
    "        def wrapper(*args, **kwargs):\n",
    "            for attempt in range(self.max_attempts):\n",
    "                try:\n",
    "                    return func(*args, **kwargs)\n",
    "                except Exception as e:\n",
    "                    if attempt == self.max_attempts - 1:\n",
    "                        raise e\n",
    "                    print(f\"Попытка {attempt + 1} не удалась: {e}\\n\")\n",
    "                    time.sleep(self.delay)\n",
    "        return wrapper\n",
    "\n",
    "@Retry(max_attempts=5, delay=2)\n",
    "def unstable_operation():\n",
    "    # Может иногда падать\n",
    "    rnd = random.random()\n",
    "    print(f\"Рандом = {rnd}\")\n",
    "    if rnd < 0.7:\n",
    "        raise ValueError(\"Временная ошибка\")\n",
    "    return \"Успех\"\n",
    "\n",
    "unstable_operation()"
   ],
   "id": "d1c87397c0fb48b5",
   "outputs": [
    {
     "name": "stdout",
     "output_type": "stream",
     "text": [
      "Рандом = 0.6246320497868814\n",
      "Попытка 1 не удалась: Временная ошибка\n",
      "\n",
      "Рандом = 0.7206077191315317\n"
     ]
    },
    {
     "data": {
      "text/plain": [
       "'Успех'"
      ]
     },
     "execution_count": 93,
     "metadata": {},
     "output_type": "execute_result"
    }
   ],
   "execution_count": 93
  },
  {
   "metadata": {},
   "cell_type": "markdown",
   "source": [
    "<a id='part_13'></a>\n",
    "# 13. Методы `__str__`, `__repr__`, `__len__`, `__abs__` [▴](#head)"
   ],
   "id": "d284d5e510d751ba"
  },
  {
   "metadata": {},
   "cell_type": "markdown",
   "source": [
    "> **Магические методы __str__, __repr__, __len__, __abs__**\n",
    ">\n",
    "> https://rutube.ru/video/24ee7e7f528bbc4e5f65395c2a1853ab/\n",
    "\n",
    "Метод | Описание\n",
    "-|-\n",
    "`__str__()`| Для отображения информации об объекте класса для пользователей (например `print`, `str`)\n",
    "`__repr__()`| Для отображения информации об объекте класса в режиме отладки (для разработчиков)\n",
    "`__len__()`| Позволяет применять функцию `len()` к экземплярам класса\n",
    "`__abs__()`| Позволяет применять функцию `abs()` к экземплярам класса"
   ],
   "id": "c408bae27eb6d5fa"
  },
  {
   "metadata": {
    "ExecuteTime": {
     "end_time": "2025-10-05T14:40:35.293807Z",
     "start_time": "2025-10-05T14:40:35.289421Z"
    }
   },
   "cell_type": "code",
   "source": [
    "class Cat:\n",
    "    def __init__(self, name):\n",
    "        self.name = name\n",
    "\n",
    "    def __repr__(self):\n",
    "        return f\"{self.__class__}: {self.name}\"\n",
    "\n",
    "    def __str__(self):\n",
    "        return f\"{self.name}\"\n",
    "\n",
    "cat = Cat(\"Васька\")\n",
    "print(cat) # Вывод информации __str__\n",
    "cat        # Вывод информации __repr__\n"
   ],
   "id": "4505d371109fb5cf",
   "outputs": [
    {
     "name": "stdout",
     "output_type": "stream",
     "text": [
      "Васька\n"
     ]
    },
    {
     "data": {
      "text/plain": [
       "<class '__main__.Cat'>: Васька"
      ]
     },
     "execution_count": 99,
     "metadata": {},
     "output_type": "execute_result"
    }
   ],
   "execution_count": 99
  },
  {
   "metadata": {
    "ExecuteTime": {
     "end_time": "2025-10-05T14:52:31.051214Z",
     "start_time": "2025-10-05T14:52:31.047535Z"
    }
   },
   "cell_type": "code",
   "source": [
    "class Point:\n",
    "    def __init__(self, *args):\n",
    "        self.__coords = args\n",
    "    def __len__(self):\n",
    "        return len(self.__coords)\n",
    "    def __abs__(self):\n",
    "        return list(map(abs, self.__coords))\n",
    "p = Point(1, -2, 3, -7)\n",
    "print(len(p))\n",
    "print(abs(p))"
   ],
   "id": "a4c6dea63c9da158",
   "outputs": [
    {
     "name": "stdout",
     "output_type": "stream",
     "text": [
      "4\n",
      "[1, 2, 3, 7]\n"
     ]
    }
   ],
   "execution_count": 106
  },
  {
   "metadata": {},
   "cell_type": "markdown",
   "source": [
    "<a id='part_14'></a>\n",
    "# 14. Методы `__add__`, `__sub__`, `__mul__`, `__truediv__` [▴](#head)"
   ],
   "id": "c4505b5f67ac6dde"
  },
  {
   "metadata": {},
   "cell_type": "markdown",
   "source": [
    "> **Магические методы `__add__`, `__sub__`, `__mul__`, `__truediv__`**\n",
    ">\n",
    "> https://rutube.ru/video/5afa6b18770357d578cbbeefaa8238ef/\n",
    "\n",
    "\n",
    "Метод | Описание\n",
    "-|-\n",
    "`__add__()`| Для операции сложения\n",
    "`__sub__()`| для операции вычитания\n",
    "`__mul__()`| Для операции умножения\n",
    "`__truediv__()`| Для операции деления"
   ],
   "id": "9d045968f12d546c"
  },
  {
   "metadata": {
    "ExecuteTime": {
     "end_time": "2025-10-05T15:29:01.792749Z",
     "start_time": "2025-10-05T15:29:01.788758Z"
    }
   },
   "cell_type": "code",
   "source": [
    "class Clock:\n",
    "    __DAY = 86400 # Число секунд в одном дне\n",
    "\n",
    "    def __init__(self, seconds: int):\n",
    "        if not isinstance(seconds, int):\n",
    "            raise TypeError(\"Секунды должны быть целым числом\")\n",
    "        self.seconds = seconds % self.__DAY\n",
    "\n",
    "    def get_time(self):\n",
    "        s = self.seconds % 60\n",
    "        m = (self.seconds // 60) % 60\n",
    "        h = (self.seconds // 3600) % 24\n",
    "        return f\"{self.__get_formatted(h)}:{self.__get_formatted(m)}:{self.__get_formatted(s)}\"\n",
    "\n",
    "    @classmethod\n",
    "    def __get_formatted(cls, x):\n",
    "        return str(x).rjust(2, \"0\")\n",
    "\n",
    "    def __add__(self, other):\n",
    "        if not isinstance(other, (int, Clock)):\n",
    "            raise ArithmeticError(\"Правый операнд должен быть int или Clock\")\n",
    "\n",
    "        sc = other\n",
    "        if isinstance(other, Clock):\n",
    "            sc = other.seconds\n",
    "        return Clock(self.seconds + sc)\n",
    "\n",
    "    def __radd__(self, other): # Этот метод нужен чтобы был возможен такой порядок c1 = 100 + c1\n",
    "        return self + other\n",
    "\n",
    "    def __iadd__(self, other): # Этот метод нужен чтобы был возможен такой способ c1 += 100\n",
    "        print(\"__iadd__\")\n",
    "        if not isinstance(other, (int, Clock)):\n",
    "            raise ArithmeticError(\"Правый операнд должен быть типом int или объектом Clock\")\n",
    "\n",
    "        sc = other\n",
    "        if isinstance(other, Clock):\n",
    "            sc = other.seconds\n",
    "\n",
    "        self.seconds += sc\n",
    "        return self\n",
    "\n",
    "c1 = Clock(1000)\n",
    "print(c1.get_time())\n",
    "\n",
    "c1 = c1 + 100 # Без __add__ можно записать так: c1.seconds = c1.seconds + 100\n",
    "print(c1.get_time())\n",
    "\n",
    "c2 = Clock(2000)\n",
    "c3 = c1 + c2\n",
    "print(c3.get_time())\n"
   ],
   "id": "4cbfec275924d15",
   "outputs": [
    {
     "name": "stdout",
     "output_type": "stream",
     "text": [
      "00:16:40\n",
      "00:18:20\n",
      "00:51:40\n"
     ]
    }
   ],
   "execution_count": 121
  },
  {
   "metadata": {},
   "cell_type": "markdown",
   "source": [
    "<a id='part_15'></a>\n",
    "# 15. Методы сравнений `__eq__`, `__ne__`, `__lt__`, `__gt__` [▴](#head)"
   ],
   "id": "6dbd76cd0f23182f"
  },
  {
   "metadata": {},
   "cell_type": "markdown",
   "source": [
    "> **Методы сравнений `__eq__`, `__ne__`, `__lt__`, `__gt__` и другие**\n",
    ">\n",
    "> https://rutube.ru/video/d7b75fc04c75cfdca04ca8021b2f7147/\n",
    "\n",
    "Метод | Описание\n",
    "-|-\n",
    "`__eq__()`| Для равенства `==`\n",
    "`__ne__()`| Для неравенства `!=`\n",
    "`__lt__()`| Для оператора меньше `<`\n",
    "`__le__()`| Для оператора меньше или равно `<=`\n",
    "`__gt__()`| Для оператора больше `>`\n",
    "`__ge__()`| Для оператора больше или равно `>=`"
   ],
   "id": "6c986ecdf5e7f016"
  },
  {
   "metadata": {
    "ExecuteTime": {
     "end_time": "2025-10-12T17:45:36.466869Z",
     "start_time": "2025-10-12T17:45:36.463259Z"
    }
   },
   "cell_type": "code",
   "source": [
    "class Clock:\n",
    "    __DAY = 86400 # Число секунд в одном дне\n",
    "\n",
    "    def __init__(self, seconds: int):\n",
    "        if not isinstance(seconds, int):\n",
    "            raise TypeError(\"Секунды должны быть целым числом\")\n",
    "        self.seconds = seconds % self.__DAY\n",
    "\n",
    "    def __eq__(self, other):\n",
    "        if not isinstance(other, (int, Clock)):\n",
    "            raise TypeError(\"Операнд справа должен иметь тип int или Clock\")\n",
    "\n",
    "        sc = other if isinstance(other, int) else other.seconds\n",
    "        return self.seconds == sc\n",
    "\n",
    "    def __lt__(self, other):\n",
    "        if not isinstance(other, (int, Clock)):\n",
    "            raise TypeError(\"Операнд справа должен иметь тип int или Clock\")\n",
    "\n",
    "        sc = other if isinstance(other, int) else other.seconds\n",
    "        return self.seconds < sc\n",
    "\n",
    "\n",
    "c1 = Clock(1000)\n",
    "c2 = Clock(2000)\n",
    "\n",
    "print(c1 == c2)\n",
    "print(c1 != c2)\n",
    "print(c1 < c2)"
   ],
   "id": "d0b040c5f5c21a37",
   "outputs": [
    {
     "name": "stdout",
     "output_type": "stream",
     "text": [
      "False\n",
      "True\n",
      "True\n"
     ]
    }
   ],
   "execution_count": 8
  },
  {
   "metadata": {},
   "cell_type": "markdown",
   "source": [
    "В таком виде идет дублирование кода.\n",
    "\n",
    "Чтобы избавится от этого применим следующую конструкцию:"
   ],
   "id": "c81d9c2f866f4d24"
  },
  {
   "metadata": {
    "ExecuteTime": {
     "end_time": "2025-10-12T17:59:17.261164Z",
     "start_time": "2025-10-12T17:59:17.257644Z"
    }
   },
   "cell_type": "code",
   "source": [
    "class Clock:\n",
    "    __DAY = 86400 # Число секунд в одном дне\n",
    "\n",
    "    def __init__(self, seconds: int):\n",
    "        if not isinstance(seconds, int):\n",
    "            raise TypeError(\"Секунды должны быть целым числом\")\n",
    "        self.seconds = seconds % self.__DAY\n",
    "\n",
    "    @classmethod\n",
    "    def __verify_data(clscls, other):\n",
    "        if not isinstance(other, (int, Clock)):\n",
    "            raise TypeError(\"Операнд справа должен иметь тип int или Clock\")\n",
    "\n",
    "        return other if isinstance(other, int) else other.seconds\n",
    "\n",
    "    def __eq__(self, other): # Этот метод можно применять и для == и для !=\n",
    "        sc = self.__verify_data(other)\n",
    "        return self.seconds == sc\n",
    "\n",
    "    def __lt__(self, other): # Этот метод можно применять и для > и для <\n",
    "        sc = self.__verify_data(other)\n",
    "        return self.seconds < sc\n",
    "\n",
    "    def __le__(self, other): # Этот метод можно применять и для > и для <\n",
    "        sc = self.__verify_data(other)\n",
    "        return self.seconds <= sc\n",
    "\n",
    "\n",
    "c1 = Clock(1000)\n",
    "c2 = Clock(1000)\n",
    "\n",
    "print(c1 == c2)\n",
    "print(c1 != c2)\n",
    "print(c1 < c2)\n",
    "print(c1 <= c2)"
   ],
   "id": "c99c44922e800fd1",
   "outputs": [
    {
     "name": "stdout",
     "output_type": "stream",
     "text": [
      "True\n",
      "False\n",
      "False\n",
      "True\n"
     ]
    }
   ],
   "execution_count": 18
  },
  {
   "metadata": {},
   "cell_type": "markdown",
   "source": [
    "<a id='part_16'></a>\n",
    "# 16. Магические методы `__eq__` и `__hash__` [▴](#head)"
   ],
   "id": "204c3bf6e5308cd1"
  },
  {
   "metadata": {},
   "cell_type": "markdown",
   "source": [
    "> **Магические методы `__eq__` и `__hash__`**\n",
    ">\n",
    "> https://rutube.ru/video/f542fd971f0b270665f8a53f87341d40/\n",
    "\n",
    "- Если объекты `a == b` (равны), то равен и их хеш.\n",
    "- Равные хеши: `hash(a) == hash(b)` не гарантируют равенство объектов\n",
    "- Если хеши не равны `hash(a) != hash(b)`, то объекты точно не равны\n",
    "\n",
    "Хеши можно вычислять только для не изменяемых объектов: `hash(123)` | `hash(\"text\")` | `hash((1,2,3))`"
   ],
   "id": "a1cbadb7c411071"
  },
  {
   "metadata": {
    "ExecuteTime": {
     "end_time": "2025-10-12T18:18:53.949324Z",
     "start_time": "2025-10-12T18:18:53.945132Z"
    }
   },
   "cell_type": "code",
   "source": [
    "class Point:\n",
    "    def __init__(self, x, y):\n",
    "        self.x = x\n",
    "        self.y = y\n",
    "\n",
    "    # При переопределении методов сравнения перестает стандартный механизм определения хеша\n",
    "    # То есть hash(p1) выдаст ошибку \"TypeError: unhashable type: 'Point'\"\n",
    "    def __eq__(self, other):\n",
    "        return self.x == other.x and self.y == other.y\n",
    "\n",
    "    def __hash__(self):\n",
    "        return hash((self.x, self.y))\n",
    "\n",
    "p1 = Point(1, 2)\n",
    "p2 = Point(1, 3)\n",
    "\n",
    "print(hash(p1), hash(p2), sep=\"\\n\")\n",
    "print(p1 == p2)\n",
    "\n",
    "# Теперь мы можем формировать словарь и использовать в качестве его ключей объекты класса\n",
    "\n",
    "d = {}\n",
    "d[p1] = 1\n",
    "d[p2] = 2\n",
    "\n",
    "print(d)"
   ],
   "id": "5adc819b9aa77501",
   "outputs": [
    {
     "name": "stdout",
     "output_type": "stream",
     "text": [
      "-3550055125485641917\n",
      "-1440771752368011620\n",
      "False\n",
      "{<__main__.Point object at 0x000001CD82FECC20>: 1, <__main__.Point object at 0x000001CD83046E90>: 2}\n"
     ]
    }
   ],
   "execution_count": 27
  },
  {
   "metadata": {},
   "cell_type": "markdown",
   "source": [
    "<a id='part_17'></a>\n",
    "# 17. Магический метод `__bool__` [▴](#head)"
   ],
   "id": "fa46f4e68ccab1be"
  },
  {
   "metadata": {},
   "cell_type": "markdown",
   "source": [
    "> **Магический метод `__bool__` определения правдивости объектов**\n",
    ">\n",
    "> https://rutube.ru/video/52fd12c92124c54aa2da297968bde141/\n",
    "\n",
    "Используется в программах, где надо описать способы проверки истинности объектов"
   ],
   "id": "f18887155293db33"
  },
  {
   "metadata": {
    "ExecuteTime": {
     "end_time": "2025-10-12T18:28:28.884283Z",
     "start_time": "2025-10-12T18:28:28.880535Z"
    }
   },
   "cell_type": "code",
   "source": [
    "class Point():\n",
    "    def __init__(self, x, y):\n",
    "        self.x = x\n",
    "        self.y = y\n",
    "\n",
    "    def __len__(self):\n",
    "        print(\"__len__\")\n",
    "        return self.x * self.x + self.y * self.y\n",
    "\n",
    "    def __bool__(self): # Имеет приоритет и явно описывает логику работы функции bool\n",
    "        print(\"__bool__\")\n",
    "        return self.x == self.y\n",
    "\n",
    "p = Point(10, 15)\n",
    "print(\"Классы\")\n",
    "print(bool(p)) # В явном виде это редко вызывается\n",
    "\n",
    "# Обычно вызывается так\n",
    "print(\"\\n\", \"Вызовы bool неявно\")\n",
    "if p:\n",
    "    print(\"Объект p дает True\")\n",
    "else:\n",
    "    print(\"Объект p дает False\")\n",
    "\n",
    "print(\"\\n\",\"Стандартные\")\n",
    "print(bool(1))\n",
    "print(bool(0))\n",
    "print(bool(\"Hello\"))\n",
    "print(bool(\"\"))"
   ],
   "id": "26baf47b04ed8ebe",
   "outputs": [
    {
     "name": "stdout",
     "output_type": "stream",
     "text": [
      "Классы\n",
      "__bool__\n",
      "False\n",
      "\n",
      " Вызовы bool неявно\n",
      "__bool__\n",
      "Объект p дает False\n",
      "\n",
      " Стандартные\n",
      "True\n",
      "False\n",
      "True\n",
      "False\n"
     ]
    }
   ],
   "execution_count": 38
  },
  {
   "metadata": {},
   "cell_type": "markdown",
   "source": [
    "a<a id='part_18'></a>\n",
    "# 18. Магические методы `__getitem__`, `__setitem__` и `__delitem__` [▴](#head)"
   ],
   "id": "e25da33710e35492"
  },
  {
   "metadata": {},
   "cell_type": "markdown",
   "source": [
    "> **Магические методы `__getitem__`, `__setitem__` и `__delitem__`**\n",
    ">\n",
    "> https://rutube.ru/video/e6c3b76f225ebcf3123e4b9c5e17b70e/\n",
    "\n",
    "- `__getitem__(self, item)` - получение значения по ключу `item`\n",
    "- `__setitem__(self, key, value)` - запись значения `value` по ключу `key`\n",
    "- `__delitem__(self, key)` - удаление элемента по ключу `key`\n",
    "\n",
    "Используется чтобы атрибут экземпляра класса можно было итерировать без явного указания например вместо, писать:\n",
    "- `s1.marks[2]`\n",
    "- `s1[2]`"
   ],
   "id": "cf9fa938e91aed4c"
  },
  {
   "metadata": {
    "ExecuteTime": {
     "end_time": "2025-10-12T19:15:40.300648Z",
     "start_time": "2025-10-12T19:15:40.296470Z"
    }
   },
   "cell_type": "code",
   "source": [
    "class Student:\n",
    "    def __init__(self, name, marks):\n",
    "        self.name = name\n",
    "        self.marks = list(marks)\n",
    "\n",
    "    def __getitem__(self, item):\n",
    "        if 0 <= item < len(self.marks):\n",
    "            return self.marks[item]\n",
    "        else:\n",
    "            raise IndexError(\"Неверный индекс\")\n",
    "\n",
    "    def __setitem__(self, key, value):\n",
    "        if not isinstance(key, int) or key < 0:\n",
    "            raise TypeError(\"Индекс должен быть целым не отрицательным числом\")\n",
    "        if key >= len(self.marks):\n",
    "            off = key + 1 - len(self.marks)\n",
    "            self.marks.extend([None] * off)\n",
    "\n",
    "        self.marks[key] = value\n",
    "\n",
    "    def __delitem__(self, key):\n",
    "        if not isinstance(key, int):\n",
    "            raise TypeError(\"Индекс должен быть целым числом\")\n",
    "        del self.marks[key]\n",
    "\n",
    "s1 = Student(\"Сергей\", [5,4,3,2,1])\n",
    "print(s1.marks)\n",
    "print(s1.marks[2])\n",
    "print(s1[2])\n",
    "\n",
    "# Чтобы менять значения внутри списка надо реализовать магический метод\n",
    "# __setitem__\n",
    "\n",
    "s1[2] = 0\n",
    "s1[10] = 1\n",
    "print(s1.marks)\n",
    "print(s1[2])\n",
    "\n",
    "del s1[2]\n",
    "print(s1.marks)"
   ],
   "id": "3c57674029ced113",
   "outputs": [
    {
     "name": "stdout",
     "output_type": "stream",
     "text": [
      "[5, 4, 3, 2, 1]\n",
      "3\n",
      "3\n",
      "[5, 4, 0, 2, 1, None, None, None, None, None, 1]\n",
      "0\n",
      "[5, 4, 2, 1, None, None, None, None, None, 1]\n"
     ]
    }
   ],
   "execution_count": 32
  },
  {
   "metadata": {},
   "cell_type": "markdown",
   "source": [
    "<a id='part_19'></a>\n",
    "# 19. Магические методы `__iter__` и `__next__` [▴](#head)"
   ],
   "id": "a8ed4aa8f1750486"
  },
  {
   "metadata": {},
   "cell_type": "markdown",
   "source": [
    "> **Магические методы `__iter__` и `__next__`**\n",
    ">\n",
    "> https://rutube.ru/video/0fbc1917924a02247bd33f99c9498d80/\n",
    "\n",
    "- `__iter__(self)` - получение итератора для перебора объекта\n",
    "- `__next__(self)` - переход к следующему значению и его считываение"
   ],
   "id": "e1162d4393822a9c"
  },
  {
   "metadata": {
    "ExecuteTime": {
     "end_time": "2025-10-12T19:42:17.329355Z",
     "start_time": "2025-10-12T19:42:17.325110Z"
    }
   },
   "cell_type": "code",
   "source": [
    "print(list(range(5)))\n",
    "\n",
    "a = iter(range(5)) # Создаем итератор\n",
    "# Вызываем следующее значение итерируемого объекта\n",
    "print(next(a), next(a), next(a), next(a), next(a))\n",
    "print()\n",
    "\n",
    "class FRange:\n",
    "    def __init__(self, start=0.0, stop=0.0, step=1.0):\n",
    "        self.start = start\n",
    "        self.stop = stop\n",
    "        self.step = step\n",
    "        self.value = self.start - self.step\n",
    "\n",
    "    def __iter__(self):\n",
    "        self.value = self.start - self.step\n",
    "        return self\n",
    "\n",
    "    def __next__(self):\n",
    "        if self.value + self.step < self.stop:\n",
    "            self.value += self.step\n",
    "            return self.value\n",
    "        else:\n",
    "            raise StopIteration\n",
    "\n",
    "fr = FRange(0, 2, 0.5)\n",
    "\n",
    "# тут функция next вызывает магический метод __next__ из класса\n",
    "# а сам объект FRange выступает в роли итератора, но пока не прописано явно метод __iter__\n",
    "# итерировать его нельзя, то есть for i in fr: даст ошибку TypeError: 'FRange' object is not iterable\n",
    "print(\"Используем __next__\")\n",
    "print(next(fr), next(fr), next(fr), next(fr))\n",
    "\n",
    "print()\n",
    "print(\"Используем __iter__\")\n",
    "for i in fr:\n",
    "    print(i)\n",
    "\n",
    "print()\n",
    "print(\"Класс двумерный итератор\")\n",
    "class FRange2D:\n",
    "    def __init__(self, start=0.0, stop=0.0, step=1.0, rows=5):\n",
    "        self.rows = rows\n",
    "        self.fr = FRange(start, stop, step)\n",
    "\n",
    "    def __iter__(self):\n",
    "        self.value = 0\n",
    "        return self\n",
    "\n",
    "    def __next__(self):\n",
    "        if self.value < self.rows:\n",
    "            self.value += 1\n",
    "            return iter(self.fr)\n",
    "        else:\n",
    "            raise StopIteration\n",
    "\n",
    "fr2 = FRange2D(0,2,0.5,4)\n",
    "\n",
    "for row in fr2:\n",
    "    for x in row:\n",
    "        print(x, end=\" \")\n",
    "    print()"
   ],
   "id": "8f9e4336f4370293",
   "outputs": [
    {
     "name": "stdout",
     "output_type": "stream",
     "text": [
      "[0, 1, 2, 3, 4]\n",
      "0 1 2 3 4\n",
      "\n",
      "Используем __next__\n",
      "0.0 0.5 1.0 1.5\n",
      "\n",
      "Используем __iter__\n",
      "0.0\n",
      "0.5\n",
      "1.0\n",
      "1.5\n",
      "\n",
      "Класс двумерный итератор\n",
      "0.0 0.5 1.0 1.5 \n",
      "0.0 0.5 1.0 1.5 \n",
      "0.0 0.5 1.0 1.5 \n",
      "0.0 0.5 1.0 1.5 \n"
     ]
    }
   ],
   "execution_count": 55
  },
  {
   "metadata": {},
   "cell_type": "code",
   "outputs": [],
   "execution_count": null,
   "source": "\n",
   "id": "66bfa956b5f8bdb6"
  },
  {
   "metadata": {},
   "cell_type": "markdown",
   "source": [
    "<a id='part_20'></a>\n",
    "# 20. Наследование в объектно-ориентированном программировании [▴](#head)"
   ],
   "id": "34870531c8eadcd3"
  },
  {
   "metadata": {},
   "cell_type": "markdown",
   "source": [
    "> **Наследование в объектно-ориентированном программировании**\n",
    ">\n",
    "> https://rutube.ru/video/c52f01e60ac617d23888d8175115b3f8/\n",
    "\n",
    "Наследование используется для оптимизации кода. Чтобы не дублировать одинаковые блоки кода. Например установка координат для разных геометрических фигур."
   ],
   "id": "20d422bc32bc6190"
  },
  {
   "metadata": {
    "ExecuteTime": {
     "end_time": "2025-10-12T20:49:45.555940Z",
     "start_time": "2025-10-12T20:49:45.551607Z"
    }
   },
   "cell_type": "code",
   "source": [
    "# Базовый или родителский класс\n",
    "class Geom:\n",
    "    name = 'Geom'\n",
    "\n",
    "    def set_coords(self, x1, y1, x2, y2):\n",
    "        self.x1 = x1\n",
    "        self.y1 = y1\n",
    "        self.x2 = x2\n",
    "        self.y2 = y2\n",
    "\n",
    "    def draw(self):\n",
    "        print(\"Рисование примитива\")\n",
    "\n",
    "# Подкласс или дочерний класс\n",
    "class Line(Geom): # в скобках определяем наследование\n",
    "    name = 'Line' # при обращении к атрибутам, сначала они ищутся в локальных атрибутах, а потом в базовом классе\n",
    "    # Такая конструкция называется переопределением атрибута. В IDE это отображается синим значком.\n",
    "    def draw(self):\n",
    "        print(\"Рисование линии\")\n",
    "\n",
    "# Подкласс или дочерний класс\n",
    "class Rect(Geom): # в скобках определяем наследование\n",
    "    pass\n",
    "    # def draw(self):\n",
    "    #     print(\"Рисование прямоугольника\")\n",
    "\n",
    "g = Geom()\n",
    "l = Line()\n",
    "r = Rect()\n",
    "\n",
    "l.set_coords(1,1,2,2)\n",
    "r.set_coords(10,10,20,20)\n",
    "\n",
    "print(l.__dict__)\n",
    "print(r.__dict__)\n",
    "\n",
    "print(\"Вывод из класса Geom:\", g.name)\n",
    "print(\"Вывод из класса Line:\", l.name) # так как атрибут name определен в классе Line, будет выведен он\n",
    "print(\"Вывод из класса Rect:\", r.name)\n",
    "\n",
    "l.draw()\n",
    "r.draw() # метода draw в классе Rect нет, по этому поиск пойдет в базовом классе\n",
    "g.draw()"
   ],
   "id": "cf67a7c0af52771b",
   "outputs": [
    {
     "name": "stdout",
     "output_type": "stream",
     "text": [
      "{'x1': 1, 'y1': 1, 'x2': 2, 'y2': 2}\n",
      "{'x1': 10, 'y1': 10, 'x2': 20, 'y2': 20}\n",
      "Вывод из класса Geom: Geom\n",
      "Вывод из класса Line: Line\n",
      "Вывод из класса Rect: Geom\n",
      "Рисование линии\n",
      "Рисование примитива\n",
      "Рисование примитива\n"
     ]
    }
   ],
   "execution_count": 81
  },
  {
   "metadata": {},
   "cell_type": "markdown",
   "source": [
    "<a id='part_21'></a>\n",
    "# 21. Функция `issubclass()` [▴](#head)"
   ],
   "id": "6d096b1466340e05"
  },
  {
   "metadata": {},
   "cell_type": "markdown",
   "source": [
    "> **Функция `issubclass()`. Наследование от встроенных типов и от `object`**\n",
    ">\n",
    "> https://rutube.ru/video/6929a9e932349cd2d5c6a810929a55d5/"
   ],
   "id": "8cc8ce540f467aae"
  },
  {
   "metadata": {},
   "cell_type": "markdown",
   "source": [
    "<a id='part_'></a>\n",
    "# .  [▴](#head)"
   ],
   "id": "400b7310c830a0ab"
  },
  {
   "metadata": {},
   "cell_type": "markdown",
   "source": [
    "> ****\n",
    ">\n",
    "> https://"
   ],
   "id": "cc47d86b678bb427"
  },
  {
   "metadata": {},
   "cell_type": "markdown",
   "source": [
    "<a id='part_'></a>\n",
    "# .  [▴](#head)"
   ],
   "id": "76869d50b8b3a5c5"
  },
  {
   "metadata": {},
   "cell_type": "markdown",
   "source": [
    "> ****\n",
    ">\n",
    "> https://"
   ],
   "id": "92b21f746f28d887"
  }
 ],
 "metadata": {
  "kernelspec": {
   "display_name": "Python 3",
   "language": "python",
   "name": "python3"
  },
  "language_info": {
   "codemirror_mode": {
    "name": "ipython",
    "version": 2
   },
   "file_extension": ".py",
   "mimetype": "text/x-python",
   "name": "python",
   "nbconvert_exporter": "python",
   "pygments_lexer": "ipython2",
   "version": "2.7.6"
  }
 },
 "nbformat": 4,
 "nbformat_minor": 5
}
