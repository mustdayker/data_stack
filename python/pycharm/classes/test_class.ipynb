{
 "cells": [
  {
   "metadata": {},
   "cell_type": "markdown",
   "source": "#### Экземпляр",
   "id": "98160111a9592fba"
  },
  {
   "metadata": {
    "ExecuteTime": {
     "end_time": "2025-10-03T21:17:40.155540Z",
     "start_time": "2025-10-03T21:17:40.152761Z"
    }
   },
   "cell_type": "code",
   "source": [
    "class Calculator_e:\n",
    "    def __init__(self, initial_value=0):\n",
    "        self.result = initial_value  # ✅ self - передаем в экземпляр\n",
    "        self.history = []           # ✅ self - будет доступно извне\n",
    "\n",
    "    def add(self, x, y):\n",
    "        self.result = x + y         # ✅ self - меняем атрибут экземпляра\n",
    "        self.history.append(f\"Added {x} + {y}\")"
   ],
   "id": "622d2b3f475f3c22",
   "outputs": [],
   "execution_count": 1
  },
  {
   "metadata": {
    "ExecuteTime": {
     "end_time": "2025-10-03T21:18:02.428069Z",
     "start_time": "2025-10-03T21:18:02.426068Z"
    }
   },
   "cell_type": "code",
   "source": "e = Calculator_e()",
   "id": "69cdfb70df6312ee",
   "outputs": [],
   "execution_count": 3
  },
  {
   "metadata": {
    "ExecuteTime": {
     "end_time": "2025-10-03T21:19:43.355832Z",
     "start_time": "2025-10-03T21:19:43.353034Z"
    }
   },
   "cell_type": "code",
   "source": "e.__dict__",
   "id": "7fbf1d8338f3b8c1",
   "outputs": [
    {
     "data": {
      "text/plain": [
       "{'result': 3, 'history': ['Added 1 + 2']}"
      ]
     },
     "execution_count": 10,
     "metadata": {},
     "output_type": "execute_result"
    }
   ],
   "execution_count": 10
  },
  {
   "metadata": {
    "ExecuteTime": {
     "end_time": "2025-10-03T21:19:39.258991Z",
     "start_time": "2025-10-03T21:19:39.256959Z"
    }
   },
   "cell_type": "code",
   "source": "e.add(1, 2)",
   "id": "e30ba7e256f5be05",
   "outputs": [],
   "execution_count": 9
  },
  {
   "metadata": {},
   "cell_type": "code",
   "outputs": [],
   "execution_count": null,
   "source": "",
   "id": "328b03dea19ec82e"
  },
  {
   "metadata": {},
   "cell_type": "markdown",
   "source": "#### Локальные",
   "id": "efa4934f61f3ecca"
  },
  {
   "metadata": {
    "ExecuteTime": {
     "end_time": "2025-10-03T21:18:17.600336Z",
     "start_time": "2025-10-03T21:18:17.597678Z"
    }
   },
   "cell_type": "code",
   "source": [
    "class Calculator_l:\n",
    "    def __init__(self, initial_value=0):\n",
    "        result = initial_value\n",
    "        history = []\n",
    "\n",
    "    def add(self, x, y):\n",
    "        result = x + y\n",
    "        history.append(f\"Added {x} + {y}\")"
   ],
   "id": "8ebc8e2989c0f550",
   "outputs": [],
   "execution_count": 6
  },
  {
   "metadata": {
    "ExecuteTime": {
     "end_time": "2025-10-03T21:18:21.551395Z",
     "start_time": "2025-10-03T21:18:21.549105Z"
    }
   },
   "cell_type": "code",
   "source": "l = Calculator_l()",
   "id": "1e8137fcbf61a601",
   "outputs": [],
   "execution_count": 7
  },
  {
   "metadata": {
    "ExecuteTime": {
     "end_time": "2025-10-03T21:22:40.449811Z",
     "start_time": "2025-10-03T21:22:40.446503Z"
    }
   },
   "cell_type": "code",
   "source": "l.__dict__",
   "id": "1c90ceed77f0eb11",
   "outputs": [
    {
     "data": {
      "text/plain": [
       "{}"
      ]
     },
     "execution_count": 17,
     "metadata": {},
     "output_type": "execute_result"
    }
   ],
   "execution_count": 17
  },
  {
   "metadata": {
    "ExecuteTime": {
     "end_time": "2025-10-03T21:27:09.686252Z",
     "start_time": "2025-10-03T21:27:09.682938Z"
    }
   },
   "cell_type": "code",
   "source": [
    "class Point:\n",
    "    color = 'red'\n",
    "    circle = 2"
   ],
   "id": "4eb5df80c5b64ddc",
   "outputs": [],
   "execution_count": 18
  },
  {
   "metadata": {
    "ExecuteTime": {
     "end_time": "2025-10-03T21:27:18.515944Z",
     "start_time": "2025-10-03T21:27:18.512502Z"
    }
   },
   "cell_type": "code",
   "source": "Point.__dict__",
   "id": "8e57576c2a488997",
   "outputs": [
    {
     "data": {
      "text/plain": [
       "mappingproxy({'__module__': '__main__',\n",
       "              '__firstlineno__': 1,\n",
       "              'color': 'red',\n",
       "              'circle': 2,\n",
       "              '__static_attributes__': (),\n",
       "              '__dict__': <attribute '__dict__' of 'Point' objects>,\n",
       "              '__weakref__': <attribute '__weakref__' of 'Point' objects>,\n",
       "              '__doc__': None})"
      ]
     },
     "execution_count": 19,
     "metadata": {},
     "output_type": "execute_result"
    }
   ],
   "execution_count": 19
  },
  {
   "metadata": {
    "ExecuteTime": {
     "end_time": "2025-10-03T21:27:45.382510Z",
     "start_time": "2025-10-03T21:27:45.379706Z"
    }
   },
   "cell_type": "code",
   "source": "a = Point()",
   "id": "107d5ea01d69823b",
   "outputs": [],
   "execution_count": 20
  },
  {
   "metadata": {
    "ExecuteTime": {
     "end_time": "2025-10-03T21:28:41.611156Z",
     "start_time": "2025-10-03T21:28:41.608593Z"
    }
   },
   "cell_type": "code",
   "source": "a.rog = 5",
   "id": "b997f1d5646866e1",
   "outputs": [],
   "execution_count": 24
  },
  {
   "metadata": {
    "ExecuteTime": {
     "end_time": "2025-10-03T21:28:51.782321Z",
     "start_time": "2025-10-03T21:28:51.778656Z"
    }
   },
   "cell_type": "code",
   "source": "a.__dict__",
   "id": "f764741be16da819",
   "outputs": [
    {
     "data": {
      "text/plain": [
       "{'rog': 5}"
      ]
     },
     "execution_count": 25,
     "metadata": {},
     "output_type": "execute_result"
    }
   ],
   "execution_count": 25
  }
 ],
 "metadata": {
  "kernelspec": {
   "display_name": "Python 3",
   "language": "python",
   "name": "python3"
  },
  "language_info": {
   "codemirror_mode": {
    "name": "ipython",
    "version": 2
   },
   "file_extension": ".py",
   "mimetype": "text/x-python",
   "name": "python",
   "nbconvert_exporter": "python",
   "pygments_lexer": "ipython2",
   "version": "2.7.6"
  }
 },
 "nbformat": 4,
 "nbformat_minor": 5
}
