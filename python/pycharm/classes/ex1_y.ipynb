{
 "cells": [
  {
   "metadata": {
    "ExecuteTime": {
     "end_time": "2025-10-04T08:43:16.003103Z",
     "start_time": "2025-10-04T08:43:15.999690Z"
    }
   },
   "cell_type": "code",
   "source": [
    "class Point:\n",
    "    \"Учебный класс\"\n",
    "    color = 'red'\n",
    "    circle = 2\n",
    "\n",
    "    def __init__(self, x=1, y=2):\n",
    "        print(\"Вызов __init__\")\n",
    "        self.x = x\n",
    "        self.y = y\n",
    "\n",
    "    def set_coords(self, x, y):\n",
    "        self.x = x\n",
    "        self.y = y\n",
    "\n",
    "    def get_coords(self):\n",
    "        return self.x, self.y"
   ],
   "id": "f764741be16da819",
   "outputs": [],
   "execution_count": 1
  },
  {
   "metadata": {
    "ExecuteTime": {
     "end_time": "2025-10-04T09:21:47.926473Z",
     "start_time": "2025-10-04T09:21:47.923664Z"
    }
   },
   "cell_type": "code",
   "source": [
    "class Point:\n",
    "    \"Учебный класс\"\n",
    "    def __new__(cls, *args, **kwargs):\n",
    "        print(\"Вызов __new__ для \" + str(cls))\n",
    "        return super().__new__(cls)\n",
    "\n",
    "    def __init__(self, x=0, y=0):\n",
    "        print(\"Вызов __init__ для \" + str(self))\n",
    "        self.x = x\n",
    "        self.y = y"
   ],
   "id": "48092694a6d04257",
   "outputs": [],
   "execution_count": 12
  },
  {
   "metadata": {
    "ExecuteTime": {
     "end_time": "2025-10-04T09:21:48.195680Z",
     "start_time": "2025-10-04T09:21:48.192958Z"
    }
   },
   "cell_type": "code",
   "source": "pt = Point(1,2)",
   "id": "fa82eba53ff9c925",
   "outputs": [
    {
     "name": "stdout",
     "output_type": "stream",
     "text": [
      "Вызов __new__ для <class '__main__.Point'>\n",
      "Вызов __init__ для <__main__.Point object at 0x000001FDF2D2D400>\n"
     ]
    }
   ],
   "execution_count": 13
  },
  {
   "metadata": {
    "ExecuteTime": {
     "end_time": "2025-10-04T09:21:00.010355Z",
     "start_time": "2025-10-04T09:21:00.007368Z"
    }
   },
   "cell_type": "code",
   "source": "print(pt)",
   "id": "1056b3d14954925",
   "outputs": [
    {
     "name": "stdout",
     "output_type": "stream",
     "text": [
      "<__main__.Point object at 0x000001FDF2D2C440>\n"
     ]
    }
   ],
   "execution_count": 9
  },
  {
   "metadata": {
    "ExecuteTime": {
     "end_time": "2025-10-04T09:57:04.020521Z",
     "start_time": "2025-10-04T09:57:04.015970Z"
    }
   },
   "cell_type": "code",
   "source": [
    "class DataBase:\n",
    "    __instance = None\n",
    "\n",
    "    def __new__(cls, *args, **kwargs):\n",
    "        if cls.__instance is None:\n",
    "            cls.__instance = super().__new__(cls)\n",
    "        return cls.__instance\n",
    "\n",
    "    def __del__(self):\n",
    "        DataBase.__instance = None\n",
    "\n",
    "    def __init__(self, user, psw, port):\n",
    "        self.user = user\n",
    "        self.psw = psw\n",
    "        self.port = port\n",
    "\n",
    "    def connect(self):\n",
    "        print(f\"Соединение с БД: {self.user}, {self.psw}, {self.port}\")\n",
    "\n",
    "    def close(self):\n",
    "        print(\"Закрытие соединения с БД\")\n",
    "\n",
    "    def read(self):\n",
    "        return \"Данные из БД\"\n",
    "\n",
    "    def write(self, data):\n",
    "        print(f\"Запись в БД {data}\")"
   ],
   "id": "2b8dd3698fb8ad54",
   "outputs": [],
   "execution_count": 4
  },
  {
   "metadata": {},
   "cell_type": "code",
   "outputs": [],
   "execution_count": null,
   "source": "",
   "id": "11b812f7919ba497"
  },
  {
   "metadata": {},
   "cell_type": "markdown",
   "source": "# Занятие 5 (Декораторы)",
   "id": "256cfd5f3c1c2d66"
  }
 ],
 "metadata": {
  "kernelspec": {
   "display_name": "Python 3",
   "language": "python",
   "name": "python3"
  },
  "language_info": {
   "codemirror_mode": {
    "name": "ipython",
    "version": 2
   },
   "file_extension": ".py",
   "mimetype": "text/x-python",
   "name": "python",
   "nbconvert_exporter": "python",
   "pygments_lexer": "ipython2",
   "version": "2.7.6"
  }
 },
 "nbformat": 4,
 "nbformat_minor": 5
}
