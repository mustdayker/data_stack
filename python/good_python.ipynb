{
 "cells": [
  {
   "cell_type": "markdown",
   "id": "54b15fda",
   "metadata": {},
   "source": [
    "<a id='head'></a>\n",
    "**Python**"
   ]
  },
  {
   "cell_type": "markdown",
   "id": "7e8ef5e4",
   "metadata": {},
   "source": [
    "**Оглавление**\n",
    "\n",
    "- [**1. Intro**](#part_01)\n",
    "- [**2. Варианты исполнения команд**](#part_02)\n",
    "- [**3. Функции `type` и `id`**](#part_03)\n",
    "- [**4. Числовые типы**](#part_04)\n",
    "- [**5. Математические функции**](#part_05)\n",
    "- [**6.**](#part_06)\n",
    "- [**7.**](#part_07)\n",
    "- [**8.**](#part_08)\n",
    "- [**9.**](#part_09)\n",
    "- [**10.**](#part_10)\n",
    "\n",
    "- [**45. Декораторы функций**](#part_45)\n"
   ]
  },
  {
   "cell_type": "markdown",
   "id": "24612d38",
   "metadata": {},
   "source": [
    "---"
   ]
  },
  {
   "cell_type": "markdown",
   "id": "a32e86ce",
   "metadata": {},
   "source": [
    "<a id='part_01'></a>\n",
    "# 1. Intro [▴](#head)"
   ]
  },
  {
   "metadata": {
    "ExecuteTime": {
     "end_time": "2025-10-04T20:53:33.624583Z",
     "start_time": "2025-10-04T20:53:33.621845Z"
    }
   },
   "cell_type": "markdown",
   "source": [
    "> **Введение, установка Python, первое знакомство**\n",
    ">\n",
    "> https://rutube.ru/video/ae6bc3f0b13b4c0c9bef4d241959b148/\n",
    "\n",
    "Для запуска:\n",
    "- Либо запустить `CMD`, потом выполнить `python`. Выход `Ctrl+z`\n",
    "- Либо запустить `IDLE (Python 3.13 64-bit)` (в меню `Пуск`)"
   ],
   "id": "fe63056f4e0a3f5a"
  },
  {
   "cell_type": "markdown",
   "id": "f8821b74",
   "metadata": {},
   "source": [
    "---"
   ]
  },
  {
   "cell_type": "markdown",
   "id": "3f69b811",
   "metadata": {},
   "source": [
    "<a id='part_02'></a>\n",
    "# 2. Варианты исполнения команд [▴](#head)"
   ]
  },
  {
   "metadata": {},
   "cell_type": "markdown",
   "source": [
    "> **Варианты исполнения команд. Переходим в PyCharm**\n",
    ">\n",
    "> https://rutube.ru/video/5fd4041b8c2fae94766790df00d77070/\n",
    "\n",
    "Варианты исполнения команд бывает двух видов:\n",
    "- **Интерактивное**\n",
    "- **Файловое**"
   ],
   "id": "c840d9291cff1438"
  },
  {
   "cell_type": "markdown",
   "id": "0da0ce85",
   "metadata": {},
   "source": [
    "---"
   ]
  },
  {
   "cell_type": "markdown",
   "id": "d0c402b9",
   "metadata": {},
   "source": [
    "<a id='part_03'></a>\n",
    "# 3. Функции `type` и `id` [▴](#head)"
   ]
  },
  {
   "metadata": {},
   "cell_type": "markdown",
   "source": [
    "> **Переменные, оператор присваивания, функции type и id**\n",
    ">\n",
    "> https://rutube.ru/video/d3df7e9cbd4c485c01551e01c21df770/"
   ],
   "id": "d7a0dee7b25faa87"
  },
  {
   "metadata": {
    "ExecuteTime": {
     "end_time": "2025-10-07T19:52:17.176739Z",
     "start_time": "2025-10-07T19:52:17.174458Z"
    }
   },
   "cell_type": "code",
   "source": [
    "a = 7 # переменная не хранит объект, а ссылается на него\n",
    "b = a # При такой операции переменная b начинает ссылаться на 7, не на переменную а\n",
    "print(a, b)\n",
    "\n",
    "a = 10\n",
    "print(a, b)"
   ],
   "id": "79894c943e9b8f94",
   "outputs": [
    {
     "name": "stdout",
     "output_type": "stream",
     "text": [
      "7 7\n",
      "10 7\n"
     ]
    }
   ],
   "execution_count": 9
  },
  {
   "metadata": {},
   "cell_type": "markdown",
   "source": [
    "Функция `id()`**\n",
    "> Позволяет посмотреть идентификатор объекта на который ссылается переменная."
   ],
   "id": "c6430720c6cfd8fb"
  },
  {
   "metadata": {
    "ExecuteTime": {
     "end_time": "2025-10-07T19:52:18.886998Z",
     "start_time": "2025-10-07T19:52:18.884847Z"
    }
   },
   "cell_type": "code",
   "source": "print(id(a), id(b), sep='\\n')",
   "id": "4be1c65abd453124",
   "outputs": [
    {
     "name": "stdout",
     "output_type": "stream",
     "text": [
      "140727567873224\n",
      "140727567873128\n"
     ]
    }
   ],
   "execution_count": 10
  },
  {
   "metadata": {
    "ExecuteTime": {
     "end_time": "2025-10-07T19:55:44.292229Z",
     "start_time": "2025-10-07T19:55:44.289454Z"
    }
   },
   "cell_type": "code",
   "source": [
    "# Еще есть множественное присваивание\n",
    "\n",
    "a = b = c = 0\n",
    "print(a, b, c)\n",
    "\n",
    "a, b = 10, 20\n",
    "print(a, b)\n",
    "\n",
    "a, b = b, a # Поменять значения местами\n",
    "print(a, b)"
   ],
   "id": "9b1ca01fe4c788a5",
   "outputs": [
    {
     "name": "stdout",
     "output_type": "stream",
     "text": [
      "0 0 0\n",
      "10 20\n",
      "20 10\n"
     ]
    }
   ],
   "execution_count": 13
  },
  {
   "metadata": {},
   "cell_type": "markdown",
   "source": [
    "**Функция `type()`**\n",
    "> выводит тип данных на который ссылается переменная"
   ],
   "id": "25f3fb855321784a"
  },
  {
   "metadata": {
    "ExecuteTime": {
     "end_time": "2025-10-07T19:57:18.644646Z",
     "start_time": "2025-10-07T19:57:18.641463Z"
    }
   },
   "cell_type": "code",
   "source": "print(type(a))",
   "id": "de4afdc77bf2a6fc",
   "outputs": [
    {
     "name": "stdout",
     "output_type": "stream",
     "text": [
      "<class 'int'>\n"
     ]
    }
   ],
   "execution_count": 14
  },
  {
   "metadata": {},
   "cell_type": "markdown",
   "source": [
    "В Python запрещено использовать встроенные ключевые слова в качесвтве имен переменных.\n",
    "\n",
    "Чтобы посмотреть список ключевых слов надо выполнить команду `help` `keywords` в `Python Console`"
   ],
   "id": "ed4db6d6de9cccf0"
  },
  {
   "cell_type": "markdown",
   "id": "e15c21a2",
   "metadata": {},
   "source": [
    "---"
   ]
  },
  {
   "cell_type": "markdown",
   "id": "baa0fe04",
   "metadata": {},
   "source": [
    "<a id='part_04'></a>\n",
    "# 4. Числовые типы [▴](#head)"
   ]
  },
  {
   "metadata": {},
   "cell_type": "markdown",
   "source": [
    "> **Числовые типы, арифметические операции**\n",
    ">\n",
    "> https://rutube.ru/video/dedc163ffae8a5a072f9cdb73a667238/\n",
    "\n",
    "Есть три базовых типа\n",
    "\n",
    "- `int` - целочисленный тип\n",
    "- `float` - вещественный (дробный) тип\n",
    "- `complex` - комплексный тип\n",
    "\n",
    "Арифметические операции\n",
    "\n",
    " Оператор             | Описание                                   | Приоритет\n",
    "----------------------|--------------------------------------------|---------\n",
    "`+`                   | сложение                                   |2\n",
    "`-`                   | вычитание                                  |2\n",
    "`*`                   | умножение                                  |3\n",
    "`/`                   | деление                                    |3\n",
    "`//`                  | деление с округлением к наименьшему целому |3\n",
    "`%`                   | остаток от деления                         |3\n",
    "`**`                  | возведение в степень                       |4"
   ],
   "id": "469d111e561e15f1"
  },
  {
   "metadata": {
    "ExecuteTime": {
     "end_time": "2025-10-07T20:34:25.383069Z",
     "start_time": "2025-10-07T20:34:25.380664Z"
    }
   },
   "cell_type": "code",
   "source": [
    "a = 5\n",
    "print(a)\n",
    "a = a + 3\n",
    "print(a)\n",
    "a += 3\n",
    "print(a)"
   ],
   "id": "7af898a6b6ef30e7",
   "outputs": [
    {
     "name": "stdout",
     "output_type": "stream",
     "text": [
      "5\n",
      "8\n",
      "11\n"
     ]
    }
   ],
   "execution_count": 21
  },
  {
   "cell_type": "markdown",
   "id": "127755da",
   "metadata": {},
   "source": [
    "<a id='part_05'></a>\n",
    "# 5. Математические функции [▴](#head)"
   ]
  },
  {
   "metadata": {},
   "cell_type": "markdown",
   "source": [
    "> **Математические функции и работа с модулем `math`**\n",
    ">\n",
    "> https://rutube.ru/video/86b1a68245ddbc8a42c9ca57e6fb21f1/"
   ],
   "id": "39b2147937bbe659"
  },
  {
   "cell_type": "markdown",
   "id": "d81d6360",
   "metadata": {},
   "source": [
    "---"
   ]
  },
  {
   "cell_type": "markdown",
   "id": "201b3d2b",
   "metadata": {},
   "source": [
    "<a id='part_06'></a>\n",
    "# 6. [▴](#head)"
   ]
  },
  {
   "metadata": {},
   "cell_type": "markdown",
   "source": [
    "> ****\n",
    ">\n",
    "> https://"
   ],
   "id": "b403c31837ea2160"
  },
  {
   "cell_type": "markdown",
   "id": "689df9cc",
   "metadata": {},
   "source": [
    "---"
   ]
  },
  {
   "cell_type": "markdown",
   "id": "4977f42f",
   "metadata": {},
   "source": [
    "<a id='part_07'></a>\n",
    "# 7. [▴](#head)"
   ]
  },
  {
   "metadata": {},
   "cell_type": "markdown",
   "source": [
    "> ****\n",
    ">\n",
    "> https://"
   ],
   "id": "1dce2d76429b3d8f"
  },
  {
   "cell_type": "markdown",
   "id": "e497aed5",
   "metadata": {},
   "source": [
    "---"
   ]
  },
  {
   "cell_type": "markdown",
   "id": "c7842be1",
   "metadata": {},
   "source": [
    "<a id='part_08'></a>\n",
    "# 8. [▴](#head)"
   ]
  },
  {
   "metadata": {},
   "cell_type": "markdown",
   "source": [
    "> ****\n",
    ">\n",
    "> https://"
   ],
   "id": "5ff865c5c9b97083"
  },
  {
   "cell_type": "markdown",
   "id": "c84cc663",
   "metadata": {},
   "source": [
    "---"
   ]
  },
  {
   "cell_type": "markdown",
   "id": "10bdb581",
   "metadata": {},
   "source": [
    "<a id='part_09'></a>\n",
    "# 9. [▴](#head)"
   ]
  },
  {
   "metadata": {},
   "cell_type": "markdown",
   "source": [
    "> ****\n",
    ">\n",
    "> https://"
   ],
   "id": "8f080777bb96bddd"
  },
  {
   "metadata": {},
   "cell_type": "markdown",
   "source": [
    "<a id='part_45'></a>\n",
    "# 45. Декораторы функций [▴](#head)"
   ],
   "id": "9659b87827b99972"
  },
  {
   "metadata": {},
   "cell_type": "markdown",
   "source": [
    "> Введение в декораторы функций\n",
    ">\n",
    "> https://rutube.ru/video/dc14a896bc2d4cfc072183931856e20a/"
   ],
   "id": "ed91de32b95f4f54"
  }
 ],
 "metadata": {
  "kernelspec": {
   "display_name": "Python 3 (ipykernel)",
   "language": "python",
   "name": "python3"
  },
  "language_info": {
   "codemirror_mode": {
    "name": "ipython",
    "version": 3
   },
   "file_extension": ".py",
   "mimetype": "text/x-python",
   "name": "python",
   "nbconvert_exporter": "python",
   "pygments_lexer": "ipython3",
   "version": "3.9.12"
  }
 },
 "nbformat": 4,
 "nbformat_minor": 5
}
