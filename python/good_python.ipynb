{
 "cells": [
  {
   "cell_type": "markdown",
   "id": "54b15fda",
   "metadata": {},
   "source": [
    "<a id='head'></a>\n",
    "**Python**"
   ]
  },
  {
   "cell_type": "markdown",
   "id": "7e8ef5e4",
   "metadata": {},
   "source": [
    "**Оглавление**\n",
    "\n",
    "- [**1. Intro**](#part_01)\n",
    "- [**2.**](#part_02)\n",
    "- [**3.**](#part_03)\n",
    "- [**4.**](#part_04)\n",
    "- [**5.**](#part_05)\n",
    "- [**6.**](#part_06)\n",
    "- [**7.**](#part_07)\n",
    "- [**8.**](#part_08)\n",
    "- [**9.**](#part_09)\n",
    "- [**10.**](#part_10)"
   ]
  },
  {
   "cell_type": "markdown",
   "id": "24612d38",
   "metadata": {},
   "source": [
    "---"
   ]
  },
  {
   "cell_type": "markdown",
   "id": "a32e86ce",
   "metadata": {},
   "source": [
    "<a id='part_01'></a>\n",
    "# 1. Intro [▴](#head)"
   ]
  },
  {
   "metadata": {
    "ExecuteTime": {
     "end_time": "2025-10-04T20:53:33.624583Z",
     "start_time": "2025-10-04T20:53:33.621845Z"
    }
   },
   "cell_type": "markdown",
   "source": [
    "https://rutube.ru/video/ae6bc3f0b13b4c0c9bef4d241959b148/\n",
    "\n",
    "Введение, установка Python, первое знакомство.\n",
    "\n",
    "Для запуска:\n",
    "- Либо запустить `CMD`, потом выполнить `python`. Выход `Ctrl+z`\n",
    "- Либо запустить `IDLE (Python 3.13 64-bit)` (в меню `Пуск`)"
   ],
   "id": "fe63056f4e0a3f5a"
  },
  {
   "cell_type": "markdown",
   "id": "f8821b74",
   "metadata": {},
   "source": [
    "---"
   ]
  },
  {
   "cell_type": "markdown",
   "id": "3f69b811",
   "metadata": {},
   "source": [
    "<a id='part_02'></a>\n",
    "# 2. [▴](#head)"
   ]
  },
  {
   "metadata": {},
   "cell_type": "markdown",
   "source": "",
   "id": "c840d9291cff1438"
  },
  {
   "cell_type": "markdown",
   "id": "0da0ce85",
   "metadata": {},
   "source": [
    "---"
   ]
  },
  {
   "cell_type": "markdown",
   "id": "d0c402b9",
   "metadata": {},
   "source": [
    "<a id='part_03'></a>\n",
    "# 3. [▴](#head)"
   ]
  },
  {
   "cell_type": "markdown",
   "id": "e15c21a2",
   "metadata": {},
   "source": [
    "---"
   ]
  },
  {
   "cell_type": "markdown",
   "id": "baa0fe04",
   "metadata": {},
   "source": [
    "<a id='part_04'></a>\n",
    "# 4. [▴](#head)"
   ]
  },
  {
   "cell_type": "markdown",
   "id": "74dd4f80",
   "metadata": {},
   "source": [
    "---"
   ]
  },
  {
   "cell_type": "markdown",
   "id": "127755da",
   "metadata": {},
   "source": [
    "<a id='part_05'></a>\n",
    "# 5. [▴](#head)"
   ]
  },
  {
   "cell_type": "markdown",
   "id": "d81d6360",
   "metadata": {},
   "source": [
    "---"
   ]
  },
  {
   "cell_type": "markdown",
   "id": "201b3d2b",
   "metadata": {},
   "source": [
    "<a id='part_06'></a>\n",
    "# 6. [▴](#head)"
   ]
  },
  {
   "cell_type": "markdown",
   "id": "689df9cc",
   "metadata": {},
   "source": [
    "---"
   ]
  },
  {
   "cell_type": "markdown",
   "id": "4977f42f",
   "metadata": {},
   "source": [
    "<a id='part_07'></a>\n",
    "# 7. [▴](#head)"
   ]
  },
  {
   "cell_type": "markdown",
   "id": "e497aed5",
   "metadata": {},
   "source": [
    "---"
   ]
  },
  {
   "cell_type": "markdown",
   "id": "c7842be1",
   "metadata": {},
   "source": [
    "<a id='part_08'></a>\n",
    "# 8. [▴](#head)"
   ]
  },
  {
   "cell_type": "markdown",
   "id": "c84cc663",
   "metadata": {},
   "source": [
    "---"
   ]
  },
  {
   "cell_type": "markdown",
   "id": "10bdb581",
   "metadata": {},
   "source": [
    "<a id='part_09'></a>\n",
    "# 9. [▴](#head)"
   ]
  }
 ],
 "metadata": {
  "kernelspec": {
   "display_name": "Python 3 (ipykernel)",
   "language": "python",
   "name": "python3"
  },
  "language_info": {
   "codemirror_mode": {
    "name": "ipython",
    "version": 3
   },
   "file_extension": ".py",
   "mimetype": "text/x-python",
   "name": "python",
   "nbconvert_exporter": "python",
   "pygments_lexer": "ipython3",
   "version": "3.9.12"
  }
 },
 "nbformat": 4,
 "nbformat_minor": 5
}
