{
 "cells": [
  {
   "metadata": {},
   "cell_type": "markdown",
   "source": "# Занятие 1 - методы и атрибуты",
   "id": "701b5c1ee017ec8"
  },
  {
   "metadata": {
    "ExecuteTime": {
     "end_time": "2025-10-04T14:42:40.851493Z",
     "start_time": "2025-10-04T14:42:40.847508Z"
    }
   },
   "cell_type": "code",
   "source": [
    "class Point():\n",
    "    \"Документацию класса можно поместить здесь\"\n",
    "    color = 'red'\n",
    "    circle = 2\n",
    "\n",
    "a = Point()\n",
    "b = Point()\n",
    "\n",
    "a.x = 1\n",
    "a.y = 2\n",
    "\n",
    "b.x = 10\n",
    "b.y = 20\n",
    "\n",
    "print(Point.__doc__) # Вывести доку на экран\n",
    "print()\n",
    "print(Point.__dict__) # Вывести все атрибуты класса\n",
    "print()\n",
    "print(f\"a - {a.__dict__}\") # Вывести все атрибуты объекта класса\n",
    "print(f\"b - {b.__dict__}\") # Вывести все атрибуты объекта класса"
   ],
   "id": "8b87da48f1f6e491",
   "outputs": [
    {
     "name": "stdout",
     "output_type": "stream",
     "text": [
      "Документацию класса можно поместить здесь\n",
      "\n",
      "{'__module__': '__main__', '__firstlineno__': 1, '__doc__': 'Документацию класса можно поместить здесь', 'color': 'red', 'circle': 2, '__static_attributes__': (), '__dict__': <attribute '__dict__' of 'Point' objects>, '__weakref__': <attribute '__weakref__' of 'Point' objects>}\n",
      "\n",
      "a - {'x': 1, 'y': 2}\n",
      "b - {'x': 10, 'y': 20}\n"
     ]
    }
   ],
   "execution_count": 9
  },
  {
   "metadata": {},
   "cell_type": "markdown",
   "source": "# Занятие 2 - параметр `self`",
   "id": "ff10d09d5ddf6125"
  },
  {
   "metadata": {
    "ExecuteTime": {
     "end_time": "2025-10-04T12:13:59.819284Z",
     "start_time": "2025-10-04T12:13:59.815647Z"
    }
   },
   "cell_type": "code",
   "source": [
    "class Point:\n",
    "    \"Учебный класс\"\n",
    "    color = 'red'\n",
    "    circle = 2\n",
    "\n",
    "    def set_coords(self, x=0, y=0):\n",
    "        self.x = x\n",
    "        self.y = y\n",
    "\n",
    "    def get_coords(self):\n",
    "        return self.x, self.y\n",
    "\n",
    "pt = Point()\n",
    "pt2 = Point()\n",
    "pt.set_coords(1, 2)\n",
    "pt2.set_coords(10, 20)\n",
    "print(f\"Координаторы полученные через метод get_cords: {pt.get_coords()}\")\n",
    "print(f\"Координаторы полученные через метод get_cords: {pt2.get_coords()}\")"
   ],
   "id": "79f80ec0875a9039",
   "outputs": [
    {
     "name": "stdout",
     "output_type": "stream",
     "text": [
      "Координаторы полученные через метод get_cords: (1, 2)\n",
      "Координаторы полученные через метод get_cords: (10, 20)\n"
     ]
    }
   ],
   "execution_count": 9
  },
  {
   "metadata": {},
   "cell_type": "markdown",
   "source": "# Занятие 3 - метод `__init__`",
   "id": "d92835ec15b7b8f0"
  },
  {
   "metadata": {
    "ExecuteTime": {
     "end_time": "2025-10-04T12:52:50.369424Z",
     "start_time": "2025-10-04T12:52:50.365585Z"
    }
   },
   "cell_type": "code",
   "source": [
    "class Point:\n",
    "    \"Учебный класс\"\n",
    "    color = 'red'\n",
    "    circle = 2\n",
    "\n",
    "    # __init__  метод вызывается при создании объекта класса\n",
    "    def __init__(self, x=0, y=0):\n",
    "        print(\"Вызов __init__\")\n",
    "        self.x = x\n",
    "        self.y = y\n",
    "\n",
    "    def set_coords(self, x, y):\n",
    "        self.x = x\n",
    "        self.y = y\n",
    "\n",
    "    def get_coords(self):\n",
    "        return self.x, self.y\n",
    "\n",
    "pt = Point(1,2)\n"
   ],
   "id": "f764741be16da819",
   "outputs": [
    {
     "name": "stdout",
     "output_type": "stream",
     "text": [
      "Вызов __init__\n"
     ]
    }
   ],
   "execution_count": 14
  },
  {
   "metadata": {},
   "cell_type": "markdown",
   "source": "# Занятие 4 - метод `__new__`",
   "id": "cbd4383310639db2"
  },
  {
   "metadata": {},
   "cell_type": "markdown",
   "source": [
    "- Метод `__new__` используется для реализации логики `Singleton`\n",
    "- Логика `Singleton` подразумевает что в программе должен существовать только 1 экземпляр класса"
   ],
   "id": "618031540089f48b"
  },
  {
   "metadata": {},
   "cell_type": "code",
   "outputs": [],
   "execution_count": 4,
   "source": [
    "\n",
    "class DataBase:\n",
    "    __instance = None\n",
    "\n",
    "    def __new__(cls, *args, **kwargs):\n",
    "        if cls.__instance is None:\n",
    "            cls.__instance = super().__new__(cls)\n",
    "        return cls.__instance\n",
    "\n",
    "    def __del__(self):\n",
    "        DataBase.__instance = None\n",
    "\n",
    "    def __init__(self, user, psw, port):\n",
    "        self.user = user\n",
    "        self.psw = psw\n",
    "        self.port = port\n",
    "\n",
    "    def connect(self):\n",
    "        print(f\"Соединение с БД: {self.user}, {self.psw}, {self.port}\")\n",
    "\n",
    "    def close(self):\n",
    "        print(\"Закрытие соединения с БД\")\n",
    "\n",
    "    def read(self):\n",
    "        return \"Данные из БД\"\n",
    "\n",
    "    def write(self, data):\n",
    "        print(f\"Запись в БД {data}\")"
   ],
   "id": "8494cda794b8a9c0"
  },
  {
   "metadata": {},
   "cell_type": "markdown",
   "source": "# Занятие 5 - декораторы методов",
   "id": "256cfd5f3c1c2d66"
  },
  {
   "metadata": {},
   "cell_type": "markdown",
   "source": [
    "**`@classmethod` - методы класса**\n",
    "- Его можно вызывать напрямую в формате `Class.Method()`\n",
    "- Например `Vector.validate(5)`\n",
    "- Плюс нельзя работать с атрибутами экземпляра класса\n",
    "\n",
    "**`@staticmethod` - статические методы**\n",
    "- Они не имеют доступа ни к атрибутам класса ни к атрибутам его экземпляра.\n",
    "- Создается некая независимая функция объявленная внутри класса\n"
   ],
   "id": "2063614697b1c7fe"
  },
  {
   "metadata": {
    "ExecuteTime": {
     "end_time": "2025-10-04T14:13:47.198611Z",
     "start_time": "2025-10-04T14:13:47.195772Z"
    }
   },
   "cell_type": "code",
   "outputs": [],
   "execution_count": 35,
   "source": [
    "class Vector:\n",
    "    MIN_COORD = 0\n",
    "    MAX_COORD = 100\n",
    "\n",
    "    @classmethod\n",
    "    def validate(cls, arg):\n",
    "        return cls.MIN_COORD <= arg <= cls.MAX_COORD\n",
    "\n",
    "    def __init__(self, x, y):\n",
    "        self.x = self.y = 0\n",
    "\n",
    "        if self.validate(x) and self.validate(y):\n",
    "            self.x = x\n",
    "            self.y = y\n",
    "        print(self.norm2(self.x, self.y))\n",
    "\n",
    "    def get_coords(self):\n",
    "        return self.x, self.y\n",
    "\n",
    "    @staticmethod\n",
    "    def norm2(x, y):\n",
    "        return x*x + y*y\n"
   ],
   "id": "9a5d0e4b9401f5d9"
  },
  {
   "metadata": {
    "ExecuteTime": {
     "end_time": "2025-10-04T14:14:11.826185Z",
     "start_time": "2025-10-04T14:14:11.822876Z"
    }
   },
   "cell_type": "code",
   "outputs": [
    {
     "name": "stdout",
     "output_type": "stream",
     "text": [
      "500\n",
      "61\n",
      "(10, 20)\n"
     ]
    }
   ],
   "execution_count": 37,
   "source": [
    "v = Vector(10,20)\n",
    "print(Vector.norm2(5,6))\n",
    "res = Vector.get_coords(v)\n",
    "print(res)"
   ],
   "id": "4309c85c61a412e7"
  },
  {
   "metadata": {},
   "cell_type": "markdown",
   "source": "# Занятие 6 - Инкапсуляция",
   "id": "1ab1f1f752333ec9"
  },
  {
   "metadata": {},
   "cell_type": "markdown",
   "source": [
    "**Режимы доступа `public`, `private`, `protected`**\n",
    "\n",
    "- `attribute` (без подчеркиваний) = `public`\n",
    "- `_attribute` (одно подчеркивание) = `protected`\n",
    "- `__attribute` (два подчеркивания) = `private`"
   ],
   "id": "40f038103bd52c62"
  },
  {
   "metadata": {
    "ExecuteTime": {
     "end_time": "2025-10-04T14:35:33.158710Z",
     "start_time": "2025-10-04T14:35:33.156087Z"
    }
   },
   "cell_type": "code",
   "outputs": [],
   "execution_count": 5,
   "source": [
    "class Point():\n",
    "    def __init__(self, x=0, y=0):\n",
    "        self.x = x\n",
    "        self.y = y\n"
   ],
   "id": "5c8cf5cffcf73d80"
  },
  {
   "metadata": {
    "ExecuteTime": {
     "end_time": "2025-10-04T14:35:33.519471Z",
     "start_time": "2025-10-04T14:35:33.516982Z"
    }
   },
   "cell_type": "code",
   "outputs": [],
   "execution_count": 6,
   "source": "pt = Point(1, 2)",
   "id": "18539adad8ae2a26"
  },
  {
   "metadata": {
    "ExecuteTime": {
     "end_time": "2025-10-04T14:35:33.901915Z",
     "start_time": "2025-10-04T14:35:33.899638Z"
    }
   },
   "cell_type": "code",
   "outputs": [],
   "execution_count": 7,
   "source": [
    "pt.x = 200\n",
    "pt.y = 'coords'"
   ],
   "id": "69b2744d28f9675"
  },
  {
   "metadata": {
    "ExecuteTime": {
     "end_time": "2025-10-04T14:35:34.815451Z",
     "start_time": "2025-10-04T14:35:34.812555Z"
    }
   },
   "cell_type": "code",
   "outputs": [
    {
     "name": "stdout",
     "output_type": "stream",
     "text": [
      "200 coords\n"
     ]
    }
   ],
   "execution_count": 8,
   "source": "print(pt.x, pt.y)",
   "id": "d64b0507cb592533"
  },
  {
   "metadata": {},
   "cell_type": "code",
   "outputs": [],
   "execution_count": null,
   "source": "",
   "id": "995817a4672bd0f6"
  }
 ],
 "metadata": {
  "kernelspec": {
   "display_name": "Python 3",
   "language": "python",
   "name": "python3"
  },
  "language_info": {
   "codemirror_mode": {
    "name": "ipython",
    "version": 2
   },
   "file_extension": ".py",
   "mimetype": "text/x-python",
   "name": "python",
   "nbconvert_exporter": "python",
   "pygments_lexer": "ipython2",
   "version": "2.7.6"
  }
 },
 "nbformat": 4,
 "nbformat_minor": 5
}
